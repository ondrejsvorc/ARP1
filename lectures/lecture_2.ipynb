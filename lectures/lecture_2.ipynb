{
 "cells": [
  {
   "cell_type": "code",
   "execution_count": 1,
   "metadata": {},
   "outputs": [
    {
     "data": {
      "text/plain": [
       "'Toto je řetězec'"
      ]
     },
     "execution_count": 1,
     "metadata": {},
     "output_type": "execute_result"
    }
   ],
   "source": [
    "\"Toto je řetězec\""
   ]
  },
  {
   "cell_type": "code",
   "execution_count": 2,
   "metadata": {},
   "outputs": [
    {
     "data": {
      "text/plain": [
       "'Toto je také řetězec'"
      ]
     },
     "execution_count": 2,
     "metadata": {},
     "output_type": "execute_result"
    }
   ],
   "source": [
    "\"Toto je také řetězec\""
   ]
  },
  {
   "cell_type": "code",
   "execution_count": 3,
   "metadata": {},
   "outputs": [
    {
     "data": {
      "text/plain": [
       "'Toto je další řetězec'"
      ]
     },
     "execution_count": 3,
     "metadata": {},
     "output_type": "execute_result"
    }
   ],
   "source": [
    "\"\"\"Toto je další řetězec\"\"\""
   ]
  },
  {
   "cell_type": "code",
   "execution_count": 5,
   "metadata": {},
   "outputs": [
    {
     "data": {
      "text/plain": [
       "\"Toto je apostrof -> '\""
      ]
     },
     "execution_count": 5,
     "metadata": {},
     "output_type": "execute_result"
    }
   ],
   "source": [
    "# Apostrof uvnitř řetězce\n",
    "\"Toto je apostrof -> '\""
   ]
  },
  {
   "cell_type": "code",
   "execution_count": 6,
   "metadata": {},
   "outputs": [
    {
     "data": {
      "text/plain": [
       "'Toto je řetězec s uvozovkou \" a apostrofem \\''"
      ]
     },
     "execution_count": 6,
     "metadata": {},
     "output_type": "execute_result"
    }
   ],
   "source": [
    "\"\"\"Toto je řetězec s uvozovkou \" a apostrofem \\'\"\"\""
   ]
  },
  {
   "cell_type": "code",
   "execution_count": 7,
   "metadata": {},
   "outputs": [
    {
     "data": {
      "text/plain": [
       "'Toto také funguje'"
      ]
     },
     "execution_count": 7,
     "metadata": {},
     "output_type": "execute_result"
    }
   ],
   "source": [
    "\"\"\"Toto také funguje\"\"\""
   ]
  },
  {
   "cell_type": "code",
   "execution_count": 14,
   "metadata": {},
   "outputs": [
    {
     "data": {
      "text/plain": [
       "'Toto je odřádkování \\n a toto je \\t tabulátor'"
      ]
     },
     "execution_count": 14,
     "metadata": {},
     "output_type": "execute_result"
    }
   ],
   "source": [
    "# Escape sekvence\n",
    "# \\n - odřádkování\n",
    "# \\n - tabulátor\n",
    "\n",
    "\"Toto je odřádkování \\n a toto je \\t tabulátor\""
   ]
  },
  {
   "cell_type": "code",
   "execution_count": 22,
   "metadata": {},
   "outputs": [
    {
     "name": "stdout",
     "output_type": "stream",
     "text": [
      "Ť\n",
      "🐘\n"
     ]
    }
   ],
   "source": [
    "# Unicode reprezentace znaků (viz Mapa znaků) - zapisuje se hexadecimálně\n",
    "# \\u + 4 číslice\n",
    "# \\U + 8 číslic\n",
    "\n",
    "print(\"\\u0164\")\n",
    "print(\"\\U0001F418\")"
   ]
  },
  {
   "cell_type": "code",
   "execution_count": 26,
   "metadata": {},
   "outputs": [
    {
     "data": {
      "text/plain": [
       "'Toto je víceřádkový\\nřetězec\\n'"
      ]
     },
     "execution_count": 26,
     "metadata": {},
     "output_type": "execute_result"
    }
   ],
   "source": [
    "\"\"\"Toto je víceřádkový\n",
    "řetězec\n",
    "\"\"\""
   ]
  },
  {
   "cell_type": "code",
   "execution_count": 28,
   "metadata": {},
   "outputs": [
    {
     "data": {
      "text/plain": [
       "28"
      ]
     },
     "execution_count": 28,
     "metadata": {},
     "output_type": "execute_result"
    }
   ],
   "source": [
    "# Fyzicky vidíme 3 řádky, ale logicky je to bráno jako jeden\n",
    "\n",
    "len(\n",
    "    \"\"\"Toto je víceřádkový\n",
    "řetězec\n",
    "\"\"\"\n",
    ")"
   ]
  },
  {
   "cell_type": "code",
   "execution_count": 33,
   "metadata": {},
   "outputs": [
    {
     "data": {
      "text/plain": [
       "3"
      ]
     },
     "execution_count": 33,
     "metadata": {},
     "output_type": "execute_result"
    }
   ],
   "source": [
    "# I toto je možné v Pythonu - bez závorek by to bylo bráno jako dva různé řádky a nefungovalo by to\n",
    "# Nicméně, závorkami řekneme, že se jedná o jeden logický řádek.\n",
    "\n",
    "# (1 +\n",
    "#  2)"
   ]
  },
  {
   "cell_type": "code",
   "execution_count": 36,
   "metadata": {},
   "outputs": [
    {
     "ename": "IndexError",
     "evalue": "string index out of range",
     "output_type": "error",
     "traceback": [
      "\u001b[1;31m---------------------------------------------------------------------------\u001b[0m",
      "\u001b[1;31mIndexError\u001b[0m                                Traceback (most recent call last)",
      "\u001b[1;32mc:\\Users\\ondre\\source\\repos\\git\\ARP1\\lectures\\lecture_2.ipynb Cell 12\u001b[0m line \u001b[0;36m2\n\u001b[0;32m      <a href='vscode-notebook-cell:/c%3A/Users/ondre/source/repos/git/ARP1/lectures/lecture_2.ipynb#X21sZmlsZQ%3D%3D?line=0'>1</a>\u001b[0m \u001b[39m# Program neví, jak reagovat - vyvolá výjimku (vytvoří objekt výjimky)\u001b[39;00m\n\u001b[1;32m----> <a href='vscode-notebook-cell:/c%3A/Users/ondre/source/repos/git/ARP1/lectures/lecture_2.ipynb#X21sZmlsZQ%3D%3D?line=1'>2</a>\u001b[0m \u001b[39m\"\u001b[39;49m\u001b[39mřetězec\u001b[39;49m\u001b[39m\"\u001b[39;49m[\u001b[39m50\u001b[39;49m]\n",
      "\u001b[1;31mIndexError\u001b[0m: string index out of range"
     ]
    }
   ],
   "source": [
    "# Program neví, jak reagovat - vyvolá výjimku (vytvoří objekt výjimky)\n",
    "\"řetězec\"[50]"
   ]
  },
  {
   "cell_type": "code",
   "execution_count": 39,
   "metadata": {},
   "outputs": [
    {
     "name": "stdout",
     "output_type": "stream",
     "text": [
      "f\n",
      "l\n"
     ]
    }
   ],
   "source": [
    "# V Pythonu lze indexovat od zadu\n",
    "\n",
    "print(\"Gandalf\"[-1])  # poslední prvek\n",
    "print(\"Gandalf\"[-2])  # předposlední prvek"
   ]
  },
  {
   "cell_type": "code",
   "execution_count": 44,
   "metadata": {},
   "outputs": [
    {
     "name": "stdout",
     "output_type": "stream",
     "text": [
      "x = 2\n",
      "y = 2\n",
      "x = 3\n",
      "y = 2\n"
     ]
    }
   ],
   "source": [
    "# 1. Vznikne objekt třídy int (tedy dvojka)\n",
    "# 2. Vznikne proměnná x, která odkazuje na objekt dvojky\n",
    "# 3. Vznikne proměnná y, která odkazuje na stejný objekt, na který odkazuje x, tedy na dvojku.\n",
    "x = 2\n",
    "y = x\n",
    "\n",
    "print(f\"{x = }\")\n",
    "print(f\"{y = }\")\n",
    "\n",
    "# 1. Vznikne objekt třídy int (tedy trojka)\n",
    "# 2. Původní odkaz proměnné x na objekt dvojky se přesměruje na objekt trojky\n",
    "# 3. Původní objekt dvojky zmizí (pokud na ní neodkazuje jiný objekt - y na něj odkazuje, tudíž nezmizí)\n",
    "# nezmizí ale ihned, stará se o to garbage collector, který je smaže jakmile uzná za vhodné\n",
    "# nemaže jeden objekt - vyčká, jakmile jich bude dostatek\n",
    "\n",
    "# 3 fáze\n",
    "# 1. objekt existuje\n",
    "# 2. nedostupný, zanikne logicky\n",
    "# 3. zanikne fyzicky\n",
    "x = 3\n",
    "\n",
    "print(f\"{x = }\")\n",
    "print(f\"{y = }\")"
   ]
  },
  {
   "cell_type": "code",
   "execution_count": 46,
   "metadata": {},
   "outputs": [
    {
     "data": {
      "text/plain": [
       "'G'"
      ]
     },
     "execution_count": 46,
     "metadata": {},
     "output_type": "execute_result"
    }
   ],
   "source": [
    "jmeno = \"Gandalf\"\n",
    "\n",
    "# 1. Vznikne nový objekt třídy string\n",
    "# 2. Vypíše se\n",
    "# 3. Zanikne\n",
    "jmeno[0]"
   ]
  },
  {
   "cell_type": "code",
   "execution_count": 49,
   "metadata": {},
   "outputs": [
    {
     "data": {
      "text/plain": [
       "5"
      ]
     },
     "execution_count": 49,
     "metadata": {},
     "output_type": "execute_result"
    }
   ],
   "source": [
    "x = 1\n",
    "y = 2\n",
    "\n",
    "# 1. Objekt 2 se vynásobí sám se sebou (protože proměnná y odkazuje na stejný objekt - na dvojku)\n",
    "# 2. K tomu se přičte hodnota proměnné x, tedy objekt jedna\n",
    "x + 2 * y"
   ]
  },
  {
   "cell_type": "code",
   "execution_count": 50,
   "metadata": {},
   "outputs": [],
   "source": [
    "# Pořadí priorit (seřazeno od nejprioritnějšího po nejméně prioritní)\n",
    "\n",
    "# unární operátory (-, not)\n",
    "# multiplikativní (*, /, %)\n",
    "# aditivní (+, - tedy mínus jako binární operátor - binární proto, protože přičítá/odečítá dvě čísla)\n",
    "# relační operátory (<, >, ...)\n",
    "# logické operátory (and, or)"
   ]
  },
  {
   "cell_type": "code",
   "execution_count": 69,
   "metadata": {},
   "outputs": [
    {
     "name": "stdout",
     "output_type": "stream",
     "text": [
      "Číslo 5 je liché.\n"
     ]
    }
   ],
   "source": [
    "# Program, který zjistí, jestli je číslo sudé, nebo liché\n",
    "\n",
    "user_input = input(\"Zadej číslo: \")\n",
    "number = int(user_input)\n",
    "\n",
    "is_even = number % 2 == 0\n",
    "result = \"sudé\" if is_even else \"liché\"\n",
    "\n",
    "print(f\"Číslo {number} je {result}.\")"
   ]
  },
  {
   "cell_type": "code",
   "execution_count": 70,
   "metadata": {},
   "outputs": [
    {
     "name": "stdout",
     "output_type": "stream",
     "text": [
      "text text text text text text text text text text \n",
      "text!\n"
     ]
    }
   ],
   "source": [
    "text = \"text\"\n",
    "\n",
    "# Zde zafungoval polymorfismus (operace s objektem se chovají podle toho, s jakým objektem pracují)\n",
    "print(f\"{text} \" * 10)\n",
    "print(text + \"!\")"
   ]
  },
  {
   "cell_type": "code",
   "execution_count": 72,
   "metadata": {},
   "outputs": [
    {
     "name": "stdout",
     "output_type": "stream",
     "text": [
      "Věta má 4 slova.\n"
     ]
    }
   ],
   "source": [
    "# Program, který zjistí, kolik obsahuje řetězec slov\n",
    "# (jde to i jednodušeji - splitování na seznam je operace navíc)\n",
    "\n",
    "user_input = input(\"Zadej větu: \")\n",
    "words = user_input.split(\" \")\n",
    "\n",
    "print(f\"Věta má {len(words)} slova.\")"
   ]
  }
 ],
 "metadata": {
  "kernelspec": {
   "display_name": "Python 3",
   "language": "python",
   "name": "python3"
  },
  "language_info": {
   "codemirror_mode": {
    "name": "ipython",
    "version": 3
   },
   "file_extension": ".py",
   "mimetype": "text/x-python",
   "name": "python",
   "nbconvert_exporter": "python",
   "pygments_lexer": "ipython3",
   "version": "3.12.0"
  }
 },
 "nbformat": 4,
 "nbformat_minor": 2
}
