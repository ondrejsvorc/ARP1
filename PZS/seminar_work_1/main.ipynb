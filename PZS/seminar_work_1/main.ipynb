{
 "cells": [
  {
   "cell_type": "markdown",
   "metadata": {},
   "source": [
    "### 1. Výpočet tepové frekvence z EKG signálu"
   ]
  },
  {
   "cell_type": "code",
   "execution_count": 1,
   "metadata": {},
   "outputs": [],
   "source": [
    "import wfdb\n",
    "from wfdb import Record\n",
    "import numpy as np\n",
    "import pandas as pd\n",
    "import matplotlib.pyplot as plt"
   ]
  },
  {
   "cell_type": "code",
   "execution_count": 2,
   "metadata": {},
   "outputs": [],
   "source": [
    "import sys\n",
    "import subprocess\n",
    "\n",
    "\n",
    "def install_and_import(package):\n",
    "    if package not in sys.modules:\n",
    "        subprocess.check_call([sys.executable, \"-m\", \"pip\", \"install\", package])\n",
    "    globals()[package] = __import__(package)\n",
    "\n",
    "\n",
    "install_and_import(\"ipywidgets\")\n",
    "from ipywidgets import interact, FloatSlider"
   ]
  },
  {
   "cell_type": "code",
   "execution_count": null,
   "metadata": {},
   "outputs": [],
   "source": [
    "# Vstupní data: https://physionet.org/content/butqdb/1.0.0/\n",
    "# Testovací databáze: https://physionet.org/content/nsrdb/1.0.0/"
   ]
  },
  {
   "cell_type": "code",
   "execution_count": 47,
   "metadata": {},
   "outputs": [],
   "source": [
    "def load_ecg(file_name: str) -> Record:\n",
    "    ecg = wfdb.rdrecord(file_name)\n",
    "    return ecg\n",
    "\n",
    "\n",
    "def ecg_info(ecg: Record):\n",
    "    info = [\n",
    "        [\"Název souboru\", ecg.record_name],\n",
    "        [\"Vzorkovací frekvence (Hz)\", ecg.fs],\n",
    "        [\"Délka signálu (vzorky)\", ecg.sig_len],\n",
    "        [\"Počet kanálů\", ecg.n_sig],\n",
    "        [\"Názvy kanálů\", \", \".join(ecg.sig_name)],\n",
    "        [\"Jednotky pro každý kanál\", \", \".join(ecg.units)],\n",
    "    ]\n",
    "\n",
    "    info_df = pd.DataFrame(info, columns=[\"Informace\", \"Hodnota\"])\n",
    "    display(info_df)\n",
    "\n",
    "\n",
    "def ecg_plot(ecg: Record):\n",
    "    signal = ecg.p_signal.ravel()\n",
    "    total_length_sec = len(signal) / ecg.fs\n",
    "\n",
    "    def plot_segment(start_sec, end_sec):\n",
    "        if end_sec <= start_sec:\n",
    "            print(\"Čas konce musí být větší než čas začátku.\")\n",
    "            return\n",
    "        sample_start = int(start_sec * ecg.fs)\n",
    "        sample_end = int(min(end_sec * ecg.fs, len(signal)))\n",
    "        segment = signal[sample_start:sample_end]\n",
    "        time_axis = np.arange(sample_start, sample_end) / ecg.fs\n",
    "        plt.figure(figsize=(8, 5))\n",
    "        plt.plot(time_axis, segment)\n",
    "        plt.title(f\"ECG: {start_sec:.1f} s až {end_sec:.1f} s\")\n",
    "        plt.xlabel(\"Čas (s)\")\n",
    "        plt.ylabel(\"Amplituda (µV)\")\n",
    "        plt.grid(True)\n",
    "        plt.show()\n",
    "\n",
    "    interact(\n",
    "        plot_segment,\n",
    "        start_sec=FloatSlider(\n",
    "            min=0,\n",
    "            max=max(0, total_length_sec - 1),\n",
    "            step=1.0,\n",
    "            value=0,\n",
    "            description=\"Začátek (s)\",\n",
    "        ),\n",
    "        end_sec=FloatSlider(\n",
    "            min=1,\n",
    "            max=total_length_sec,\n",
    "            step=1.0,\n",
    "            value=10.0,\n",
    "            description=\"Konec (s)\",\n",
    "        ),\n",
    "    )"
   ]
  },
  {
   "cell_type": "code",
   "execution_count": 48,
   "metadata": {},
   "outputs": [],
   "source": [
    "ecg_100001 = load_ecg(\"100001_ECG\")"
   ]
  },
  {
   "cell_type": "code",
   "execution_count": 49,
   "metadata": {},
   "outputs": [
    {
     "data": {
      "text/html": [
       "<div>\n",
       "<style scoped>\n",
       "    .dataframe tbody tr th:only-of-type {\n",
       "        vertical-align: middle;\n",
       "    }\n",
       "\n",
       "    .dataframe tbody tr th {\n",
       "        vertical-align: top;\n",
       "    }\n",
       "\n",
       "    .dataframe thead th {\n",
       "        text-align: right;\n",
       "    }\n",
       "</style>\n",
       "<table border=\"1\" class=\"dataframe\">\n",
       "  <thead>\n",
       "    <tr style=\"text-align: right;\">\n",
       "      <th></th>\n",
       "      <th>Informace</th>\n",
       "      <th>Hodnota</th>\n",
       "    </tr>\n",
       "  </thead>\n",
       "  <tbody>\n",
       "    <tr>\n",
       "      <th>0</th>\n",
       "      <td>Název souboru</td>\n",
       "      <td>100001_ECG</td>\n",
       "    </tr>\n",
       "    <tr>\n",
       "      <th>1</th>\n",
       "      <td>Vzorkovací frekvence (Hz)</td>\n",
       "      <td>1000</td>\n",
       "    </tr>\n",
       "    <tr>\n",
       "      <th>2</th>\n",
       "      <td>Délka signálu (vzorky)</td>\n",
       "      <td>87087000</td>\n",
       "    </tr>\n",
       "    <tr>\n",
       "      <th>3</th>\n",
       "      <td>Počet kanálů</td>\n",
       "      <td>1</td>\n",
       "    </tr>\n",
       "    <tr>\n",
       "      <th>4</th>\n",
       "      <td>Názvy kanálů</td>\n",
       "      <td>ECG</td>\n",
       "    </tr>\n",
       "    <tr>\n",
       "      <th>5</th>\n",
       "      <td>Jednotky pro každý kanál</td>\n",
       "      <td>uV</td>\n",
       "    </tr>\n",
       "  </tbody>\n",
       "</table>\n",
       "</div>"
      ],
      "text/plain": [
       "                   Informace     Hodnota\n",
       "0              Název souboru  100001_ECG\n",
       "1  Vzorkovací frekvence (Hz)        1000\n",
       "2     Délka signálu (vzorky)    87087000\n",
       "3               Počet kanálů           1\n",
       "4               Názvy kanálů         ECG\n",
       "5   Jednotky pro každý kanál          uV"
      ]
     },
     "metadata": {},
     "output_type": "display_data"
    }
   ],
   "source": [
    "ecg_info(ecg_100001)"
   ]
  },
  {
   "cell_type": "code",
   "execution_count": 50,
   "metadata": {},
   "outputs": [
    {
     "data": {
      "application/vnd.jupyter.widget-view+json": {
       "model_id": "927e6b3a257744bfad71de5ddf29a520",
       "version_major": 2,
       "version_minor": 0
      },
      "text/plain": [
       "interactive(children=(FloatSlider(value=0.0, description='Začátek (s)', max=87086.0, step=1.0), FloatSlider(va…"
      ]
     },
     "metadata": {},
     "output_type": "display_data"
    }
   ],
   "source": [
    "# Při manuálním zadáváním hodnot nutné stisknout ENTER pro potvrzení.\n",
    "# Při většinách hodnotách je nutné chvíli počkat.\n",
    "ecg_plot(ecg_100001)"
   ]
  }
 ],
 "metadata": {
  "kernelspec": {
   "display_name": "Python 3",
   "language": "python",
   "name": "python3"
  },
  "language_info": {
   "codemirror_mode": {
    "name": "ipython",
    "version": 3
   },
   "file_extension": ".py",
   "mimetype": "text/x-python",
   "name": "python",
   "nbconvert_exporter": "python",
   "pygments_lexer": "ipython3",
   "version": "3.10.0"
  }
 },
 "nbformat": 4,
 "nbformat_minor": 2
}
