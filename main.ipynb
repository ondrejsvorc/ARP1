{
 "cells": [
  {
   "cell_type": "code",
   "execution_count": null,
   "metadata": {},
   "outputs": [
    {
     "name": "stdout",
     "output_type": "stream",
     "text": [
      "You are beautiful.\n"
     ]
    },
    {
     "ename": "",
     "evalue": "",
     "output_type": "error",
     "traceback": [
      "\u001b[1;31mCanceled future for execute_request message before replies were done"
     ]
    }
   ],
   "source": [
    "# Print defined text.\n",
    "print(\"You are beautiful.\")"
   ]
  },
  {
   "cell_type": "code",
   "execution_count": null,
   "metadata": {},
   "outputs": [
    {
     "name": "stdout",
     "output_type": "stream",
     "text": [
      "Peter is the best.\n"
     ]
    }
   ],
   "source": [
    "# Define motivational sentence.\n",
    "motivational_sentence = \"is the best.\"\n",
    "\n",
    "# Get user input.\n",
    "name = input(\"What's your name?\")\n",
    "\n",
    "# Tell user he's beautiful.\n",
    "print(name + \" \" + motivational_sentence)"
   ]
  },
  {
   "cell_type": "code",
   "execution_count": 1,
   "metadata": {},
   "outputs": [
    {
     "name": "stdout",
     "output_type": "stream",
     "text": [
      "11\n"
     ]
    }
   ],
   "source": [
    "# Get numbers.\n",
    "number_first = input(\"First number: \")\n",
    "number_second = input(\"Second number: \")\n",
    "\n",
    "# Parse numbers.\n",
    "number_first_parsed = int(number_first)\n",
    "number_second_parsed = int(number_second)\n",
    "\n",
    "# Get numbers sum.\n",
    "sum = number_first_parsed + number_second_parsed\n",
    "\n",
    "# Print out sum.\n",
    "print(sum)"
   ]
  },
  {
   "cell_type": "code",
   "execution_count": 13,
   "metadata": {},
   "outputs": [
    {
     "name": "stdout",
     "output_type": "stream",
     "text": [
      "Peter, you are 16 and your estimated age is 68.\n"
     ]
    }
   ],
   "source": [
    "import random\n",
    "\n",
    "name = input(\"Your name: \")\n",
    "age = input(\"Your age: \")\n",
    "\n",
    "age_min = int(age) + 1\n",
    "AGE_MAX = 120\n",
    "\n",
    "age_estimated = random.randint(age_min, AGE_MAX)\n",
    "age_estimation = f\"{name}, you are {age} and your estimated age is {age_estimated}.\"\n",
    "\n",
    "print(age_estimation)"
   ]
  },
  {
   "cell_type": "code",
   "execution_count": 17,
   "metadata": {},
   "outputs": [
    {
     "name": "stdout",
     "output_type": "stream",
     "text": [
      "je pravouhly\n"
     ]
    }
   ],
   "source": [
    "prepona = float(input(\"Délka přepony: \"))\n",
    "\n",
    "prvni_odvesna = float(input(\"Délka první odvěsny: \"))\n",
    "druha_odvesna = float(input(\"Délka druhé odvěsny: \"))\n",
    "\n",
    "mocnina = 2\n",
    "\n",
    "umocnena_prepona = prepona**mocnina   \n",
    "soucet_umocnenych_odvesen = prvni_odvesna**mocnina + druha_odvesna**mocnina\n",
    "\n",
    "je_pravouhly = (umocnena_prepona == soucet_umocnenych_odvesen)\n",
    "\n",
    "print (\"pravouhlý\" if je_pravouhly else \"nepravouhlý\")"
   ]
  }
 ],
 "metadata": {
  "kernelspec": {
   "display_name": "Python 3",
   "language": "python",
   "name": "python3"
  },
  "language_info": {
   "codemirror_mode": {
    "name": "ipython",
    "version": 3
   },
   "file_extension": ".py",
   "mimetype": "text/x-python",
   "name": "python",
   "nbconvert_exporter": "python",
   "pygments_lexer": "ipython3",
   "version": "3.12.0"
  }
 },
 "nbformat": 4,
 "nbformat_minor": 2
}
