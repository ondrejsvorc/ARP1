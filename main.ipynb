{
 "cells": [
  {
   "cell_type": "code",
   "execution_count": 1,
   "metadata": {},
   "outputs": [
    {
     "name": "stdout",
     "output_type": "stream",
     "text": [
      "You are beautiful.\n"
     ]
    }
   ],
   "source": [
    "print(\"You are beautiful.\")"
   ]
  },
  {
   "cell_type": "code",
   "execution_count": 2,
   "metadata": {},
   "outputs": [
    {
     "name": "stdout",
     "output_type": "stream",
     "text": [
      "Peter is the best.\n"
     ]
    }
   ],
   "source": [
    "motivational_sentence = \"is the best.\"\n",
    "\n",
    "name = input(\"What's your name?\")\n",
    "\n",
    "print(f\"{name} {motivational_sentence}\")"
   ]
  },
  {
   "cell_type": "code",
   "execution_count": 3,
   "metadata": {},
   "outputs": [
    {
     "name": "stdout",
     "output_type": "stream",
     "text": [
      "20\n"
     ]
    }
   ],
   "source": [
    "number_first = int(input(\"First number: \"))\n",
    "number_second = int(input(\"Second number: \"))\n",
    "\n",
    "sum = number_first + number_second\n",
    "\n",
    "print(sum)"
   ]
  },
  {
   "cell_type": "code",
   "execution_count": 4,
   "metadata": {},
   "outputs": [
    {
     "name": "stdout",
     "output_type": "stream",
     "text": [
      "Peter, you are 16 and your estimated age is 94.\n"
     ]
    }
   ],
   "source": [
    "import random\n",
    "\n",
    "name = input(\"Your name: \")\n",
    "age = input(\"Your age: \")\n",
    "\n",
    "age_min = int(age) + 1\n",
    "AGE_MAX = 120\n",
    "\n",
    "age_estimated = random.randint(age_min, AGE_MAX)\n",
    "age_estimation = f\"{name}, you are {age} and your estimated age is {age_estimated}.\"\n",
    "\n",
    "print(age_estimation)"
   ]
  },
  {
   "cell_type": "code",
   "execution_count": 5,
   "metadata": {},
   "outputs": [
    {
     "name": "stdout",
     "output_type": "stream",
     "text": [
      "Not a right triangle.\n"
     ]
    }
   ],
   "source": [
    "hypotenuse  = float(input(\"Enter the length of the hypotenuse: \"))\n",
    "\n",
    "leg_first = float(input(\"Enter the length of the first leg: \"))\n",
    "leg_second = float(input(\"Enter the length of the second leg: \"))\n",
    "\n",
    "exponent = 2\n",
    "\n",
    "hypotenuse_squared = hypotenuse**exponent   \n",
    "legs_squared_sum = leg_first**exponent + leg_second**exponent\n",
    "\n",
    "is_right_triangle = (hypotenuse_squared == legs_squared_sum)\n",
    "\n",
    "print (\"A right triangle!\" if is_right_triangle else \"Not a right triangle.\")"
   ]
  }
 ],
 "metadata": {
  "kernelspec": {
   "display_name": "Python 3",
   "language": "python",
   "name": "python3"
  },
  "language_info": {
   "codemirror_mode": {
    "name": "ipython",
    "version": 3
   },
   "file_extension": ".py",
   "mimetype": "text/x-python",
   "name": "python",
   "nbconvert_exporter": "python",
   "pygments_lexer": "ipython3",
   "version": "3.12.0"
  }
 },
 "nbformat": 4,
 "nbformat_minor": 2
}
