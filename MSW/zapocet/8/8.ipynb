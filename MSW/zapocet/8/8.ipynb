{
 "cells": [
  {
   "cell_type": "markdown",
   "metadata": {},
   "source": [
    "### 8. Derivace funkce jedné proměnné\n",
    "\n",
    "#### Zadání:\n",
    "Numerická derivace je velice krátké téma. V hodinách jste se dozvěděli o nejvyužívanějších typech numerické derivace (dopředná, zpětná, centrální). Jedno z neřešených témat na hodinách byl problém volby kroku. V praxi je vhodné mít krok dynamicky nastavitelný. Algoritmům tohoto typu se říká derivace s adaptabilním krokem. Cílem tohoto zadání je napsat program, který provede numerickou derivaci s adaptabilním krokem pro vámi vybranou funkci. Proveďte srovnání se statickým krokem a analytickým řešením."
   ]
  },
  {
   "cell_type": "markdown",
   "metadata": {},
   "source": [
    "#### Vypracované řešení\n",
    "1. Dopředná numerická derivace\n",
    "2. Zpětná numerická derivace\n",
    "3. Centrální numerická derivace\n",
    "4. Derivace s adaptabilním krokem"
   ]
  },
  {
   "cell_type": "code",
   "execution_count": 23,
   "metadata": {},
   "outputs": [],
   "source": [
    "# https://www.sheffield.ac.uk/media/30837/download?attachment"
   ]
  },
  {
   "cell_type": "code",
   "execution_count": 34,
   "metadata": {},
   "outputs": [
    {
     "name": "stdout",
     "output_type": "stream",
     "text": [
      "Analytická derivace: 4.4399999999999995\n",
      "Numerická derivace s adaptabilním krokem: 4.439999999012798\n"
     ]
    }
   ],
   "source": [
    "# Dopředná numerická derivace\n",
    "def numerical_forward_derivation(f, x, h):\n",
    "    assert h != 0\n",
    "    return (f(x + h) - f(x)) / h\n",
    "\n",
    "\n",
    "# Zpětná numerická derivace\n",
    "def numerical_backward_derivation(f, x, h):\n",
    "    assert h != 0\n",
    "    return (f(x) - f(x - h)) / h\n",
    "\n",
    "\n",
    "# Centrální numerická derivace\n",
    "def numerical_central_derivation(f, x, h):\n",
    "    assert h != 0\n",
    "    return (f(x + h) - f(x - h)) / (2 * h)\n",
    "\n",
    "\n",
    "# Derivace s adaptabilním krokem\n",
    "def adaptive_step_derivation(f, x, h, tolerance):\n",
    "    error = tolerance + 1\n",
    "    while error > tolerance:\n",
    "        forward = numerical_forward_derivation(f, x, h)\n",
    "        central = numerical_central_derivation(f, x, h)\n",
    "        backward = numerical_backward_derivation(f, x, h)\n",
    "        h /= 2\n",
    "        error = abs(backward - forward)\n",
    "    return central\n",
    "\n",
    "\n",
    "f = lambda x: x**2 + 2 * x + 2\n",
    "f_analytical_derivation = lambda x: 2 * x + 2\n",
    "\n",
    "x = 1.22\n",
    "h = 0.1\n",
    "tolerance = 0.000001\n",
    "\n",
    "analytical_derivation_result = f_analytical_derivation(x)\n",
    "adaptive_step_derivation_result = adaptive_step_derivation(f, x, h, tolerance)\n",
    "\n",
    "print(f\"Analytická derivace: {analytical_derivation_result}\")\n",
    "print(f\"Numerická derivace s adaptabilním krokem: {adaptive_step_derivation_result}\")"
   ]
  },
  {
   "cell_type": "code",
   "execution_count": 35,
   "metadata": {},
   "outputs": [
    {
     "name": "stdout",
     "output_type": "stream",
     "text": [
      "f(x) = x^2 + 2x + 2\n",
      "(f(x))' = (x^2 + 2x + 2)'\n",
      "(f(x))' = 2*x + 2\n"
     ]
    },
    {
     "data": {
      "text/latex": [
       "$\\displaystyle 2 x + 2$"
      ],
      "text/plain": [
       "2*x + 2"
      ]
     },
     "execution_count": 35,
     "metadata": {},
     "output_type": "execute_result"
    }
   ],
   "source": [
    "from sympy import symbols, diff\n",
    "\n",
    "x = symbols(\"x\")\n",
    "f = x**2 + 2 * x + 2\n",
    "f_derivative = diff(f, x)\n",
    "\n",
    "print(\"f(x) = x^2 + 2x + 2\")\n",
    "print(\"(f(x))' = (x^2 + 2x + 2)'\")\n",
    "print(f\"(f(x))' = {f_derivative}\")\n",
    "\n",
    "f_derivative"
   ]
  }
 ],
 "metadata": {
  "kernelspec": {
   "display_name": "Python 3",
   "language": "python",
   "name": "python3"
  },
  "language_info": {
   "codemirror_mode": {
    "name": "ipython",
    "version": 3
   },
   "file_extension": ".py",
   "mimetype": "text/x-python",
   "name": "python",
   "nbconvert_exporter": "python",
   "pygments_lexer": "ipython3",
   "version": "3.10.0"
  }
 },
 "nbformat": 4,
 "nbformat_minor": 2
}
