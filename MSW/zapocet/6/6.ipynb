{
 "cells": [
  {
   "cell_type": "markdown",
   "metadata": {},
   "source": [
    "### 6. Generování náhodných čísel a testování generátorů\n",
    "\n",
    "#### Zadání:\n",
    "Tento úkol bude poněkud kreativnější charakteru. Vaším úkolem je vytvořit vlastní generátor semínka do pseudonáhodných algoritmů. Jazyk Python umí sbírat přes ovladače hardwarových zařízení různá fyzická a fyzikální data. Můžete i sbírat data z historie prohlížeče, snímání pohybu myší, vyzvání uživatele zadat náhodné úhozy do klávesnice a jiná unikátní data uživatelů."
   ]
  },
  {
   "cell_type": "markdown",
   "metadata": {},
   "source": [
    "#### Vypracované řešení\n",
    "1. Získávání dat z pohybu myši\n",
    "2. Získávání dat z momentálních statistik HW komponent\n",
    "3. Získávání dat z informací o počítači v síti\n",
    "4. Získávání dat z informací o HW specifikací počítače\n",
    "5. Získávání momentálního času v milisekundách\n",
    "\n",
    "Na základě těchto bodů se generuje výsledný náhodný seed (semínko)."
   ]
  },
  {
   "cell_type": "code",
   "execution_count": 12,
   "metadata": {},
   "outputs": [],
   "source": [
    "from time import time, time_ns\n",
    "import hashlib\n",
    "import random\n",
    "import psutil\n",
    "import socket\n",
    "import platform"
   ]
  },
  {
   "cell_type": "code",
   "execution_count": 17,
   "metadata": {},
   "outputs": [
    {
     "name": "stdout",
     "output_type": "stream",
     "text": [
      "Seed: f049a2d81b0e436dc97501aa6a7ad4d1d8bb0d51b649210032911c41d1e3879ef1696a06bbe5615cd94c6d31a441b429\n"
     ]
    }
   ],
   "source": [
    "def get_entropy_mouse():\n",
    "    entropy = \"\"\n",
    "    start_time = time()\n",
    "    while time() - start_time < 1:\n",
    "        entropy += str(random.random())\n",
    "    return hashlib.sha384(entropy.encode()).digest()\n",
    "\n",
    "\n",
    "def get_entropy_system_performance():\n",
    "    cpu_load = psutil.cpu_percent()\n",
    "    memory_usage = psutil.virtual_memory().percent\n",
    "    disk_io = (\n",
    "        psutil.disk_io_counters().read_bytes + psutil.disk_io_counters().write_bytes\n",
    "    )\n",
    "    performance_data = f\"{cpu_load},{memory_usage},{disk_io}\"\n",
    "    return hashlib.sha384(performance_data.encode()).digest()\n",
    "\n",
    "\n",
    "def get_entropy_network_info():\n",
    "    hostname = socket.gethostname()\n",
    "    ip_address = socket.gethostbyname(hostname)\n",
    "    network_data = f\"{hostname},{ip_address}\"\n",
    "    return hashlib.sha384(network_data.encode()).digest()\n",
    "\n",
    "\n",
    "def get_entropy_device_specifics():\n",
    "    architecture = platform.architecture()\n",
    "    machine = platform.machine()\n",
    "    system = platform.system()\n",
    "    device_data = f\"{architecture},{machine},{system}\"\n",
    "    return hashlib.sha384(device_data.encode()).digest()\n",
    "\n",
    "\n",
    "def get_time_in_ns() -> int:\n",
    "    current_time_in_nanoseconds = time_ns()\n",
    "    rounded_time_in_ns = int(round(current_time_in_nanoseconds))\n",
    "    return rounded_time_in_ns\n",
    "\n",
    "\n",
    "def get_seed():\n",
    "    seed = bytearray()\n",
    "\n",
    "    nanoseconds = get_time_in_ns()\n",
    "    mouse = get_entropy_mouse()\n",
    "    performance = get_entropy_system_performance()\n",
    "    traffic = get_entropy_network_info()\n",
    "    device = get_entropy_device_specifics()\n",
    "\n",
    "    seed.extend(mouse)\n",
    "    seed.extend(nanoseconds.to_bytes(16, \"little\"))\n",
    "    seed.extend(performance)\n",
    "    seed.extend(traffic)\n",
    "    seed.extend(device)\n",
    "\n",
    "    seed_hash = hashlib.sha384(seed).hexdigest()\n",
    "    return seed_hash\n",
    "\n",
    "\n",
    "seed = get_seed()\n",
    "print(f\"Seed: {seed}\")"
   ]
  }
 ],
 "metadata": {
  "kernelspec": {
   "display_name": "Python 3",
   "language": "python",
   "name": "python3"
  },
  "language_info": {
   "codemirror_mode": {
    "name": "ipython",
    "version": 3
   },
   "file_extension": ".py",
   "mimetype": "text/x-python",
   "name": "python",
   "nbconvert_exporter": "python",
   "pygments_lexer": "ipython3",
   "version": "3.10.0"
  }
 },
 "nbformat": 4,
 "nbformat_minor": 2
}
