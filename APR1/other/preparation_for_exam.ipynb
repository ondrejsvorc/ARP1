{
 "cells": [
  {
   "cell_type": "code",
   "execution_count": null,
   "metadata": {},
   "outputs": [],
   "source": [
    "# Napište funkci, která přijme seznam vět. O každé větě zjistí následující 3 informace, které z funkce vrátí v seznamu trojic:\n",
    "\n",
    "# Délka věty\n",
    "# Počet samohlásek\n",
    "# Počet souhlásek\n",
    "# Tedy co věta, to jedna trojice ve výsledném seznamu."
   ]
  },
  {
   "cell_type": "code",
   "execution_count": 49,
   "metadata": {},
   "outputs": [
    {
     "data": {
      "text/plain": [
       "[(3, 3, 0), (3, 0, 3)]"
      ]
     },
     "execution_count": 49,
     "metadata": {},
     "output_type": "execute_result"
    }
   ],
   "source": [
    "import string\n",
    "from typing import List, Tuple\n",
    "\n",
    "\n",
    "def get_information_about_sentences(sentences: List[str]) -> Tuple[int, int, int]:\n",
    "    vowels = [\"a\", \"e\", \"i\", \"o\", \"u\"]\n",
    "    consonants = set(string.ascii_letters.lower()) - set(vowels)\n",
    "    result = []\n",
    "    for sentence in sentences:\n",
    "        sentence_length = len(sentence)\n",
    "        vowels_count = sum([1 for letter in sentence if letter in vowels])\n",
    "        consosants_count = sum([1 for letter in sentence if letter in consonants])\n",
    "        result.append((sentence_length, vowels_count, consosants_count))\n",
    "    return result\n",
    "\n",
    "\n",
    "get_information_about_sentences([\"aaa\", \"bbb\"])"
   ]
  },
  {
   "cell_type": "code",
   "execution_count": null,
   "metadata": {},
   "outputs": [],
   "source": [
    "# Napiš funkci, která vrátí n-tici, v níž bude seznam všech sudých čísel v rozmezí od 1 do 20 (včetně)\n",
    "# a seznam všech lichých čísel v témže rozmezí."
   ]
  },
  {
   "cell_type": "code",
   "execution_count": 50,
   "metadata": {},
   "outputs": [
    {
     "data": {
      "text/plain": [
       "([2, 4, 6, 8, 10, 12, 14, 16, 18, 20], [1, 3, 5, 7, 9, 11, 13, 15, 17, 19])"
      ]
     },
     "execution_count": 50,
     "metadata": {},
     "output_type": "execute_result"
    }
   ],
   "source": [
    "def get_even_odd_numbers() -> tuple:\n",
    "    numbers_range = range(1, 21)\n",
    "    numbers_even = [number for number in numbers_range if number % 2 == 0]\n",
    "    numbers_odd = [number for number in numbers_range if number % 2 == 1]\n",
    "    return (numbers_even, numbers_odd)\n",
    "\n",
    "\n",
    "get_even_odd_numbers()"
   ]
  },
  {
   "cell_type": "code",
   "execution_count": null,
   "metadata": {},
   "outputs": [],
   "source": [
    "# Napiště funkci, které předáte seznam slov, a ta spočítá počet samohlásek v jednotlivých slovech.\n",
    "# Výsledkem je n-tice slova a počtu samohlásek."
   ]
  },
  {
   "cell_type": "code",
   "execution_count": 51,
   "metadata": {},
   "outputs": [
    {
     "data": {
      "text/plain": [
       "[('Ahoj', 2), ('ahoj', 2), ('TESt', 1)]"
      ]
     },
     "execution_count": 51,
     "metadata": {},
     "output_type": "execute_result"
    }
   ],
   "source": [
    "from typing import List, Tuple\n",
    "\n",
    "\n",
    "def get_vowels_count(words: List[str]) -> List[Tuple[str, int]]:\n",
    "    vowels: List[str] = [\"a\", \"e\", \"i\", \"o\", \"u\"]\n",
    "    result: List[Tuple[str, int]] = []\n",
    "    for word in words:\n",
    "        count: int = sum(1 for letter in word if letter.lower() in vowels)\n",
    "        result.append((word, count))\n",
    "    return result\n",
    "\n",
    "\n",
    "get_vowels_count([\"Ahoj\", \"ahoj\", \"TESt\"])"
   ]
  },
  {
   "cell_type": "code",
   "execution_count": null,
   "metadata": {},
   "outputs": [],
   "source": [
    "# Napište funkci, do které vložíte cestu k souboru.\n",
    "# Funkce vrátí slovník, kde klíčem je slovo a hodnotou je jeho počet výskytů v textu souboru.\n",
    "# Tento slovník bude následně funkcí vrácen."
   ]
  },
  {
   "cell_type": "code",
   "execution_count": 52,
   "metadata": {},
   "outputs": [
    {
     "data": {
      "text/plain": [
       "{'test': 1, 'aa': 2, 'ff': 1}"
      ]
     },
     "execution_count": 52,
     "metadata": {},
     "output_type": "execute_result"
    }
   ],
   "source": [
    "def get_words_occurences(file_path: str) -> dict:\n",
    "    result: dict = {}\n",
    "    text: str = \"\"\n",
    "    with open(file=file_path, mode=\"rt\", encoding=\"utf-8\") as stream:\n",
    "        text = stream.read().split(\"\\n\")\n",
    "    for word in text:\n",
    "        if word in result.keys():\n",
    "            result[word] += 1\n",
    "        else:\n",
    "            result[word] = 1\n",
    "    return result\n",
    "\n",
    "\n",
    "get_words_occurences(\"test.txt\")"
   ]
  },
  {
   "cell_type": "code",
   "execution_count": null,
   "metadata": {},
   "outputs": [],
   "source": [
    "# Fibonacciho posloupnost"
   ]
  },
  {
   "cell_type": "code",
   "execution_count": 53,
   "metadata": {},
   "outputs": [
    {
     "name": "stdout",
     "output_type": "stream",
     "text": [
      "Fibonacci Series: 0 1 1 2 3 5 8 13 21 34 55 89 144 233 377 610 987 1597 2584 4181 "
     ]
    }
   ],
   "source": [
    "def get_fibonacci_sequence(n: int):\n",
    "    if n < 0:\n",
    "        raise ValueError(f\"{n} must be a non-negative integer.\")\n",
    "    elif n <= 1:\n",
    "        return n\n",
    "    else:\n",
    "        return get_fibonacci_sequence(n - 1) + get_fibonacci_sequence(n - 2)\n",
    "\n",
    "\n",
    "num = 20\n",
    "print(\"Fibonacci Series:\", end=\" \")\n",
    "for i in range(num):\n",
    "    print(get_fibonacci_sequence(i), end=\" \")"
   ]
  },
  {
   "cell_type": "code",
   "execution_count": null,
   "metadata": {},
   "outputs": [],
   "source": [
    "# Napište funkci, která projde kolekci čísel a nalezne mezi nimi největší a nejmenší číslo, které vrátí jako n-tici.\n",
    "# Nepoužívejte funkce min a max!"
   ]
  },
  {
   "cell_type": "code",
   "execution_count": 54,
   "metadata": {},
   "outputs": [
    {
     "name": "stdout",
     "output_type": "stream",
     "text": [
      "(1, 6)\n",
      "(1, 6)\n"
     ]
    }
   ],
   "source": [
    "from typing import Tuple, List\n",
    "\n",
    "\n",
    "def get_min_max_numbers(numbers: List[int]) -> Tuple[int, int]:\n",
    "    if not numbers:\n",
    "        return (0, 0)\n",
    "    elif len(numbers) < 2:\n",
    "        return (numbers[0], numbers[0])\n",
    "    current_min = numbers[0]\n",
    "    current_max = numbers[0]\n",
    "    for i in range(1, len(numbers)):\n",
    "        if numbers[i] < current_min:\n",
    "            current_min = numbers[i]\n",
    "        elif numbers[i] > current_max:\n",
    "            current_max = numbers[i]\n",
    "    return (current_min, current_max)\n",
    "\n",
    "\n",
    "def get_min_max_numbers_2(numbers: List[int]) -> Tuple[int, int]:\n",
    "    if not numbers:\n",
    "        return (0, 0)\n",
    "    numbers.sort()\n",
    "    return (numbers[0], numbers[len(numbers) - 1])\n",
    "\n",
    "\n",
    "print(get_min_max_numbers([1, 2, 3, 4, 5, 6]))\n",
    "print(get_min_max_numbers_2([1, 2, 3, 4, 5, 6]))"
   ]
  },
  {
   "cell_type": "code",
   "execution_count": null,
   "metadata": {},
   "outputs": [],
   "source": [
    "# Write a Python program to find the most common elements and their counts in a specified text.\n",
    "# Original string: lkseropewdssafsdfafkpwe\n",
    "# Most common three characters of the said string:\n",
    "# [('s', 4), ('e', 3), ('f', 3)]"
   ]
  },
  {
   "cell_type": "code",
   "execution_count": 62,
   "metadata": {},
   "outputs": [
    {
     "data": {
      "text/plain": [
       "{'l': 1,\n",
       " 'k': 2,\n",
       " 's': 4,\n",
       " 'e': 3,\n",
       " 'r': 1,\n",
       " 'o': 1,\n",
       " 'p': 2,\n",
       " 'w': 2,\n",
       " 'd': 2,\n",
       " 'a': 2,\n",
       " 'f': 3}"
      ]
     },
     "execution_count": 62,
     "metadata": {},
     "output_type": "execute_result"
    }
   ],
   "source": [
    "def get_most_common_characters(text: str):\n",
    "    result: dict = {}\n",
    "    for letter in text:\n",
    "        if letter not in result.keys():\n",
    "            result[letter] = 1\n",
    "        else:\n",
    "            result[letter] += 1\n",
    "    return result\n",
    "\n",
    "\n",
    "get_most_common_characters(\"lkseropewdssafsdfafkpwe\")"
   ]
  },
  {
   "cell_type": "code",
   "execution_count": 77,
   "metadata": {},
   "outputs": [
    {
     "data": {
      "text/plain": [
       "[[2, 4, 6], [8, 10, 12], [14, 16, 18]]"
      ]
     },
     "execution_count": 77,
     "metadata": {},
     "output_type": "execute_result"
    }
   ],
   "source": [
    "from typing import List\n",
    "\n",
    "\n",
    "def multiply_matrix(matrix: List[List[int]], multiplier: int) -> List[List[int]]:\n",
    "    result = []\n",
    "    for row in matrix:\n",
    "        row_new = []\n",
    "        for element in row:\n",
    "            row_new.append(element * multiplier)\n",
    "        result.append(row_new)\n",
    "    return result\n",
    "\n",
    "\n",
    "matrix = [[1, 2, 3], [4, 5, 6], [7, 8, 9]]\n",
    "multiply_matrix(matrix=matrix, multiplier=2)"
   ]
  },
  {
   "cell_type": "code",
   "execution_count": 85,
   "metadata": {},
   "outputs": [
    {
     "name": "stdout",
     "output_type": "stream",
     "text": [
      "1 2 3 \n",
      "4 5 6 \n",
      "7 8 9 \n"
     ]
    }
   ],
   "source": [
    "def print_matrix(matrix: List[List[int]]) -> None:\n",
    "    for row in matrix:\n",
    "        for column in row:\n",
    "            print(column, end=\" \")\n",
    "        print()\n",
    "\n",
    "\n",
    "matrix = [[1, 2, 3], [4, 5, 6], [7, 8, 9]]\n",
    "print_matrix(matrix=matrix)"
   ]
  }
 ],
 "metadata": {
  "kernelspec": {
   "display_name": "Python 3",
   "language": "python",
   "name": "python3"
  },
  "language_info": {
   "codemirror_mode": {
    "name": "ipython",
    "version": 3
   },
   "file_extension": ".py",
   "mimetype": "text/x-python",
   "name": "python",
   "nbconvert_exporter": "python",
   "pygments_lexer": "ipython3",
   "version": "3.12.0"
  }
 },
 "nbformat": 4,
 "nbformat_minor": 2
}
