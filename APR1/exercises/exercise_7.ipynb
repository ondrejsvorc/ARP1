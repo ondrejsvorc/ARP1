{
 "cells": [
  {
   "cell_type": "code",
   "execution_count": 2,
   "metadata": {},
   "outputs": [
    {
     "name": "stdout",
     "output_type": "stream",
     "text": [
      "Počet kořenů: 0\n"
     ]
    }
   ],
   "source": [
    "def count_roots(a: float, b: float, c: float) -> int:\n",
    "    discriminant = b**2 - 4 * a * c\n",
    "    if discriminant < 0:\n",
    "        return 0\n",
    "    elif discriminant == 0:\n",
    "        return 1\n",
    "    else:\n",
    "        return 2\n",
    "\n",
    "\n",
    "user_input = input(\"Zadejte a, b, c: \").split(\" \")\n",
    "a, b, c = map(float, user_input)\n",
    "\n",
    "roots_count = count_roots(a, b, c)\n",
    "print(f\"Počet kořenů: {roots_count}\")"
   ]
  },
  {
   "cell_type": "code",
   "execution_count": 1,
   "metadata": {},
   "outputs": [
    {
     "name": "stdout",
     "output_type": "stream",
     "text": [
      "Pravdivostní hodnoty: [True, True, True, True, True, False]\n"
     ]
    }
   ],
   "source": [
    "from typing import List\n",
    "\n",
    "\n",
    "def get_valid_marks(marks: List[int]) -> List[bool]:\n",
    "    return [mark in range(1, 6) for mark in marks]\n",
    "\n",
    "\n",
    "numbers = [1, 2, 3, 4, 5, 6]\n",
    "truth_values = get_valid_marks(numbers)\n",
    "print(f\"Pravdivostní hodnoty: {truth_values}\")"
   ]
  },
  {
   "cell_type": "code",
   "execution_count": 5,
   "metadata": {},
   "outputs": [
    {
     "name": "stdout",
     "output_type": "stream",
     "text": [
      "Sudá čísla: [2, 4, 6]\n"
     ]
    }
   ],
   "source": [
    "from typing import List\n",
    "\n",
    "\n",
    "def filter_numbers_divisible_by(numbers: List[int], divisor: int):\n",
    "    return [number for number in numbers if number % divisor == 0]\n",
    "\n",
    "\n",
    "numbers = [1, 2, 3, 4, 5, 6]\n",
    "numbers = filter_numbers_divisible_by(numbers, divisor=2)\n",
    "print(f\"Sudá čísla: {numbers}\")"
   ]
  },
  {
   "cell_type": "code",
   "execution_count": 6,
   "metadata": {},
   "outputs": [
    {
     "name": "stdout",
     "output_type": "stream",
     "text": [
      "{'lettersLowercaseCount': 2, 'lettersUppercaseCount': 2, 'numbersCount': 3}\n"
     ]
    }
   ],
   "source": [
    "import string\n",
    "\n",
    "\n",
    "\n",
    "def get_characters_count(text: str) -> dict:\n",
    "    dictionary: dict = {\n",
    "        \"lettersLowercaseCount\": 0,\n",
    "        \"lettersUppercaseCount\": 0,\n",
    "        \"numbersCount\": 0,\n",
    "    }\n",
    "    for letter in text:\n",
    "        if letter in string.ascii_lowercase:\n",
    "            dictionary[\"lettersLowercaseCount\"] += 1\n",
    "        elif letter in string.ascii_uppercase:\n",
    "            dictionary[\"lettersUppercaseCount\"] += 1\n",
    "        elif letter in string.digits:\n",
    "            dictionary[\"numbersCount\"] += 1\n",
    "    return dictionary\n",
    "\n",
    "\n",
    "print(get_characters_count(\"Ah o  J555  \"))"
   ]
  },
  {
   "cell_type": "code",
   "execution_count": 7,
   "metadata": {},
   "outputs": [
    {
     "name": "stdout",
     "output_type": "stream",
     "text": [
      "['h', 'o', 'j']\n"
     ]
    }
   ],
   "source": [
    "from typing import List\n",
    "\n",
    "\n",
    "def get_letters(text: str, letter_indexes: List[int]) -> List[int]:\n",
    "    return [text[index] for index in letter_indexes]\n",
    "\n",
    "\n",
    "letters = get_letters(text=\"ahoj\", letter_indexes=[1, 2, 3])\n",
    "print(letters)"
   ]
  },
  {
   "cell_type": "code",
   "execution_count": 9,
   "metadata": {},
   "outputs": [
    {
     "name": "stdout",
     "output_type": "stream",
     "text": [
      "Číslo 8 se nachází na 3. řádku ve 2. sloupci.\n"
     ]
    }
   ],
   "source": [
    "def get_number_position(number: int):\n",
    "    row = (number - 1) // 3 + 1\n",
    "    column = (number - 1) % 3 + 1\n",
    "    return row, column\n",
    "\n",
    "\n",
    "number = int(input(\"Zadejte číslo v rozmezí 1-9: \"))\n",
    "row, column = get_number_position(number)\n",
    "print(f\"Číslo {number} se nachází na {row}. řádku ve {column}. sloupci.\")"
   ]
  },
  {
   "cell_type": "code",
   "execution_count": 11,
   "metadata": {},
   "outputs": [
    {
     "name": "stdout",
     "output_type": "stream",
     "text": [
      "['Test', 'Test', 'Test']\n"
     ]
    }
   ],
   "source": [
    "from typing import List\n",
    "\n",
    "\n",
    "def remove_numbers(sequence: List[str]) -> List[str]:\n",
    "    return [\"\".join(char for char in text if not char.isdigit()) for text in sequence]\n",
    "\n",
    "\n",
    "print(remove_numbers([\"Test1\", \"1Test\", \"Te1st\"]))"
   ]
  }
 ],
 "metadata": {
  "kernelspec": {
   "display_name": "Python 3",
   "language": "python",
   "name": "python3"
  },
  "language_info": {
   "codemirror_mode": {
    "name": "ipython",
    "version": 3
   },
   "file_extension": ".py",
   "mimetype": "text/x-python",
   "name": "python",
   "nbconvert_exporter": "python",
   "pygments_lexer": "ipython3",
   "version": "3.12.0"
  }
 },
 "nbformat": 4,
 "nbformat_minor": 2
}
