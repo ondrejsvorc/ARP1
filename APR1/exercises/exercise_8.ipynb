{
 "cells": [
  {
   "cell_type": "code",
   "execution_count": null,
   "metadata": {},
   "outputs": [],
   "source": [
    "# 21. 11. 2023 - zápočet nanečisto (pokud zvládneme, máme zápočet)"
   ]
  },
  {
   "cell_type": "code",
   "execution_count": null,
   "metadata": {},
   "outputs": [],
   "source": [
    "# Prvky funkcionálního programování v Pythonu\n",
    "\n",
    "# comprehension\n",
    "# = komprehenze ( seznamová [], množinová { }, slovníková () set(), generátorová () )\n",
    "# = generátorová notace\n",
    "# určení prvků kolekce nikoliv jejich výčtem ale popisem jejich vlastností\n",
    "\n",
    "# map\n",
    "# = přijímá funkci s jedním parametrem a aplikuje ji na každý prvek v kolekci\n",
    "# vrátí novou kolekci, jejíž prvky jsou výsledky aplikace funkce na příslušné prvky původní kolekce\n",
    "\n",
    "# filter\n",
    "# = přijímá funkci, která vrací True nebo False\n",
    "# vrátí novou kolekci, jejíž prvky jsou prvky původní kolekce, pro které funkce filter() vrátí True\n",
    "\n",
    "# lambda\n",
    "# = anonymní funkce (nemá jméno)\n",
    "# lze předávat předpis lambda funkce\n",
    "\n",
    "# zip\n",
    "# reduce\n",
    "# recursion"
   ]
  },
  {
   "cell_type": "code",
   "execution_count": 2,
   "metadata": {},
   "outputs": [
    {
     "data": {
      "text/plain": [
       "[64, 'traktor', 256, 'traktor']"
      ]
     },
     "execution_count": 2,
     "metadata": {},
     "output_type": "execute_result"
    }
   ],
   "source": [
    "# Komprehenze\n",
    "numbers = [\n",
    "    2**power if power % 2 == 0 else \"traktor\"  # co chci\n",
    "    for power in range(10)  # kde to získám\n",
    "    if power > 5  # kdy to tam dávám\n",
    "]\n",
    "numbers"
   ]
  },
  {
   "cell_type": "code",
   "execution_count": 1,
   "metadata": {},
   "outputs": [
    {
     "data": {
      "text/plain": [
       "[81, 83, 85, 87, 89, 91, 93, 95, 97, 99]"
      ]
     },
     "execution_count": 1,
     "metadata": {},
     "output_type": "execute_result"
    }
   ],
   "source": [
    "odd_numbers = [number for number in range(80, 100) if number % 2 == 1]\n",
    "odd_numbers"
   ]
  },
  {
   "cell_type": "code",
   "execution_count": 17,
   "metadata": {},
   "outputs": [
    {
     "data": {
      "text/plain": [
       "['qohyolwy']"
      ]
     },
     "execution_count": 17,
     "metadata": {},
     "output_type": "execute_result"
    }
   ],
   "source": [
    "import random\n",
    "import string\n",
    "\n",
    "\n",
    "random_words = [\"\".join(random.choices(string.ascii_lowercase, k=8))]\n",
    "random_words"
   ]
  },
  {
   "cell_type": "code",
   "execution_count": 31,
   "metadata": {},
   "outputs": [
    {
     "data": {
      "text/plain": [
       "[5, 7, 9, 11, 13, 15, 17, 19, 21, 23]"
      ]
     },
     "execution_count": 31,
     "metadata": {},
     "output_type": "execute_result"
    }
   ],
   "source": [
    "def do_something(number):\n",
    "    return 2 * number + 3\n",
    "\n",
    "\n",
    "numbers = [number for number in range(1, 11)]\n",
    "numbers = list(map(do_something, numbers))\n",
    "numbers"
   ]
  },
  {
   "cell_type": "code",
   "execution_count": 22,
   "metadata": {},
   "outputs": [
    {
     "data": {
      "text/plain": [
       "[5, 7, 9, 11, 13, 15, 17, 19, 21, 23]"
      ]
     },
     "execution_count": 22,
     "metadata": {},
     "output_type": "execute_result"
    }
   ],
   "source": [
    "numbers = [do_something(number) for number in range(1, 11)]\n",
    "numbers"
   ]
  },
  {
   "cell_type": "code",
   "execution_count": 37,
   "metadata": {},
   "outputs": [
    {
     "data": {
      "text/plain": [
       "[5, 5, 4]"
      ]
     },
     "execution_count": 37,
     "metadata": {},
     "output_type": "execute_result"
    }
   ],
   "source": [
    "names = [\"Ondra\", \"Honza\", \"Petr\"]\n",
    "\n",
    "name_lengths = list(map(len, names))\n",
    "name_lengths"
   ]
  },
  {
   "cell_type": "code",
   "execution_count": 45,
   "metadata": {},
   "outputs": [
    {
     "data": {
      "text/plain": [
       "['Ondra', 'Honza', 'Petr']"
      ]
     },
     "execution_count": 45,
     "metadata": {},
     "output_type": "execute_result"
    }
   ],
   "source": [
    "names = [\"Ondra\", \"Honza\", \"Petr\"]\n",
    "\n",
    "\n",
    "def reverse(name):\n",
    "    return name[::-1]\n",
    "\n",
    "\n",
    "names_reversed = list(map(reverse, names))\n",
    "names_reversed"
   ]
  },
  {
   "cell_type": "code",
   "execution_count": 47,
   "metadata": {},
   "outputs": [
    {
     "data": {
      "text/plain": [
       "<function __main__.<lambda>(a, b)>"
      ]
     },
     "execution_count": 47,
     "metadata": {},
     "output_type": "execute_result"
    }
   ],
   "source": [
    "def add(a, b):\n",
    "    return a + b\n",
    "\n",
    "\n",
    "# Zápis jako lambda funkce\n",
    "lambda a, b: a + b"
   ]
  },
  {
   "cell_type": "code",
   "execution_count": 46,
   "metadata": {},
   "outputs": [
    {
     "data": {
      "text/plain": [
       "[5, 7, 9, 11, 13, 15, 17, 19, 21, 23]"
      ]
     },
     "execution_count": 46,
     "metadata": {},
     "output_type": "execute_result"
    }
   ],
   "source": [
    "numbers = [number for number in range(1, 11)]\n",
    "numbers = list(map(lambda number: 2 * number + 3, numbers))\n",
    "numbers"
   ]
  },
  {
   "cell_type": "code",
   "execution_count": 50,
   "metadata": {},
   "outputs": [
    {
     "data": {
      "text/plain": [
       "55"
      ]
     },
     "execution_count": 50,
     "metadata": {},
     "output_type": "execute_result"
    }
   ],
   "source": [
    "# Můžeme předávat funkce (jejich předpisy)\n",
    "edit_pixel = {\n",
    "    \"make_darker\": lambda pixel: pixel + 5,\n",
    "    \"make_lighter\": lambda pixel: pixel - 5,\n",
    "}\n",
    "\n",
    "edit_pixel[\"make_darker\"](50)"
   ]
  },
  {
   "cell_type": "code",
   "execution_count": 51,
   "metadata": {},
   "outputs": [
    {
     "data": {
      "text/plain": [
       "[('Pavel', 40), ('Petr', 50), ('Jana', 70)]"
      ]
     },
     "execution_count": 51,
     "metadata": {},
     "output_type": "execute_result"
    }
   ],
   "source": [
    "# (name, points)\n",
    "players = [(\"Pavel\", 40), (\"Petr\", 50), (\"Jana\", 70)]\n",
    "players.sort(key=lambda pair: pair[1])\n",
    "players"
   ]
  },
  {
   "cell_type": "code",
   "execution_count": 54,
   "metadata": {},
   "outputs": [
    {
     "name": "stdout",
     "output_type": "stream",
     "text": [
      "[0, 4, 4, 4, 1, -1, 1, -1, 6, -1]\n",
      "[4, 4, 4, 1, 1]\n"
     ]
    }
   ],
   "source": [
    "from random import randint\n",
    "\n",
    "\n",
    "def is_valid(mark):\n",
    "    return 1 <= mark <= 5\n",
    "\n",
    "\n",
    "# Seznam s validními (pravděpodobně i nevalidními) známkami\n",
    "marks = [randint(-1, 7) for _ in range(10)]\n",
    "print(marks)\n",
    "\n",
    "marks = list(filter(is_valid, marks))\n",
    "print(marks)"
   ]
  },
  {
   "cell_type": "code",
   "execution_count": 68,
   "metadata": {},
   "outputs": [
    {
     "name": "stdout",
     "output_type": "stream",
     "text": [
      "[6, 7, 0, -1, 1, 7, 1, 6, 2, 4]\n",
      "[1, 1, 2, 4]\n",
      "['výborně', 'výborně', 'chvalitebně', 'dostatečně']\n"
     ]
    }
   ],
   "source": [
    "from random import randint\n",
    "\n",
    "\n",
    "verbal_evalutations = {\n",
    "    1: \"výborně\",\n",
    "    2: \"chvalitebně\",\n",
    "    3: \"dobře\",\n",
    "    4: \"dostatečně\",\n",
    "    5: \"nedostatečně\",\n",
    "}\n",
    "\n",
    "# Seznam s validními (pravděpodobně i nevalidními) známkami.\n",
    "marks = [randint(-1, 7) for _ in range(10)]\n",
    "print(marks)\n",
    "\n",
    "# Seznam s validními známkami.\n",
    "marks = [mark for mark in list(filter(lambda mark: 1 <= mark <= 5, marks))]\n",
    "print(marks)\n",
    "\n",
    "# Slovní hodnocení validních známek.\n",
    "marks = [verbal_evalutations[mark] for mark in marks]\n",
    "print(marks)"
   ]
  },
  {
   "cell_type": "code",
   "execution_count": 7,
   "metadata": {},
   "outputs": [
    {
     "name": "stdout",
     "output_type": "stream",
     "text": [
      "[(1, 'výborně'), (2, 'chvalitebně'), (1, 'výborně'), (1, 'výborně'), (5, 'nedostatečně')]\n"
     ]
    }
   ],
   "source": [
    "from random import randint\n",
    "\n",
    "\n",
    "def valid_marks_and_evaluations(marks):\n",
    "    verbal_evalutations = {\n",
    "        1: \"výborně\",\n",
    "        2: \"chvalitebně\",\n",
    "        3: \"dobře\",\n",
    "        4: \"dostatečně\",\n",
    "        5: \"nedostatečně\",\n",
    "    }\n",
    "    return [(mark, verbal_evalutations[mark]) for mark in marks if 1 <= mark <= 5]\n",
    "\n",
    "\n",
    "marks = [randint(0, 10) for _ in range(10)]\n",
    "print(valid_marks_and_evaluations(marks))"
   ]
  },
  {
   "cell_type": "code",
   "execution_count": 17,
   "metadata": {},
   "outputs": [
    {
     "name": "stdout",
     "output_type": "stream",
     "text": [
      "\"lambda a, b: a + b\"\n"
     ]
    },
    {
     "data": {
      "text/plain": [
       "10"
      ]
     },
     "execution_count": 17,
     "metadata": {},
     "output_type": "execute_result"
    }
   ],
   "source": [
    "import json\n",
    "\n",
    "# Lambda funkce lze serializovat a následně deserializovat a vykonat (klidně i externím kódem).\n",
    "lambda_str = json.dumps(\"lambda a, b: a + b\")\n",
    "print(lambda_str)\n",
    "\n",
    "lambda_str = json.loads(lambda_str)\n",
    "eval(lambda_str)(5, 5)"
   ]
  }
 ],
 "metadata": {
  "kernelspec": {
   "display_name": "Python 3",
   "language": "python",
   "name": "python3"
  },
  "language_info": {
   "codemirror_mode": {
    "name": "ipython",
    "version": 3
   },
   "file_extension": ".py",
   "mimetype": "text/x-python",
   "name": "python",
   "nbconvert_exporter": "python",
   "pygments_lexer": "ipython3",
   "version": "3.12.0"
  }
 },
 "nbformat": 4,
 "nbformat_minor": 2
}
