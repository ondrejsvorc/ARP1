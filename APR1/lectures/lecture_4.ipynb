{
 "cells": [
  {
   "cell_type": "code",
   "execution_count": 1,
   "metadata": {},
   "outputs": [],
   "source": [
    "# Porovnání dvou řetězců, zda jsou shodné (equality), bez ohledu na diakritiku."
   ]
  },
  {
   "cell_type": "code",
   "execution_count": 2,
   "metadata": {},
   "outputs": [
    {
     "data": {
      "text/plain": [
       "True"
      ]
     },
     "execution_count": 2,
     "metadata": {},
     "output_type": "execute_result"
    }
   ],
   "source": [
    "\"Frodo\" == \"Frodo\""
   ]
  },
  {
   "cell_type": "code",
   "execution_count": 5,
   "metadata": {},
   "outputs": [
    {
     "data": {
      "text/plain": [
       "False"
      ]
     },
     "execution_count": 5,
     "metadata": {},
     "output_type": "execute_result"
    }
   ],
   "source": [
    "\"Smíšek\" == \"Smisek\" == \"Smísek\" == \"Smišek\""
   ]
  },
  {
   "cell_type": "code",
   "execution_count": 20,
   "metadata": {},
   "outputs": [
    {
     "name": "stdout",
     "output_type": "stream",
     "text": [
      "Slova jsou ekvivalentní.\n"
     ]
    }
   ],
   "source": [
    "def convert_diactrictric(letter: str) -> str:\n",
    "    ALPHABET = \"aeeiouuycdnrstzAEEIOUUYCDNRSTZ\"\n",
    "    ALPHABET_CZECH_SPECIFIC = \"áéěíóúůýčďňřšťžÁÉĚÍÓÚŮÝČĎŇŘŠŤŽ\"\n",
    "\n",
    "    if letter in ALPHABET_CZECH_SPECIFIC:\n",
    "        letter = ALPHABET[ALPHABET_CZECH_SPECIFIC.find(letter)]\n",
    "\n",
    "    return letter\n",
    "\n",
    "\n",
    "def are_words_equivalent(word1: str, word2: str) -> bool:\n",
    "    result = True\n",
    "\n",
    "    if len(word1) == len(word2):\n",
    "        for i in range(len(word1)):\n",
    "            if convert_diactrictric(word1[i]) != convert_diactrictric(word2[i]):\n",
    "                result = False\n",
    "                break\n",
    "    else:\n",
    "        result = False\n",
    "\n",
    "    return result\n",
    "\n",
    "\n",
    "word1 = input(\"Zadejte 1. slovo: \")\n",
    "word2 = input(\"Zadejte 2. slovo: \")\n",
    "\n",
    "if are_words_equivalent(word1, word2):\n",
    "    print(\"Slova jsou ekvivalentní.\")\n",
    "else:\n",
    "    print(\"Slova nejsou ekvivalentní.\")"
   ]
  },
  {
   "cell_type": "code",
   "execution_count": 19,
   "metadata": {},
   "outputs": [
    {
     "name": "stdout",
     "output_type": "stream",
     "text": [
      "Z\n"
     ]
    }
   ],
   "source": [
    "ALPHABET = \"aeeiouuycdnrstzAEEIOUUYCDNRSTZ\"\n",
    "ALPHABET_CZECH_SPECIFIC = \"áéěíóúůýčďňřšťžÁÉĚÍÓÚŮÝČĎŇŘŠŤŽ\"\n",
    "\n",
    "letter = \"Ž\"\n",
    "\n",
    "if letter in ALPHABET_CZECH_SPECIFIC:\n",
    "    letter = ALPHABET[ALPHABET_CZECH_SPECIFIC.find(letter)]\n",
    "\n",
    "print(letter)"
   ]
  },
  {
   "cell_type": "code",
   "execution_count": null,
   "metadata": {},
   "outputs": [],
   "source": [
    "# Funkce = funkce příjme nějaké objekty jako parametry a vrací nově vytvořený objekt\n",
    "# Procedura = procedura příjme nějaké objekty jako parametry, ale nic nevrací\n",
    "# Funkce s vedlejším efektem = lze připodobnit k C# out parametru\n",
    "# Subrutina (podprogram) = funkce + procedura - ne příliš používaný pojem\n",
    "\n",
    "# *v Pythonu a C-syntax jazycích se i procedury většinou označují jako funkce\n",
    "\n",
    "# K čemu slouží?\n",
    "# 1) K opakovanému volání s různámi parametry\n",
    "# 2) Vytváří lokální kontext\n",
    "#    - po vykonání funkce lokální proměnné zaniknou\n",
    "#    - omezuje životnost objektů (nezabírají místo v paměti)\n",
    "# 3) Jsou testovatelné\n",
    "# 4) Hiearchická stavba programů\n",
    "# 5) Sdílení kódu (vnitřek funkce nemusí být znám, důležité je jen rozhraní)"
   ]
  }
 ],
 "metadata": {
  "kernelspec": {
   "display_name": "Python 3",
   "language": "python",
   "name": "python3"
  },
  "language_info": {
   "codemirror_mode": {
    "name": "ipython",
    "version": 3
   },
   "file_extension": ".py",
   "mimetype": "text/x-python",
   "name": "python",
   "nbconvert_exporter": "python",
   "pygments_lexer": "ipython3",
   "version": "3.12.0"
  }
 },
 "nbformat": 4,
 "nbformat_minor": 2
}
