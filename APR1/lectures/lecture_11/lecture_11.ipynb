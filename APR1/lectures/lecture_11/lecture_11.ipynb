{
 "cells": [
  {
   "cell_type": "code",
   "execution_count": null,
   "metadata": {},
   "outputs": [],
   "source": [
    "# Stažení textového obsahu\n",
    "# knihovna requests\n",
    "# !pip install requests (! = spusť v příkazové řádce pip install requests)\n",
    "\n",
    "# Zajímavosti:\n",
    "# - pokud budeme vícekrát importovat knihovnu, Python z toho udělá jeden import\n",
    "# - import můžeme psát i do metod - kdybychom metodu pak někam kopírovali, je jasné, že ke svému chodu potřebuje tuto knihovnu"
   ]
  },
  {
   "cell_type": "code",
   "execution_count": 7,
   "metadata": {},
   "outputs": [],
   "source": [
    "import requests"
   ]
  },
  {
   "cell_type": "code",
   "execution_count": 30,
   "metadata": {},
   "outputs": [],
   "source": [
    "def url_to_textfile(url: str, file_name: str) -> None:\n",
    "    \"\"\"\n",
    "    Get text from URL and save it to the file.\n",
    "    \"\"\"\n",
    "    response = requests.get(url)\n",
    "    content_type = response.headers[\"content-type\"]\n",
    "    if not content_type.startswith(\"text/\"):\n",
    "        raise Exception(f\"Invalid content type {content_type}\")\n",
    "    if not response.status_code == 200:\n",
    "        raise Exception(f\"There was an error fetching website. Url: {url}\")\n",
    "    with open(file=file_name, mode=\"wt\", encoding=\"utf-8\") as file:\n",
    "        file.write(response.text)"
   ]
  },
  {
   "cell_type": "code",
   "execution_count": 25,
   "metadata": {},
   "outputs": [],
   "source": [
    "url_to_textfile(url=\"https://1url.cz/@jf_Svejk\", file_name=\"svejk.txt\")"
   ]
  },
  {
   "cell_type": "code",
   "execution_count": null,
   "metadata": {},
   "outputs": [],
   "source": [
    "# Základní operace se souborem"
   ]
  },
  {
   "cell_type": "code",
   "execution_count": 40,
   "metadata": {},
   "outputs": [
    {
     "name": "stdout",
     "output_type": "stream",
     "text": [
      "1225440 znaků\n"
     ]
    }
   ],
   "source": [
    "with open(file=\"svejk.txt\", mode=\"rt\", encoding=\"utf-8\") as file:\n",
    "    characters_count = len(file.read())\n",
    "    print(f\"{characters_count} znaků\")"
   ]
  },
  {
   "cell_type": "code",
   "execution_count": 39,
   "metadata": {},
   "outputs": [
    {
     "name": "stdout",
     "output_type": "stream",
     "text": [
      "1380884 bytů\n"
     ]
    }
   ],
   "source": [
    "# Paměťové náročné\n",
    "# Načítáme celý soubor, a pak počítáme počet bytů.\n",
    "with open(file=\"svejk.txt\", mode=\"rb\") as file:\n",
    "    bytes_count = len(file.read())\n",
    "    print(f\"{bytes_count} bytů\")"
   ]
  },
  {
   "cell_type": "code",
   "execution_count": 42,
   "metadata": {},
   "outputs": [
    {
     "name": "stdout",
     "output_type": "stream",
     "text": [
      "1380884 bytů\n"
     ]
    }
   ],
   "source": [
    "# Méně paměťově náročné, ale může být pomalé\n",
    "# Načítáme soubor postupně a postupně počítáme počet bytů.\n",
    "with open(file=\"svejk.txt\", mode=\"rb\") as file:\n",
    "    bytes_count = 0\n",
    "    while file.read(1):\n",
    "        bytes_count += 1\n",
    "    print(f\"{bytes_count} bytů\")"
   ]
  },
  {
   "cell_type": "code",
   "execution_count": 44,
   "metadata": {},
   "outputs": [
    {
     "name": "stdout",
     "output_type": "stream",
     "text": [
      "1380884 bytů\n"
     ]
    }
   ],
   "source": [
    "# Toto řešení je jak paměťově nenáročné, ale i rychlé.\n",
    "# Přeneseme se na konec souboru, a to vrátí aktuální pozici - počet bytů.\n",
    "import io\n",
    "\n",
    "with open(file=\"svejk.txt\", mode=\"rb\") as file:\n",
    "    # Přesunutí na konec\n",
    "    position = file.seek(0, io.SEEK_END)\n",
    "    print(f\"{position} bytů\")"
   ]
  },
  {
   "cell_type": "code",
   "execution_count": 46,
   "metadata": {},
   "outputs": [
    {
     "name": "stdout",
     "output_type": "stream",
     "text": [
      "1380884 bytů\n"
     ]
    }
   ],
   "source": [
    "# Zjištění velikosti souboru bez jeho otevření.\n",
    "# Toto by mělo být nejrychlejší.\n",
    "# Nepracuje s děravými soubory (Unix).\n",
    "from pathlib import Path\n",
    "\n",
    "print(f\"{Path(\"svejk.txt\").stat().st_size} bytů\")"
   ]
  },
  {
   "cell_type": "code",
   "execution_count": 56,
   "metadata": {},
   "outputs": [
    {
     "name": "stdout",
     "output_type": "stream",
     "text": [
      "…který v zájmu svém vodí Vás, milostivá, s sebou na divadelní představení odpovídající jedině jeho vkusu. Mám rád upřímnost, nevtírám se nijak ve Váš soukromý život, a přál bych si pohovořit s Vámi soukromě o čistém umění…\n",
      "\n"
     ]
    }
   ],
   "source": [
    "# max(file) = vrátí řádek, který začíná na takový unicode znak, který má největší hodnotu.\n",
    "with open(file=\"svejk.txt\", mode=\"rt\", encoding=\"utf-8\") as file:\n",
    "    max_line = max(file)\n",
    "    print(max_line)"
   ]
  },
  {
   "cell_type": "code",
   "execution_count": 57,
   "metadata": {},
   "outputs": [
    {
     "data": {
      "text/plain": [
       "'…'"
      ]
     },
     "execution_count": 57,
     "metadata": {},
     "output_type": "execute_result"
    }
   ],
   "source": [
    "# Trojtečka\n",
    "max_line[0]"
   ]
  },
  {
   "cell_type": "code",
   "execution_count": 58,
   "metadata": {},
   "outputs": [
    {
     "data": {
      "text/plain": [
       "8230"
      ]
     },
     "execution_count": 58,
     "metadata": {},
     "output_type": "execute_result"
    }
   ],
   "source": [
    "# Vrátí Unicode kód\n",
    "ord(max_line[0])"
   ]
  },
  {
   "cell_type": "code",
   "execution_count": 59,
   "metadata": {},
   "outputs": [
    {
     "name": "stdout",
     "output_type": "stream",
     "text": [
      "„Není ten Chodounský, co má soukromej detektivní ústav s tím vokem jako trojice boží, váš příbuznej?“ otázal se nevinně Švejk. „Já mám moc rád soukromý detektivy. Já jsem taky jednou sloužil před léty na vojně s jedním soukromým detektivem, s nějakým Stendlerem. Ten měl tak šišatou hlavu, že mu náš feldvébl vždycky říkal, že už viděl moc šišatejch hlav vojenskejch za dvanáct let, ale takovou šišku že si ani v duchu nepředstavoval. ‚Poslouchají, Stendlere,‘ říkal mu vždycky, ‚kdyby nebyly letos manévry, tak by se vaše šišatá hlava ani na vojnu nehodila, ale takhle se bude alespoň podle vaší šišky artilérie nastřelovat, když přijdem do krajiny, kde nebude žádnej lepší punkt k orientaci.‘ Ten vod něho zkusil. Někdy, při marši, poslal ho na pět set kroků napřed a pak poručil: ‚Direktion šišatá hlava.‘ Von měl vůbec ten pan Stendler, i jako soukromej detektiv, náramnou smůlu. Kolikrát nám v kantýně o tom vyprávěl, jaký měl často trápení. Von dostával takový úlohy, jako kupříkladu vypátrat, zdali se manželka nějakýho klienta, který k nim přišel celej bez sebe, s jiným nesčuchla, a jestli už se sčuchla, s kým se sčuchla, kde a jak se sčuchla. Nebo zas naopak. Nějaká taková žárlivá ženská chtěla vypátrat, s kterou se její muž fláká, aby mu mohla doma dělat ještě větší rámus. Von byl vzdělanej člověk, mluvil jen vybraně o porušení manželský věrnosti a vždycky div neplakal, když nám vyprávěl, že všichni chtěli, aby zastih ji nebo jeho in flagranti. Jinej by se třebas z toho těšil, když najde takovej párek in flagranti, a voči by si moh vykoukat, ale ten pan Stendler, jak nám vyprávěl, byl z toho celej pryč. Von říkal velice inteligentně, že se už nemoh na ty voplzlý prostopášnosti ani koukat. Nám kolikrát tekly sliny z huby, jako když pes kaní, když kolem něho nesou vařenou šunku, když nám vyprávěl o všech těch různejch pozicích, jak ty párky natrefil. Když jsme měli kasárníka, tak nám to vždy kreslil. ‚Takhle jsem,´ povídá, ‚viděl paní tu a tu s tím a tím pánem…‘ I adresy nám řek. A byl takovej smutnej. ‚Těch facek,‘ říkal vždy, ‚co jsem dostal vod vobojích stran; a to mne tak nemrzelo jako to, že jsem bral úplatky. Na jeden takovej úplatek nezapomenu do smrti. Von nahej, vona nahá. V hotelu, a nezarýgrovali se, pitomci! Na divan se nevešli, poněvadž byli voba tlustí, tak laškovali na koberci jako koťata. A koberec byl celej prošlapanej, zaprášenej a po něm válely se nedopalky z cigaret. A když jsem vešel, tak voba vyskočili, von stál proti mně a ruku si držel jako fíkovej list. A vona se otočila zády ke mně a bylo vidět na kůži, že má vobtisknutej celej vzorek toho mřížkování z koberce a na páteři jednu přilepenou hilznu z cigarety. Vodpuste, povídám, pane Zemku, já jsem soukromej detektiv Stendler, vod Chodounskýho, a mám ouřední povinnost vás najít in flagranti na základě oznámení vaší paní manželky. Tato dáma, s kterou zde udržujete nedovolený poměr, jest paní Grotová. Nikdy jsem v životě neviděl takovýho klidnýho občana. Dovolte, řekl, jako by se to samo sebou rozumělo, já se obléknu. Vinna je jedině má manželka, která bezdůvodnou žárlivostí svádí mne k nedovolenýmu poměru, kteráž puzena pouhým podezřením uráží manžela předhůzkami a mrzkou nedůvěrou. Nezbývá-li však pochybnosti, že hanba nedá se víc zatajit… Kde mám podvlíkačky? otázal se přitom klidně. Na posteli. Zatímco na sebe natahoval podvlékačky, vykládal mně dál: Jestli hanba se nedá zatajit, tak se řekne rozvod. Ale tím se skvrna příhany nezatají. Vůbec jest rozvod věcí povážlivou, mluvil dál, oblékaje se, nejlepší je, když se manželka ozbrojí trpělivostí a nepodává podnět k veřejnému pohoršení. Ostatně dělejte, jak chcete, já vás zde nechám s milostpaní o samotě. Paní Grotová vlezla si zatím do postele, pan Zemek mně podal ruku a odešel.‘ Já už se dobře nepamatuji, jak nám dál vykládal pan Stendler, co všechno potom mluvil, poněvadž von se bavil s tou paní v posteli velice inteligentně, že jako manželství není ustanoveno k tomu, aby každýho zhola přímo vedlo ku štěstí, a že každého je povinnost v manželství pokořit chtíč a tělesnou svou část vytříbit a oduševnit. ‚A přitom jsem se,‘ vyprávěl pan Stendler, ‚pomalu začal vodstrojovat, a když už jsem byl vodstrojenej a celej zmámenej a divokej jako jelen v říji, vešel do pokoje můj dobrej známej Stach, taky soukromej detektiv, z našeho konkurenčního ústavu pana Sterna, kam se vobrátil pan Grot o pomoc, co se týká jeho paní, která prý má nějakou známost, a víc neřek než: Aha, pan Stendler je in flagranti s paní Grotovou, gratuluji. Zavřel zas tiše dveře a odešel. Teď už je všechno jedno, řekla paní Grotová, nemusíte se tak rychle voblíkat, máte vedle mne dost místa. Mně se, milostpaní, právě jedná vo místo, řekl jsem a už jsem ani nevěděl, co mluvím, jenom se pamatuji, že jsem něco mluvil o tom, že panují-li sváry mezi manžely, že tím utrpí taky vychování dítek.‘ Potom ještě nám vyprávěl, jak se rychle voblíkal a jak vzal roha a jak si umínil, že to hned řekne svýmu šéfovi panu Chodounskýmu, ale že se šel na to posilnit, a než přišel, že už to bylo s křížkem po funuse. Zatím že už tam byl ten Stach z nařízení svýho šéfa pana Sterna, aby dal ránu panu Chodounskýmu, jaký to má zřízence svýho soukromýho detektivního ústavu, a ten zas nevěděl vo ničem lepším než poslat rychle pro manželku pana Stendlera, aby si to s ním spravila sama, když je někam poslán v úřední povinnosti a najdou ho z konkurenčního ústavu in flagranti. ‚Vod tý doby,‘ říkal vždy pan Stendler, když na tohle přišla řeč, ‚mám ještě šišatější palici.‘ “\n",
      "\n"
     ]
    }
   ],
   "source": [
    "# Nejdelší odstavec (vnímán jako řádek) ve Švejkovy.\n",
    "# Nyní můžeme zpracovávat text po řádcích, protože nyní víme, že žádný řádek nebude moc dlouhý (delší než tento).\n",
    "with open(file=\"svejk.txt\", mode=\"rt\", encoding=\"utf-8\") as file:\n",
    "    max_line = max(file, key=len)\n",
    "    print(max_line)"
   ]
  },
  {
   "cell_type": "code",
   "execution_count": 100,
   "metadata": {},
   "outputs": [
    {
     "name": "stdout",
     "output_type": "stream",
     "text": [
      "Počet slov: 200148\n",
      "Nejdelší slovo: offiziersmenageküchenabteilung\n",
      "Nejdelší věta: Převládali vojáci od různých regimentů, formací a nejrůznější národnosti, které vichřice válečná zavála do táborských lazaretů, kteří nyní odjížděli znova do pole pro nová zranění, zmrzačení, bolesti a jeli si vysloužit nad svými hroby prostý dřevěný kříž, na kterém ještě po letech na smutných pláních východní Haliče bude se ve větru a dešti třepetat vybledlá rakouská vojenská čepice se zrezavělým frantíkem, na které čas od času si usedne smutný zestárlý krkavec, vzpomínající na tučné hody před lety, kdy býval tu pro něho nekonečný prostřený stůl lidských chutných mrtvol a koňských zdechlin, kdy právě pod takovou čepicí, na které sedí, bylo to nejchutnější sousto – lidské oči\n",
      "Věta s nejvíce slovy: Mladší sestra že se utopila, starší že se vrhla pod vlak, bratr že skočil z železničního mostu na Vyšehradě, dědeček že zavraždil svou ženu a polil se petrolejem a zapálil se, druhá babička že se toulala s cikány a otrávila se ve vězení sirkami, jeden bratranec že byl několikrát souzen pro žhářství a podřezal si v Kartouzích žíly na krku kouskem skla, sestřenice z otcovy strany že se vrhla ve Vídni z šestýho patra, von sám že je strašně zanedbanýho vychování a do deseti let že neuměl mluvit, poněvadž ve věku šesti měsíců, když ho převazovali na stole a někam vodběhli, kočka ho stáhla se stolu a pádem že se uhodil do hlavy\n",
      "Za jakou dobu přečteme Švejka (při rychlosti 200 slov/minutu): 16.679 hodin\n",
      "Jaké slovo se vyskytuje ve Švejkovy nejčastěji: ('a', 7077)\n",
      "Všechny jednoslovné věty ve Švejkovy: ['Autor', 'To', 'Všelijaké', 'Jsem', 'Může', 'Nečetl', 'Nevím', 'Rozumíte', 'Ven', 'Ven', 'Stačí', '2', 'Tauglich', 'p', 'Kam', 'Budou', 'Heil', '2', '3', '4', '5', 'Macuna', 'Zde', 'Zde', 'Zde', 'Zde', 'Švejk', 'Zde', 'Dr', 'Dr', 'Grünstein', 'Amen', 'Grünsteina', 'Dr', 'tauglich', 'An', 'Feuer', 'kat', 'Habacht', 'Pláče', 'Abtreten', 'Abtreten', 'Vyřízeno', 'u', 'k', 'Militärgericht', 'Marš', 'Sedneš', 'Platit', 'Dva', 'pluku', 'Alimenty', 'K', 'k', 'svatý', 'pluku', 'v', 'Uposlechl', 'Chudý', 'apod', 'Vojáci', 'prosince', 'Doma', 'jsem', 'Zavíráme', 'Ano', 'Rozumíte', 'Cože', 'večer', 'Tak', 'Švejku', 'Hotovo', '20', 'Kouše', 'Smaženýho', 'Jsem', 'Pořád', 'Maxi', 'Rozumíte', 'Ano', 'Ano', 'Halt', 'Halt', 'Halt', 'říkával', 'Nevěděl', 'Ano', 'Halt', 'pluku', 'Ano', 'pluku', 'Mám', 'Dobře', 'Lukáš', 'taky', 'Švejku', 'Jungwirt', 'Jungwirt', 'Magyarul', 'miláček', 'k', '21', '3', 'Aha', 'c', 'k', 'Abtreten', 'regimentu', 'Starej', 'Kampak', 'Výborně', 'Neumím', 'Nemám', 'regimentu', 'Sekretreservaten', 'atd', 'Méé', 'Mijostpane', 'Méé', 'Hop', 'Y', 'Z', 'Jakpak', 'regimentu', 'pěš', 'pěš', 'Nemají', 'Ticho', 'Umím', 'Rozumíte', 'Sklouzavka', '28', 'regiment', 'k', 'zem', 'Nic', 'Reg', 'Regimentsraport', 'k', 'kretenismus', 'Offiziersschule', 'C', 'k', 'regimentu', 'regimentu', 'Posloucháte', 'Abtreten', 'Abtreten', 'přemejšlím', 'Padnou', 'Hurrá', 'Rozumíte', 'Nemůžete', 'Mensch', 'Regimentskanzlei', 'Blb', 'regimentu', 'Nazdar', 'Nazdar', 'Nazdar', 'Heil', 'nazdar', 'heil', 'Halt', 'Kampak', 'Vorwärts', 'Marsch', 'k', 'Nevíte', 'M', 'Kadlčákem', 'A', 'Nestál', 'Marně', 'landvérregimentu', 'k', 'pufy', 'k', 'k', 'k', 'Mannschaftspuff', 'pluku', 'štajerákům', 'landvér', 'Zuwachs', 'I', 'II', 'S', 'S', 'marekvium', 'Velkopopovický', 'marškumpačce', 'maršky', 'Herein', 'Pelegrina', 'Vaněk', 'marškumpanie', 'maršky', 'Švejk', 'Braun', 'Nezapírej', 'Nemluvil', 'marškumpanie', 'Pauza', 'Cože', 'Cheche', 'marškumpanie', 'Telefonogram', 'Marschkumpanie', '11', 'Kumpaniekommandant', 'Já', 'Švejk', 'Nic', 'marškumpanie', '13', 'marška', 'Haló', 'Hraješ', 'Sám', 'Nacionálnost', 'Účty', '12', 'k', 'C', 'k', 'dubna', 'regimentu', 'Hráli', 'Kameraden', 'str', 'díl', 'roce', 'k', 'k', 'C', 'k', 'K', 'u', 'k', 'k', 'generál', 'Alelujá', 'marškumpanie', 'Sanität', 'Sanität', 'Transportmilitärbahnhof', 'Abstinent', '13', '11', 'setnina', '13', 'Abtreten', 'Trestat', 'Ano', 'Einstellen', 'Auf', 'Habacht', 'Einstellen', 'Herstellt', 'marškumpanie', 'Amen', 'Rozumíte', 'Ruht', 'Ruht', 'Člověče', 'Herstellt', 'Halbrechts', 'Herstellt', 'Halbrechts', 'Halblinks', 'Links', 'Front', 'Gradaus', 'Kniet', 'Nieder', 'Setzen', 'Auf', 'Setzen', 'Nieder', 'Auf', 'Nieder', 'Auf', 'Setzen', 'Auf', 'Ruht', 'Laufschritt', 'Schritt', 'Ruht', 'Halt', 'Ruht', 'Laden', 'Schießen', 'An', 'Feuer', 'An', 'Feuer', 'An', 'Feuer', 'Ruht', '4268', 'koleji', 'Fertig', 'Feuer', 'Hrome', 'Vorsicht', 'Artilleriedivision', 'Kappe', 'Hatvan', 'regimentu', 'Kafe', 'Kafe', 'Halt', 'Éljen', 'Éljen', 'Kerzla', 'Neslevíš', 'dědek', 'prďoch', 'prevít', 'dědek', 'Aktivní', 'Prasata', 'pluku', 'Besetzt', 'Herein', '11', 'k', 'N', 'B', 'Švejch', '91', 'Hier', 'Halt', 'regimentu', 'regimentu', 'Cože', 'Nepřišel', 'K', 'u', 'k', 'Militärmagazinkatze', 'C', 'k', 'regimentu', 'k', 'Dobrovolně', 'Dobrovolně', 'marškumpanie', 'k', 'regimentu', 'k', 'dp', 'Martinec', 'Zešílel', 'Vojáci', 'Ruht', 't', 'm', 'Hier', 'Hier', 'Marschkumpanie', 'Zmizte', 'Nazdar', 'regiment', 'Čekám', 'Halt', 'zablábolil']\n",
      "Jaké písmeno se ve slovech vyskytuje nejčastěji (bez ohledu na pozici): ('e', 83354)\n",
      "Jaké písmeno se na začátku slov vyskytuje nejčastěji: ('p', 18424)\n"
     ]
    }
   ],
   "source": [
    "# Regular Expression (regulární výraz).\n",
    "# Jazyk, kterým lze popsat strukturu řetězců.\n",
    "# \\s = libovolný znak, který je mezerový/bílý (space character,white space)\n",
    "# \\s+ = libovolná posloupnost bílých znaků jdoucích za sebou\n",
    "# [] = nebo, tedy [\\s,.,;] = posloupnost bílých znaků, tečka nebo středník\n",
    "# \\W+ = pouze písmena, nic jiného\n",
    "from collections import Counter\n",
    "import re\n",
    "\n",
    "\n",
    "def text_to_words(text: str) -> list[str]:\n",
    "    return re.split(r\"\\W+\", text)\n",
    "\n",
    "\n",
    "def numbers_of_words(text: str) -> int:\n",
    "    return len(text_to_words(text))\n",
    "\n",
    "\n",
    "with open(file=\"svejk.txt\", mode=\"rt\", encoding=\"utf-8\") as file:\n",
    "    text = file.read()\n",
    "    words = text_to_words(text)\n",
    "    sentences = re.split(r\"[.?!„“”]\\s*\", text)\n",
    "    words_dict = Counter([word.lower() for word in words])\n",
    "    print(f\"Počet slov: {len(words)}\")\n",
    "    print(f\"Nejdelší slovo: {max(words, key=len)}\")\n",
    "    print(f\"Nejdelší věta: {max(sentences, key=len)}\")\n",
    "    print(f\"Věta s nejvíce slovy: {max(sentences, key=numbers_of_words)}\")\n",
    "    print(\n",
    "        f\"Za jakou dobu přečteme Švejka (při rychlosti 200 slov/minutu): {len(words) / (200 * 60)} hodin\"\n",
    "    )\n",
    "    print(\n",
    "        f\"Jaké slovo se vyskytuje ve Švejkovy nejčastěji: {Counter.most_common(words_dict)[0]}\"\n",
    "    )\n",
    "    print(\n",
    "        f\"Všechny jednoslovné věty ve Švejkovy: {[sentence for sentence in sentences if numbers_of_words(sentence) == 1 and len(sentence) > 0]}\"\n",
    "    )\n",
    "    print(f\"Jaké písmeno se ve slovech vyskytuje nejčastěji (bez ohledu na pozici): {Counter(\"\".join([word.lower() for word in words])).most_common()[0]}\")\n",
    "    print(f\"Jaké písmeno se na začátku slov vyskytuje nejčastěji: {Counter([word[0] for word in words if word]).most_common()[0]}\")"
   ]
  }
 ],
 "metadata": {
  "kernelspec": {
   "display_name": "Python 3",
   "language": "python",
   "name": "python3"
  },
  "language_info": {
   "codemirror_mode": {
    "name": "ipython",
    "version": 3
   },
   "file_extension": ".py",
   "mimetype": "text/x-python",
   "name": "python",
   "nbconvert_exporter": "python",
   "pygments_lexer": "ipython3",
   "version": "3.12.0"
  }
 },
 "nbformat": 4,
 "nbformat_minor": 2
}
