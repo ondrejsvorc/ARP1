{
 "cells": [
  {
   "cell_type": "markdown",
   "metadata": {},
   "source": [
    "![title](stack.svg)"
   ]
  },
  {
   "cell_type": "code",
   "execution_count": null,
   "metadata": {},
   "outputs": [],
   "source": [
    "# https://ki.ujep.cz/opory/Aplikovana_Informatika/Bc/Algoritmizace_a_programovani_II.html#Kolekce-jako-abstraktn%C3%AD-datov%C3%A9-typy"
   ]
  },
  {
   "cell_type": "code",
   "execution_count": 5,
   "metadata": {},
   "outputs": [
    {
     "name": "stdout",
     "output_type": "stream",
     "text": [
      "0\n",
      "1\n",
      "2\n",
      "3\n",
      "4\n",
      "5\n",
      "6\n",
      "7\n",
      "8\n",
      "9\n"
     ]
    }
   ],
   "source": [
    "from typing import Any\n",
    "from collections import deque\n",
    "\n",
    "\n",
    "class Queue:\n",
    "    def __init__(self):\n",
    "        self._data = deque()\n",
    "\n",
    "    def enqueue(self, item: Any) -> None:\n",
    "        self._data.append(item)\n",
    "\n",
    "    def dequeue(self) -> Any:\n",
    "        if len(self._data) == 0:\n",
    "            raise ValueError(\"Empty queue.\")\n",
    "        return self._data.popleft()  # O(1), narozdíl od pop(0), které je O(n)\n",
    "\n",
    "    def empty(self) -> bool:\n",
    "        return not bool(self._data)\n",
    "\n",
    "\n",
    "queue = Queue()\n",
    "\n",
    "for i in range(10):\n",
    "    queue.enqueue(i)\n",
    "\n",
    "while not queue.empty():\n",
    "    print(queue.dequeue())"
   ]
  },
  {
   "cell_type": "code",
   "execution_count": 6,
   "metadata": {},
   "outputs": [
    {
     "name": "stdout",
     "output_type": "stream",
     "text": [
      "9\n",
      "8\n",
      "7\n",
      "6\n",
      "5\n",
      "4\n",
      "3\n",
      "2\n",
      "1\n",
      "0\n"
     ]
    }
   ],
   "source": [
    "from typing import Any\n",
    "\n",
    "\n",
    "class Stack:\n",
    "    def __init__(self):\n",
    "        self._data = []\n",
    "\n",
    "    def push(self, item: Any) -> None:\n",
    "        self._data.append(item)\n",
    "\n",
    "    def pop(self) -> Any:\n",
    "        if len(self._data) == 0:\n",
    "            raise ValueError(\"Empty stack\")\n",
    "        return self._data.pop()\n",
    "\n",
    "    def peek(self) -> Any:\n",
    "        if len(self._data) == 0:\n",
    "            raise ValueError(\"Empty stack\")\n",
    "        return self._data[-1]\n",
    "\n",
    "    def empty(self) -> bool:\n",
    "        return not bool(self._data)\n",
    "\n",
    "    def __bool__(self):\n",
    "        return bool(self._data)\n",
    "\n",
    "    def __repr__(self):\n",
    "        return repr(self._data)\n",
    "\n",
    "    def __len__(self):\n",
    "        return len(self._data)\n",
    "\n",
    "\n",
    "stack = Stack()\n",
    "for i in range(10):\n",
    "    stack.push(i)\n",
    "\n",
    "while stack:\n",
    "    print(stack.pop())"
   ]
  },
  {
   "cell_type": "code",
   "execution_count": 14,
   "metadata": {},
   "outputs": [
    {
     "name": "stdout",
     "output_type": "stream",
     "text": [
      "[91, 75, 94, 95, 99, 89, 97, 98, 86, 63]\n",
      "91\n",
      "75\n",
      "94\n",
      "95\n",
      "99\n",
      "89\n",
      "97\n",
      "98\n",
      "86\n",
      "63\n",
      "Drogo\n",
      "Bilbo\n"
     ]
    }
   ],
   "source": [
    "from random import randrange\n",
    "\n",
    "\n",
    "class SkleroticSet:\n",
    "    \"\"\"\n",
    "    Sklerotické množiny mají sémantiku množin, ale jen omezanou kapacitu prvků. Pokud\n",
    "    je celá kapacita využita, náhodně zapomínají vložené údaje.\n",
    "\n",
    "    Záruky:\n",
    "      * poslední vložený prvek není nikdy zapomenut\n",
    "      * dříve vložené prvky mají větší pravděpodobnost zapomenutí než prvky vložené později\n",
    "    \"\"\"\n",
    "\n",
    "    def __init__(self, capacity: int):\n",
    "        self._data = []\n",
    "        self._capacity = capacity\n",
    "\n",
    "    def insert(self, item) -> None:\n",
    "        if len(self._data) < self._capacity:\n",
    "            self._data.append(item)\n",
    "        else:\n",
    "            assert len(self._data) == self._capacity\n",
    "            index = randrange(0, self._capacity)\n",
    "            self._data[index] = item\n",
    "\n",
    "    def random_item(self) -> Any:\n",
    "        index = randrange(0, len(self._data))\n",
    "        return self._data[index]\n",
    "\n",
    "    def get_items(self) -> list:\n",
    "        return list(self._data)\n",
    "\n",
    "    def __contains__(self, item) -> bool:\n",
    "        return item in self._data\n",
    "\n",
    "    def __iter__(self):\n",
    "        return iter(self._data)\n",
    "\n",
    "    def __len__(self) -> int:\n",
    "        return len(self._data)\n",
    "\n",
    "    def __repr__(self):\n",
    "        return repr(self._data)\n",
    "\n",
    "    def __len__(self):\n",
    "        return len(self._data)\n",
    "\n",
    "    def __bool__(self):\n",
    "        return bool(self._data)\n",
    "\n",
    "\n",
    "numbers = SkleroticSet(10)\n",
    "for i in range(100):\n",
    "    numbers.insert(i)\n",
    "\n",
    "print(numbers.get_items())\n",
    "for item in numbers:\n",
    "    print(item)\n",
    "\n",
    "people = SkleroticSet(2)\n",
    "people.insert(\"Frodo\")\n",
    "people.insert(\"Bilbo\")\n",
    "people.insert(\"Drogo\")\n",
    "\n",
    "iterator = iter(people)\n",
    "print(next(iterator))\n",
    "print(next(iterator))"
   ]
  }
 ],
 "metadata": {
  "kernelspec": {
   "display_name": "Python 3",
   "language": "python",
   "name": "python3"
  },
  "language_info": {
   "codemirror_mode": {
    "name": "ipython",
    "version": 3
   },
   "file_extension": ".py",
   "mimetype": "text/x-python",
   "name": "python",
   "nbconvert_exporter": "python",
   "pygments_lexer": "ipython3",
   "version": "3.12.0"
  }
 },
 "nbformat": 4,
 "nbformat_minor": 2
}
