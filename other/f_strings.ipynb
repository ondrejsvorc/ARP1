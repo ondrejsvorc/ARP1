{
 "cells": [
  {
   "cell_type": "code",
   "execution_count": 16,
   "metadata": {},
   "outputs": [
    {
     "name": "stdout",
     "output_type": "stream",
     "text": [
      "age=100\n",
      "age = 100\n",
      "age + 10 = 110\n",
      "now = 2023-10-08\n"
     ]
    }
   ],
   "source": [
    "import datetime\n",
    "\n",
    "\n",
    "def debug_equals():\n",
    "    age = 100\n",
    "    print(f\"{age=}\")\n",
    "    print(f\"{age = }\")\n",
    "    print(f\"{age + 10 = }\")\n",
    "\n",
    "\n",
    "def debug_formatting():\n",
    "    now = datetime.date.today()\n",
    "    print(f\"{now = :%Y-%m-%d}\")\n",
    "\n",
    "\n",
    "debug_equals()\n",
    "debug_formatting()"
   ]
  },
  {
   "cell_type": "code",
   "execution_count": 19,
   "metadata": {},
   "outputs": [
    {
     "name": "stdout",
     "output_type": "stream",
     "text": [
      "Today is: 2023-10-8\n",
      "Today is: 10-8-2023\n"
     ]
    }
   ],
   "source": [
    "class DateCustom:\n",
    "    FORMAT_YMD = \"ymd\"\n",
    "    FORMAT_MDY = \"mdy\"\n",
    "\n",
    "    def __init__(self, year, month, day):\n",
    "        self.year = year\n",
    "        self.month = month\n",
    "        self.day = day\n",
    "\n",
    "    def __format__(self, format_spec: str):\n",
    "        format_spec = format_spec.lower()\n",
    "        if format_spec == self.FORMAT_YMD:\n",
    "            return f\"{self.year}-{self.month}-{self.day}\"\n",
    "        elif format_spec == self.FORMAT_MDY:\n",
    "            return f\"{self.month}-{self.day}-{self.year}\"\n",
    "        else:\n",
    "            return str(self)\n",
    "\n",
    "\n",
    "date_today = DateCustom(2023, 10, 8)\n",
    "print(f\"Today is: {date_today:ymd}\")\n",
    "print(f\"Today is: {date_today:mdy}\")"
   ]
  }
 ],
 "metadata": {
  "kernelspec": {
   "display_name": "Python 3",
   "language": "python",
   "name": "python3"
  },
  "language_info": {
   "codemirror_mode": {
    "name": "ipython",
    "version": 3
   },
   "file_extension": ".py",
   "mimetype": "text/x-python",
   "name": "python",
   "nbconvert_exporter": "python",
   "pygments_lexer": "ipython3",
   "version": "3.12.0"
  }
 },
 "nbformat": 4,
 "nbformat_minor": 2
}
