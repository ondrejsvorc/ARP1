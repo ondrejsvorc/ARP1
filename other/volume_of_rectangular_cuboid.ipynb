{
 "cells": [
  {
   "cell_type": "markdown",
   "metadata": {},
   "source": [
    "### Volume of rectangular cuboid\n",
    "\n",
    "Write a program that asks the user for 3 values separated by a comma from the standard input.\n",
    "The program should separate these values into variables, parse them, and calculate the volume.\n",
    "Finally, it should print the volume on the screen."
   ]
  },
  {
   "cell_type": "code",
   "execution_count": 6,
   "metadata": {},
   "outputs": [
    {
     "name": "stdout",
     "output_type": "stream",
     "text": [
      "Volume 210.0\n"
     ]
    }
   ],
   "source": [
    "MESSAGE = \"Enter rectangular cuboid length, height and width, separated by a comma: \"\n",
    "SEPARATOR = \",\"\n",
    "\n",
    "values = input(MESSAGE).split(SEPARATOR)\n",
    "length, height, width = list(map(float, values))\n",
    "volume = length * height * width\n",
    "\n",
    "print(f\"Volume {volume}\")"
   ]
  }
 ],
 "metadata": {
  "kernelspec": {
   "display_name": "Python 3",
   "language": "python",
   "name": "python3"
  },
  "language_info": {
   "codemirror_mode": {
    "name": "ipython",
    "version": 3
   },
   "file_extension": ".py",
   "mimetype": "text/x-python",
   "name": "python",
   "nbconvert_exporter": "python",
   "pygments_lexer": "ipython3",
   "version": "3.12.0"
  }
 },
 "nbformat": 4,
 "nbformat_minor": 2
}
