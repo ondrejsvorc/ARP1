{
 "cells": [
  {
   "cell_type": "markdown",
   "metadata": {},
   "source": [
    "### Volume of rectangular cuboid\n",
    "\n",
    "Write a program that asks the user for 3 values separated by a comma from the standard input.\n",
    "The program should separate these values into variables, parse them, and calculate the volume.\n",
    "Finally, it should print the volume on the screen."
   ]
  },
  {
   "cell_type": "code",
   "execution_count": 6,
   "metadata": {},
   "outputs": [
    {
     "name": "stdout",
     "output_type": "stream",
     "text": [
      "Volume 210.0\n"
     ]
    }
   ],
   "source": [
    "# First try.\n",
    "\n",
    "MESSAGE = \"Enter rectangular cuboid length, height and width, separated by a comma: \"\n",
    "SEPARATOR = \",\"\n",
    "\n",
    "values = input(MESSAGE).split(SEPARATOR)\n",
    "length, height, width = list(map(float, values))\n",
    "volume = length * height * width\n",
    "\n",
    "print(f\"Volume: {volume}\")"
   ]
  },
  {
   "cell_type": "code",
   "execution_count": 4,
   "metadata": {},
   "outputs": [
    {
     "name": "stdout",
     "output_type": "stream",
     "text": [
      "Volume: 210.0\n"
     ]
    }
   ],
   "source": [
    "# Improved version of first try.\n",
    "\n",
    "\n",
    "def calculate_volume(length, height, width):\n",
    "    return length * height * width\n",
    "\n",
    "\n",
    "MESSAGE = \"Enter rectangular cuboid length, height and width, separated by a comma: \"\n",
    "MESSAGE_ERROR = \"Invalid input. You must enter numeric values separated by a comma.\"\n",
    "SEPARATOR = \",\"\n",
    "ask_for_user_input = True\n",
    "\n",
    "while ask_for_user_input:\n",
    "    try:\n",
    "        values = input(MESSAGE).split(SEPARATOR)\n",
    "        length, height, width = map(float, values)\n",
    "        volume = calculate_volume(length, height, width)\n",
    "        print(f\"Volume: {volume}\")\n",
    "        ask_for_user_input = False\n",
    "    except ValueError:\n",
    "        print(MESSAGE_ERROR)"
   ]
  }
 ],
 "metadata": {
  "kernelspec": {
   "display_name": "Python 3",
   "language": "python",
   "name": "python3"
  },
  "language_info": {
   "codemirror_mode": {
    "name": "ipython",
    "version": 3
   },
   "file_extension": ".py",
   "mimetype": "text/x-python",
   "name": "python",
   "nbconvert_exporter": "python",
   "pygments_lexer": "ipython3",
   "version": "3.12.0"
  }
 },
 "nbformat": 4,
 "nbformat_minor": 2
}
