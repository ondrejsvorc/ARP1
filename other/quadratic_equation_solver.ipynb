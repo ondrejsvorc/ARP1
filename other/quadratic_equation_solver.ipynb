{
 "cells": [
  {
   "cell_type": "code",
   "execution_count": 10,
   "metadata": {},
   "outputs": [
    {
     "name": "stdout",
     "output_type": "stream",
     "text": [
      "x1 = 1.0\n",
      "x2 = -3.0\n"
     ]
    }
   ],
   "source": [
    "import math\n",
    "\n",
    "MESSAGE = \"Enter a, b, and c of quadratic equation (e.g., 5 6 7): \"\n",
    "MESSAGE_ERROR = \"Invalid input. You must enter numeric values separated by a space.\"\n",
    "MESSAGE_NO_SOLUTION = \"No solution exists in the field of real values.\"\n",
    "SEPARATOR = \" \"\n",
    "\n",
    "\n",
    "def solve_quadratic_equation(a, b, c):\n",
    "    discriminant = b**2 - 4 * a * c\n",
    "    if discriminant < 0:\n",
    "        return MESSAGE_NO_SOLUTION\n",
    "    elif discriminant == 0:\n",
    "        x = -b / (2 * a)\n",
    "        return f\"{x = }\"\n",
    "    elif discriminant > 0:\n",
    "        discriminant_root = math.sqrt(discriminant)\n",
    "        x1 = (-b + discriminant_root) / (2 * a)\n",
    "        x2 = (-b - discriminant_root) / (2 * a)\n",
    "        return f\"{x1 = }\\n{x2 = }\"\n",
    "\n",
    "\n",
    "try:\n",
    "    user_input = input(MESSAGE).split(SEPARATOR)\n",
    "    a, b, c = map(float, user_input)\n",
    "except ValueError:\n",
    "    print(MESSAGE_ERROR)\n",
    "\n",
    "result = solve_quadratic_equation(a, b, c)\n",
    "print(result)"
   ]
  }
 ],
 "metadata": {
  "kernelspec": {
   "display_name": "Python 3",
   "language": "python",
   "name": "python3"
  },
  "language_info": {
   "codemirror_mode": {
    "name": "ipython",
    "version": 3
   },
   "file_extension": ".py",
   "mimetype": "text/x-python",
   "name": "python",
   "nbconvert_exporter": "python",
   "pygments_lexer": "ipython3",
   "version": "3.12.0"
  }
 },
 "nbformat": 4,
 "nbformat_minor": 2
}
