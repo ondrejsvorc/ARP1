{
 "cells": [
  {
   "cell_type": "code",
   "execution_count": 2,
   "metadata": {},
   "outputs": [
    {
     "name": "stdout",
     "output_type": "stream",
     "text": [
      "těžká podvýživa\n"
     ]
    }
   ],
   "source": [
    "# BMI = Body Mass Index\n",
    "\n",
    "weight = int(input(\"Your weight (kg): \"))\n",
    "height = float(input(\"Your height (m): \"))\n",
    "\n",
    "bmi = round(weight / (height**2), 2)\n",
    "\n",
    "if bmi > 40:\n",
    "    print(\"obezita třetího stupně\")\n",
    "elif 40 >= bmi >= 30:\n",
    "    print(\"obezita druhého stupně\")\n",
    "elif 35 >= bmi >= 30:\n",
    "    print(\"obezita prvního stupně\")\n",
    "elif 30 >= bmi >= 25:\n",
    "    print(\"nadváha\")\n",
    "elif 25 >= bmi >= 18.5:\n",
    "    print(\"ideální  váha\")\n",
    "elif 18.5 > bmi >= 16.5:\n",
    "    print(\"podváha\")\n",
    "else:\n",
    "    print(\"těžká podvýživa\")"
   ]
  },
  {
   "cell_type": "code",
   "execution_count": 5,
   "metadata": {},
   "outputs": [
    {
     "name": "stdout",
     "output_type": "stream",
     "text": [
      "x = -2.0\n"
     ]
    }
   ],
   "source": [
    "# Quadratic equation\n",
    "\n",
    "import math\n",
    "\n",
    "\n",
    "a, b, c = map(float, input(\"a, b, c: \").split(\" \"))\n",
    "discriminant = b**2 - 4 * a * c\n",
    "\n",
    "if discriminant >= 0:\n",
    "    discriminant_root = math.sqrt(discriminant)\n",
    "    x1, x2 = (-b + discriminant_root) / (2 * a), (-b - discriminant_root) / (2 * a)\n",
    "    print(f\"{x1, x2 = }\" if x1 != x2 else f\"x = {x1}\")\n",
    "else:\n",
    "    print(\"Nemá řešení (v oboru reálných čísel).\")\n",
    "\n",
    "# nebo result = { x1, x2 }, čímž dám výsledky x1 a x2 do množiny, a ta má tu\n",
    "# vlastnost, že dostraňuje duplicity, tudíž pokud x1 === x2, tak tam zůstane jen jedno z nich\n",
    "# a to se pak může vypsat"
   ]
  },
  {
   "cell_type": "code",
   "execution_count": 9,
   "metadata": {},
   "outputs": [
    {
     "name": "stdout",
     "output_type": "stream",
     "text": [
      "remíza\n"
     ]
    }
   ],
   "source": [
    "# Rock, paper, scissors\n",
    "\n",
    "import random\n",
    "\n",
    "CHOICES = [\"rock\", \"paper\", \"scissors\"]\n",
    "\n",
    "user_choice = int(input(\"rock, paper, or scissors (enter 0, 1 or 2): \"))\n",
    "computer_choice = CHOICES.index(random.choice(CHOICES))\n",
    "\n",
    "# 1 1 - rock, rock\n",
    "# 1 2 - rock, paper\n",
    "# 1 3 - rock, scissors\n",
    "\n",
    "# 2 2 - paper, paper\n",
    "# 2 1 - paper, rock\n",
    "# 3 1 - scissors, rock\n",
    "\n",
    "# 3 3 - scissors, scissors\n",
    "# 3 1 - scissors, rock\n",
    "# 3 2 - scissors, paper\n",
    "\n",
    "result = (user_choice - computer_choice) % 3\n",
    "\n",
    "# Display the result\n",
    "if result == 0:\n",
    "    print(\"remíza\")\n",
    "elif result == 1:\n",
    "    print(\"uživatel vyhrál\")\n",
    "else:\n",
    "    print(\"počítač vyhrál\")"
   ]
  }
 ],
 "metadata": {
  "kernelspec": {
   "display_name": "Python 3",
   "language": "python",
   "name": "python3"
  },
  "language_info": {
   "codemirror_mode": {
    "name": "ipython",
    "version": 3
   },
   "file_extension": ".py",
   "mimetype": "text/x-python",
   "name": "python",
   "nbconvert_exporter": "python",
   "pygments_lexer": "ipython3",
   "version": "3.12.0"
  }
 },
 "nbformat": 4,
 "nbformat_minor": 2
}
