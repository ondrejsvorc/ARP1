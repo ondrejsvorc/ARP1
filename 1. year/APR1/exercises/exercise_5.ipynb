{
 "cells": [
  {
   "cell_type": "code",
   "execution_count": 3,
   "metadata": {},
   "outputs": [
    {
     "name": "stdout",
     "output_type": "stream",
     "text": [
      "Rex\n"
     ]
    }
   ],
   "source": [
    "# list, tuple, set - O(n)\n",
    "# dict - O(1)\n",
    "\n",
    "# Při uložení do operační paměti slovník uloží 2 informace\n",
    "# - 1) adresu v operační paměti (kde se prvek nachází)\n",
    "# - 2) jaký klíč je k výběru tohoto prvku\n",
    "\n",
    "# Dictionary - slovník - množina dvojic - klíč hodnota (Key Value Pair (KVP))\n",
    "# Klíčem může být vše, co je nemutabilní (celá čísla, desetinná čísla, tuple)\n",
    "# Vnořené slovníky = JSON\n",
    "# Každý klíč by měl být unikátní = Python to ale (bohužel) dovolí, vrátí poslední definovaný klíč\n",
    "dog = {\n",
    "    \"name\": \"Rex\",\n",
    "    \"age\": 5,\n",
    "    \"owners\": [\"John\", \"Theodor\"],\n",
    "}\n",
    "\n",
    "print(dog[\"name\"])"
   ]
  },
  {
   "cell_type": "code",
   "execution_count": 6,
   "metadata": {},
   "outputs": [
    {
     "name": "stdout",
     "output_type": "stream",
     "text": [
      "['name', 'age', 'owners']\n",
      "['Rex', 5, ['John', 'Theodor']]\n",
      "dict_items([('name', 'Rex'), ('age', 5), ('owners', ['John', 'Theodor'])])\n"
     ]
    }
   ],
   "source": [
    "dog = {\n",
    "    \"name\": \"Rex\",\n",
    "    \"age\": 5,\n",
    "    \"owners\": [\"John\", \"Theodor\"],\n",
    "}\n",
    "\n",
    "list_of_keys = list(dog.keys())\n",
    "list_of_values = list(dog.values())\n",
    "items_all = dog.items()\n",
    "\n",
    "print(list_of_keys)\n",
    "print(list_of_values)\n",
    "print(items_all)"
   ]
  },
  {
   "cell_type": "code",
   "execution_count": 14,
   "metadata": {},
   "outputs": [
    {
     "name": "stdout",
     "output_type": "stream",
     "text": [
      "Word: how (1x)\n",
      "Word: are (1x)\n",
      "Word: you (1x)\n",
      "Word: rex (2x)\n",
      "Word: goodbye (1x)\n"
     ]
    }
   ],
   "source": [
    "sentence = \"How are you Rex? Goodbye Rex!\"\n",
    "items_to_delete = [\".\", \"?\", \"!\", \":)\"]\n",
    "\n",
    "for item in items_to_delete:\n",
    "    sentence = sentence.replace(item, \"\")\n",
    "sentence = sentence.lower().strip()\n",
    "\n",
    "words_counter = {}\n",
    "for word in sentence.split(\" \"):\n",
    "    if word in words_counter.keys():\n",
    "        words_counter[word] += 1\n",
    "    else:\n",
    "        words_counter[word] = 1\n",
    "\n",
    "for word, word_occurences_count in words_counter.items():\n",
    "    print(f\"Word: {word} ({word_occurences_count}x)\")"
   ]
  },
  {
   "cell_type": "code",
   "execution_count": 29,
   "metadata": {},
   "outputs": [
    {
     "name": "stdout",
     "output_type": "stream",
     "text": [
      "Word: h (1x)\n",
      "Word: o (4x)\n",
      "Word: w (1x)\n",
      "Word: a (1x)\n",
      "Word: r (3x)\n",
      "Word: e (4x)\n",
      "Word: y (2x)\n",
      "Word: u (1x)\n",
      "Word: x (2x)\n",
      "Word: g (1x)\n",
      "Word: d (1x)\n",
      "Word: b (1x)\n"
     ]
    }
   ],
   "source": [
    "sentence = \"How are you Rex? Goodbye Rex!\"\n",
    "items_to_delete = [\".\", \"?\", \"!\", \":)\", \" \"]\n",
    "\n",
    "for item in items_to_delete:\n",
    "    sentence = sentence.replace(item, \"\")\n",
    "sentence = sentence.lower().strip()\n",
    "\n",
    "words_counter = {}\n",
    "for word in sentence:\n",
    "    if word in words_counter.keys():\n",
    "        words_counter[word] += 1\n",
    "    else:\n",
    "        words_counter[word] = 1\n",
    "\n",
    "for word, word_occurences_count in words_counter.items():\n",
    "    print(f\"Word: {word} ({word_occurences_count}x)\")"
   ]
  },
  {
   "cell_type": "code",
   "execution_count": 36,
   "metadata": {},
   "outputs": [
    {
     "name": "stdout",
     "output_type": "stream",
     "text": [
      "Letter: a (1x)\n",
      "Letter: b (1x)\n",
      "Letter: c (0x)\n",
      "Letter: d (1x)\n",
      "Letter: e (4x)\n",
      "Letter: f (0x)\n",
      "Letter: g (1x)\n",
      "Letter: h (1x)\n",
      "Letter: i (0x)\n",
      "Letter: j (0x)\n",
      "Letter: k (0x)\n",
      "Letter: l (0x)\n",
      "Letter: m (0x)\n",
      "Letter: n (0x)\n",
      "Letter: o (4x)\n",
      "Letter: p (0x)\n",
      "Letter: q (0x)\n",
      "Letter: r (3x)\n",
      "Letter: s (0x)\n",
      "Letter: t (0x)\n",
      "Letter: u (1x)\n",
      "Letter: v (0x)\n",
      "Letter: w (1x)\n",
      "Letter: x (2x)\n",
      "Letter: y (2x)\n",
      "Letter: z (0x)\n"
     ]
    }
   ],
   "source": [
    "import string\n",
    "\n",
    "\n",
    "sentence = \"How are you Rex? Goodbye Rex!\"\n",
    "items_to_delete = [\".\", \"?\", \"!\", \":)\", \" \"]\n",
    "\n",
    "alphabet = {}\n",
    "for letter in string.ascii_lowercase:\n",
    "    alphabet[letter] = 0\n",
    "\n",
    "for item in items_to_delete:\n",
    "    sentence = sentence.replace(word, \"\")\n",
    "sentence = sentence.lower().strip()\n",
    "\n",
    "for letter in sentence:\n",
    "    if letter in alphabet.keys():\n",
    "        alphabet[letter] += 1\n",
    "\n",
    "for letter, letter_occurences_count in alphabet.items():\n",
    "    print(f\"Letter: {letter} ({letter_occurences_count}x)\")"
   ]
  },
  {
   "cell_type": "code",
   "execution_count": 37,
   "metadata": {},
   "outputs": [
    {
     "name": "stdout",
     "output_type": "stream",
     "text": [
      "Counter({'o': 4, 'e': 4, 'r': 3, 'y': 2, 'x': 2, 'h': 1, 'w': 1, 'a': 1, 'u': 1, 'g': 1, 'd': 1, 'b': 1})\n"
     ]
    }
   ],
   "source": [
    "from collections import Counter\n",
    "\n",
    "sentence = \"How are you Rex? Goodbye Rex!\"\n",
    "items_to_delete = [\".\", \"?\", \"!\", \":)\", \" \"]\n",
    "\n",
    "for item in items_to_delete:\n",
    "    sentence = sentence.replace(item, \"\")\n",
    "sentence = sentence.lower().strip()\n",
    "\n",
    "print(Counter(sentence))"
   ]
  },
  {
   "cell_type": "code",
   "execution_count": 2,
   "metadata": {},
   "outputs": [
    {
     "name": "stdout",
     "output_type": "stream",
     "text": [
      "dog bit postman a pak bit me\n",
      "hund biss postbote a pak biss me\n"
     ]
    }
   ],
   "source": [
    "def translate(sentence: str, translation: dict) -> str:\n",
    "    translated_words = [translation.get(word, word) for word in sentence.split()]\n",
    "    return \" \".join(translated_words)\n",
    "\n",
    "\n",
    "def preprocess_sentence(sentence: str) -> str:\n",
    "    return sentence.lower().replace(\".\", \"\").strip()\n",
    "\n",
    "\n",
    "CZECH_TO_ENGLISH = {\n",
    "    \"pes\": \"dog\",\n",
    "    \"pokousal\": \"bit\",\n",
    "    \"postaka\": \"postman\",\n",
    "}\n",
    "CZECH_TO_GERMAN = {\n",
    "    \"pes\": \"hund\",\n",
    "    \"pokousal\": \"biss\",\n",
    "    \"postaka\": \"postbote\",\n",
    "}\n",
    "\n",
    "sentence_czech = preprocess_sentence(\"Pes pokousal postaka a pak pokousal me.\")\n",
    "sentence_english = translate(sentence_czech, CZECH_TO_ENGLISH)\n",
    "sentence_german = translate(sentence_czech, CZECH_TO_GERMAN)\n",
    "\n",
    "print(sentence_english)\n",
    "print(sentence_german)"
   ]
  },
  {
   "cell_type": "code",
   "execution_count": 4,
   "metadata": {},
   "outputs": [
    {
     "name": "stdout",
     "output_type": "stream",
     "text": [
      "id: 999985\n",
      "name: Labe\n",
      "Ústí nad Labem\n"
     ]
    }
   ],
   "source": [
    "town = {\n",
    "    \"id\": 112234,\n",
    "    \"name\": \"Ústí nad Labem\",\n",
    "    \"region\": \"Ústecký\",\n",
    "    \"inhabitantsCount\": 90000,\n",
    "    \"river\": {\n",
    "        \"id\": 999985,\n",
    "        \"name\": \"Labe\",\n",
    "    },\n",
    "    \"contactInfo\": {\n",
    "        \"email\": \"usti@nadlabem.com\",\n",
    "    },\n",
    "}\n",
    "\n",
    "db = town\n",
    "\n",
    "while True:\n",
    "    user_input = input(\"Zadejte, co Vás zajímá: \")\n",
    "    if user_input not in db:\n",
    "        print(\"Neplatný vstup.\")\n",
    "        continue\n",
    "\n",
    "    if isinstance(db[user_input], dict):\n",
    "        for key, value in db[user_input].items():\n",
    "            print(f\"{key}: {value}\")\n",
    "        continue\n",
    "\n",
    "    print(db[user_input])\n",
    "    break"
   ]
  },
  {
   "cell_type": "code",
   "execution_count": 5,
   "metadata": {},
   "outputs": [
    {
     "name": "stdout",
     "output_type": "stream",
     "text": [
      "Word: rex (2x)\n",
      "Word: how (1x)\n",
      "Word: are (1x)\n",
      "Word: you (1x)\n",
      "Word: goodbye (1x)\n"
     ]
    }
   ],
   "source": [
    "def remove_words(sentence, words_to_remove):\n",
    "    return \"\".join(word for word in sentence if word not in words_to_remove)\n",
    "\n",
    "\n",
    "def count_word_occurrences(sentence):\n",
    "    words_counter = {}\n",
    "    for word in sentence.split(\" \"):\n",
    "        words_counter[word] = words_counter.get(word, 0) + 1\n",
    "    return words_counter\n",
    "\n",
    "\n",
    "def sort_words_by_occurrence_count(words_counter):\n",
    "    return sorted(words_counter.items(), key=lambda x: x[1], reverse=True)\n",
    "\n",
    "\n",
    "sentence = \"How are you Rex? Goodbye Rex!\"\n",
    "words_to_remove = set([\".\", \"?\", \"!\", \":)\"])\n",
    "sentence = remove_words(sentence, words_to_remove)\n",
    "sentence = sentence.lower().strip()\n",
    "\n",
    "words_counter = count_word_occurrences(sentence)\n",
    "sorted_words = sort_words_by_occurrence_count(words_counter)\n",
    "\n",
    "for word, count in sorted_words:\n",
    "    print(f\"Word: {word} ({count}x)\")"
   ]
  }
 ],
 "metadata": {
  "kernelspec": {
   "display_name": "Python 3",
   "language": "python",
   "name": "python3"
  },
  "language_info": {
   "codemirror_mode": {
    "name": "ipython",
    "version": 3
   },
   "file_extension": ".py",
   "mimetype": "text/x-python",
   "name": "python",
   "nbconvert_exporter": "python",
   "pygments_lexer": "ipython3",
   "version": "3.12.0"
  }
 },
 "nbformat": 4,
 "nbformat_minor": 2
}
