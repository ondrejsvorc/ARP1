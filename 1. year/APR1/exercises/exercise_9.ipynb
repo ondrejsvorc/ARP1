{
 "cells": [
  {
   "cell_type": "code",
   "execution_count": null,
   "metadata": {},
   "outputs": [],
   "source": [
    "# Práce se soubory\n",
    "\n",
    "# with open\n",
    "# - principielně stejné jako using v C#\n",
    "# - vrací TextIOWrapper\n",
    "# - různé módy\n",
    "#   - r = read text (povolení čtení, čtecí hlava začíná na začátku souboru),\n",
    "#   - w = write text (povolení zápisu, tecí hlava začíná na začátku souboru),\n",
    "#   - a = append text (povolení zápis a začni na konci, čtecí hlava začíná na konci souboru),\n",
    "#   - x = začni na začátku a pokud soubor existuje, tak vyhoď výjimku\n",
    "#   - rb = read binary,\n",
    "#   - wb = write binary,\n",
    "#   - ab = append binary,\n",
    "#   - r+ = povol čtení + zápis a začni na začátku\n",
    "#   - w+ = povol čtení + zápis a začni na začátku a smaž předchozí obsah\n",
    "#   - a+ = povol čtení + zápis a začni na konci\n",
    "#   - rb+ = -||-\n",
    "#   - wb+ = -||-\n",
    "#   - ab+ = -||-\n",
    "\n",
    "# Metody na TextIOWrapper\n",
    "# - write\n",
    "# - writelines\n",
    "# - read\n",
    "# - readlines\n",
    "# - ..."
   ]
  },
  {
   "cell_type": "code",
   "execution_count": 28,
   "metadata": {},
   "outputs": [],
   "source": [
    "# !touch marks.txt\n",
    "# !echo > Petr: 1,2,3 >> marks.txt\n",
    "# !echo > Jarmilka: 1,1,2 >> marks.txt\n",
    "# !echo > Přemysl: 5,4,5 >> marks.txt\n",
    "\n",
    "with open(\"exercise.txt\", \"w\", encoding=\"utf-8\") as marksFile:\n",
    "    marksFile.write(\"Petr: 1,2,3\\n\")\n",
    "    marksFile.write(\"Jarmilka: 1,1,2\\n\")\n",
    "    marksFile.write(\"Přemysl: 5,4,5\\n\")"
   ]
  },
  {
   "cell_type": "code",
   "execution_count": 29,
   "metadata": {},
   "outputs": [
    {
     "data": {
      "text/plain": [
       "'Petr: 1,2,3\\nJarmilka: 1,1,2\\nPřemysl: 5,4,5\\n'"
      ]
     },
     "execution_count": 29,
     "metadata": {},
     "output_type": "execute_result"
    }
   ],
   "source": [
    "with open(\"exercise.txt\", \"r\", encoding=\"utf-8\") as marksFile:\n",
    "    text = marksFile.read()\n",
    "text"
   ]
  },
  {
   "cell_type": "code",
   "execution_count": 30,
   "metadata": {},
   "outputs": [
    {
     "data": {
      "text/plain": [
       "['Petr: 1,2,3\\n', 'Jarmilka: 1,1,2\\n', 'Přemysl: 5,4,5\\n']"
      ]
     },
     "execution_count": 30,
     "metadata": {},
     "output_type": "execute_result"
    }
   ],
   "source": [
    "with open(\"exercise.txt\", \"r\", encoding=\"utf-8\") as marksFile:\n",
    "    text = marksFile.readlines()\n",
    "text"
   ]
  },
  {
   "cell_type": "code",
   "execution_count": 31,
   "metadata": {},
   "outputs": [
    {
     "name": "stdout",
     "output_type": "stream",
     "text": [
      "Petr: 1,2,3\n",
      "Jarmilka: 1,1,2\n",
      "Přemysl: 5,4,5\n",
      "\n"
     ]
    }
   ],
   "source": [
    "with open(\"exercise.txt\", \"r\", encoding=\"utf-8\") as marksFile:\n",
    "    text = marksFile.read()\n",
    "\n",
    "for row in text.split(\"\\n\"):\n",
    "    print(row)"
   ]
  },
  {
   "cell_type": "code",
   "execution_count": 32,
   "metadata": {},
   "outputs": [
    {
     "name": "stdout",
     "output_type": "stream",
     "text": [
      "{'Petr': 2.0, 'Jarmilka': 1.33, 'Přemysl': 4.67}\n"
     ]
    }
   ],
   "source": [
    "from typing import Dict\n",
    "from numpy import average\n",
    "\n",
    "\n",
    "def get_average_marks(file_path: str) -> Dict[str, float]:\n",
    "    marks_average = {}\n",
    "\n",
    "    with open(file_path, \"r\", encoding=\"utf-8\") as marksFile:\n",
    "        text = marksFile.read()\n",
    "\n",
    "    for row in text.split(\"\\n\"):\n",
    "        if not row:\n",
    "            continue\n",
    "        name, marks = row.split(\": \")\n",
    "        marks = list(map(int, marks.split(\",\")))\n",
    "        marks_average[name] = round(average(marks), 2)\n",
    "    return marks_average\n",
    "\n",
    "\n",
    "def main():\n",
    "    marks_average = get_average_marks(\"exercise.txt\")\n",
    "    print(marks_average)\n",
    "\n",
    "\n",
    "main()"
   ]
  },
  {
   "cell_type": "code",
   "execution_count": 33,
   "metadata": {},
   "outputs": [],
   "source": [
    "with open(\"exercise_9_poem.txt\", \"w\", encoding=\"utf-8\") as file:\n",
    "    file.write(\"From bugs we learn, to functions grand,\")\n",
    "    file.write(\"\\n\")\n",
    "    file.write(\"Tech's poetry in every command.\")"
   ]
  },
  {
   "cell_type": "code",
   "execution_count": 34,
   "metadata": {},
   "outputs": [],
   "source": [
    "with open(\"exercise_9_poem.txt\", \"a\", encoding=\"utf-8\") as file:\n",
    "    file.write(\"\\nFišer, mistr kódu, v učebně srdce algoritmů, vědomostí proud\")"
   ]
  },
  {
   "cell_type": "code",
   "execution_count": 35,
   "metadata": {},
   "outputs": [],
   "source": [
    "# Napište funkci, která příjme cestu k souboru a vytvoří jeho kopii\n",
    "# Použijte pouze příkazy with open() s módy r a w\n",
    "\n",
    "\n",
    "def create_copy(file_path: str) -> None:\n",
    "    name, extension = file_path.split(\".\")\n",
    "    with open(file_path, \"r\", encoding=\"utf-8\") as fileToCopy:\n",
    "        textToCopy = fileToCopy.read()\n",
    "    with open(f\"exercise_9_{name}_copy.{extension}\", \"w\", encoding=\"utf-8\") as fileCopy:\n",
    "        fileCopy.write(textToCopy)\n",
    "\n",
    "\n",
    "create_copy(\"marks.txt\")"
   ]
  },
  {
   "cell_type": "code",
   "execution_count": 36,
   "metadata": {},
   "outputs": [],
   "source": [
    "# Napiš program, který se bude opakovaně ptát na vstup z klávesnice (čísla).\n",
    "# Až napíše stop, přestaneme se ptát.\n",
    "# Zapíšeme čísla do souboru, každý na nový řádek a poslední řádek bude jejich součet.\n",
    "\n",
    "BREAKPOINT = \"stop\"\n",
    "inputs = []\n",
    "\n",
    "while True:\n",
    "    user_input = input(\"Zadejte číslo: \").lower()\n",
    "    if user_input == BREAKPOINT:\n",
    "        break\n",
    "\n",
    "    inputs.append(int(user_input))\n",
    "\n",
    "with open(\"exercise_9_numbers_sum.txt\", \"w\") as file:\n",
    "    [file.write(f\"{number}\\n\") for number in inputs]\n",
    "    file.write(f\"={sum(inputs)}\")"
   ]
  },
  {
   "cell_type": "code",
   "execution_count": 37,
   "metadata": {},
   "outputs": [
    {
     "name": "stdout",
     "output_type": "stream",
     "text": [
      "0\n",
      "From bugs we learn, to functions grand,\n",
      "Tech's poetry in every command.\n",
      "Fišer, mistr kódu, v učebně srdce algoritmů, vědomostí proud\n",
      "141\n"
     ]
    }
   ],
   "source": [
    "file = open(\"exercise_9_poem.txt\", encoding=\"utf-8\")\n",
    "\n",
    "# tell() \"čtecí hlava\" - říká informaci o tom, kde se zrovna nachází\n",
    "print(file.tell())\n",
    "print(file.read())\n",
    "print(file.tell())\n",
    "file.close()"
   ]
  }
 ],
 "metadata": {
  "kernelspec": {
   "display_name": "Python 3",
   "language": "python",
   "name": "python3"
  },
  "language_info": {
   "codemirror_mode": {
    "name": "ipython",
    "version": 3
   },
   "file_extension": ".py",
   "mimetype": "text/x-python",
   "name": "python",
   "nbconvert_exporter": "python",
   "pygments_lexer": "ipython3",
   "version": "3.12.0"
  }
 },
 "nbformat": 4,
 "nbformat_minor": 2
}
