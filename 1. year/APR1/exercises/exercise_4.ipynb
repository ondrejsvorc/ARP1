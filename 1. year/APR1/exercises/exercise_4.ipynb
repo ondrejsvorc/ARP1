{
 "cells": [
  {
   "cell_type": "code",
   "execution_count": 7,
   "metadata": {},
   "outputs": [
    {
     "name": "stdout",
     "output_type": "stream",
     "text": [
      "[('Pavel', 2), ('Aneta', 3), ('Ondra', 2)]\n"
     ]
    }
   ],
   "source": [
    "VOWELS = [\"a\", \"e\", \"i\", \"o\", \"u\"]\n",
    "NAMES = [\"Pavel\", \"Aneta\", \"Ondra\"]\n",
    "\n",
    "results = []\n",
    "\n",
    "for name in NAMES:\n",
    "    name_lower = name.lower()\n",
    "    name_vowel_count = 0\n",
    "\n",
    "    for vowel in VOWELS:\n",
    "        name_vowel_count += name_lower.count(vowel)\n",
    "\n",
    "    results.append((name, name_vowel_count))\n",
    "\n",
    "print(results)"
   ]
  },
  {
   "cell_type": "code",
   "execution_count": 5,
   "metadata": {},
   "outputs": [
    {
     "name": "stdout",
     "output_type": "stream",
     "text": [
      "[('Pavel', 2), ('Aneta', 3), ('Ondra', 2)]\n"
     ]
    }
   ],
   "source": [
    "VOWELS = [\"a\", \"e\", \"i\", \"o\", \"u\"]\n",
    "NAMES = [\"Pavel\", \"Aneta\", \"Ondra\"]\n",
    "\n",
    "\n",
    "def count_vowels(name):\n",
    "    return sum(name.lower().count(vowel) for vowel in VOWELS)\n",
    "\n",
    "\n",
    "results = [(name, count_vowels(name)) for name in NAMES]\n",
    "print(results)"
   ]
  },
  {
   "cell_type": "code",
   "execution_count": 6,
   "metadata": {},
   "outputs": [
    {
     "name": "stdout",
     "output_type": "stream",
     "text": [
      "Hádejte slovo: _ _ _ _ _ _\n",
      "Hádejte slovo: j _ _ _ _ _\n",
      "Hádejte slovo: j a _ _ _ _\n",
      "Hádejte slovo: j a b _ _ _\n",
      "Hádejte slovo: j a b l _ _\n",
      "Hádejte slovo: j a b l k _\n",
      "Vyhrál jste.\n"
     ]
    }
   ],
   "source": [
    "# Šibenice\n",
    "\n",
    "\n",
    "def get_underscores(word):\n",
    "    return [\"_\"] * len(word)\n",
    "\n",
    "\n",
    "WORD = \"jablko\"\n",
    "HEALTH_INITIAL = 5\n",
    "\n",
    "health = HEALTH_INITIAL\n",
    "underscores = get_underscores(WORD)\n",
    "\n",
    "while health > 0 and \"_\" in underscores:\n",
    "    print(f\"Hádejte slovo: {\" \".join(underscores)}\")\n",
    "    letter = input(\"Zadejte písmenko: \")\n",
    "\n",
    "    if letter.lower() not in WORD.lower():\n",
    "        health -= 1\n",
    "        continue\n",
    "\n",
    "    for letter_index in range(len(WORD)):\n",
    "        if WORD[letter_index].lower() == letter.lower():\n",
    "            underscores[letter_index] = letter\n",
    "\n",
    "print(\"Vyhrál jste.\" if health > 0 else \"Prohrál jste.\")"
   ]
  }
 ],
 "metadata": {
  "kernelspec": {
   "display_name": "Python 3",
   "language": "python",
   "name": "python3"
  },
  "language_info": {
   "codemirror_mode": {
    "name": "ipython",
    "version": 3
   },
   "file_extension": ".py",
   "mimetype": "text/x-python",
   "name": "python",
   "nbconvert_exporter": "python",
   "pygments_lexer": "ipython3",
   "version": "3.12.0"
  }
 },
 "nbformat": 4,
 "nbformat_minor": 2
}
