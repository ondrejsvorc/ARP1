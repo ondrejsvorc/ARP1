{
 "cells": [
  {
   "cell_type": "code",
   "execution_count": 14,
   "metadata": {},
   "outputs": [
    {
     "name": "stdout",
     "output_type": "stream",
     "text": [
      "Vyhrál počítač.\n",
      "Remíza\n",
      "Remíza\n",
      "Vyhrál počítač.\n"
     ]
    }
   ],
   "source": [
    "from random import choice\n",
    "\n",
    "CHOICES = [\"K\", \"N\", \"P\"]\n",
    "USER_WIN_COMBINATIONS = [(\"K\", \"N\"), (\"N\", \"P\"), (\"P\", \"K\")]\n",
    "\n",
    "user_points_count = 0\n",
    "computer_points_count = 0\n",
    "\n",
    "while user_points_count != 2 and computer_points_count != 2:\n",
    "    user_choice = input(\"kámen, nůžky, papír (K, N, nebo P) \")\n",
    "    computer_choice = choice(CHOICES)\n",
    "    if (user_choice, computer_choice) in USER_WIN_COMBINATIONS:\n",
    "        print(\"Vyhrál hráč.\")\n",
    "        user_points_count += 1\n",
    "    elif user_choice == computer_choice:\n",
    "        print(\"Remíza\")\n",
    "    else:\n",
    "        print(\"Vyhrál počítač.\")\n",
    "        computer_points_count += 1"
   ]
  },
  {
   "cell_type": "code",
   "execution_count": 15,
   "metadata": {},
   "outputs": [
    {
     "name": "stdout",
     "output_type": "stream",
     "text": [
      "0\n",
      "5\n",
      "10\n",
      "15\n",
      "20\n",
      "25\n",
      "30\n",
      "35\n",
      "40\n",
      "45\n",
      "50\n",
      "55\n",
      "60\n",
      "65\n",
      "70\n",
      "75\n",
      "80\n",
      "85\n",
      "90\n",
      "95\n"
     ]
    }
   ],
   "source": [
    "start = 0\n",
    "stop = 100\n",
    "increment = 5\n",
    "\n",
    "# Defaultní hodnota posledního argumentu je 1\n",
    "# \"For cyklus\" vlastně v Pythonu neexistuje, chová se jako \"Foreach cyklus\"\n",
    "for number in range(start, stop, increment):\n",
    "    print(number)"
   ]
  },
  {
   "cell_type": "code",
   "execution_count": 16,
   "metadata": {},
   "outputs": [
    {
     "name": "stdout",
     "output_type": "stream",
     "text": [
      "0\n",
      "1\n",
      "2\n",
      "3\n",
      "4\n",
      "5\n",
      "6\n",
      "7\n",
      "8\n",
      "9\n",
      "0\n",
      "1\n",
      "2\n",
      "3\n",
      "4\n",
      "5\n",
      "6\n",
      "7\n",
      "8\n",
      "9\n"
     ]
    }
   ],
   "source": [
    "for number in range(0, 10):\n",
    "    print(number)\n",
    "\n",
    "for number in range(0, 10, 1):\n",
    "    print(number)"
   ]
  },
  {
   "cell_type": "code",
   "execution_count": 17,
   "metadata": {},
   "outputs": [
    {
     "name": "stdout",
     "output_type": "stream",
     "text": [
      "Rozměny obrázku jsou 230×71 px\n"
     ]
    },
    {
     "data": {
      "image/png": "[encoded data removed]",
      "text/plain": [
       "<PIL.PngImagePlugin.PngImageFile image mode=RGBA size=230x71>"
      ]
     },
     "metadata": {},
     "output_type": "display_data"
    },
    {
     "data": {
      "image/png": "[encoded data removed]",
      "text/plain": [
       "<PIL.PngImagePlugin.PngImageFile image mode=RGBA size=230x71>"
      ]
     },
     "metadata": {},
     "output_type": "display_data"
    }
   ],
   "source": [
    "# pip install pillow\n",
    "from PIL import Image\n",
    "\n",
    "\n",
    "IMAGE_PATH = \"../images/IMAGE_1.png\"\n",
    "\n",
    "image = Image.open(IMAGE_PATH)\n",
    "width, height = image.size\n",
    "\n",
    "print(f\"Rozměny obrázku jsou {width}×{height} px\")\n",
    "\n",
    "# Before.\n",
    "display(image)\n",
    "\n",
    "for y in range(height):\n",
    "    for x in range(width):\n",
    "        r, g, b, a = image.getpixel((x, y))\n",
    "        image.putpixel((x, y), (255 - r, 255 - g, 255 - b, a))\n",
    "\n",
    "# After.\n",
    "display(image)"
   ]
  },
  {
   "cell_type": "code",
   "execution_count": 18,
   "metadata": {},
   "outputs": [
    {
     "data": {
      "image/png": "[encoded data removed]",
      "text/plain": [
       "<PIL.PngImagePlugin.PngImageFile image mode=RGBA size=230x71>"
      ]
     },
     "metadata": {},
     "output_type": "display_data"
    },
    {
     "data": {
      "image/png": "[encoded data removed]",
      "text/plain": [
       "<PIL.PngImagePlugin.PngImageFile image mode=RGBA size=230x71>"
      ]
     },
     "metadata": {},
     "output_type": "display_data"
    }
   ],
   "source": [
    "from PIL import Image\n",
    "\n",
    "\n",
    "IMAGE_PATH = \"../images/IMAGE_1.png\"\n",
    "IMAGE_FRAME_COLOR = (0, 128, 0, 255)\n",
    "\n",
    "image = Image.open(IMAGE_PATH)\n",
    "width, height = image.size\n",
    "\n",
    "# Before.\n",
    "display(image)\n",
    "\n",
    "# Obarvím nultý řádek (spodní --> v grafice je osa Y obráceně)\n",
    "# Obarvím poslední řádek (horní)\n",
    "for x in range(width):\n",
    "    row_zero = (x, 0)\n",
    "    row_last = (x, height - 1)\n",
    "    image.putpixel(row_zero, IMAGE_FRAME_COLOR)\n",
    "    image.putpixel(row_last, IMAGE_FRAME_COLOR)\n",
    "\n",
    "# Obravím nultý a poslední sloupec všech řádků, krom nultého a posledního.\n",
    "for y in range(0, height - 1):\n",
    "    column_zero = (0, y)\n",
    "    column_last = (width - 1, y)\n",
    "    image.putpixel(column_zero, IMAGE_FRAME_COLOR)\n",
    "    image.putpixel(column_last, IMAGE_FRAME_COLOR)\n",
    "\n",
    "# After.\n",
    "display(image)"
   ]
  }
 ],
 "metadata": {
  "kernelspec": {
   "display_name": "Python 3",
   "language": "python",
   "name": "python3"
  },
  "language_info": {
   "codemirror_mode": {
    "name": "ipython",
    "version": 3
   },
   "file_extension": ".py",
   "mimetype": "text/x-python",
   "name": "python",
   "nbconvert_exporter": "python",
   "pygments_lexer": "ipython3",
   "version": "3.12.0"
  }
 },
 "nbformat": 4,
 "nbformat_minor": 2
}
