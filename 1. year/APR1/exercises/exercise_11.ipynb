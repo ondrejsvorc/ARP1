{
 "cells": [
  {
   "cell_type": "code",
   "execution_count": null,
   "metadata": {},
   "outputs": [],
   "source": [
    "# Práce s OS\n",
    "# Řadič (Controller) = řídí HW (disku, otoč se, ...)\n",
    "# OS = komunikuje s řadiči\n",
    "# Shell = dělí se na CLI a a GUI\n",
    "# POSIX Standard = rozhraní, pomocí něhož lze všechny OS ovládat stejně (příkazy jako ls) = MacOS, Linux (Windows tento standard nesplňuje)\n",
    "\n",
    "# > přepíše (create)\n",
    "# >> připíše (append)\n",
    "# cp = copy\n",
    "# rm = remove\n",
    "# touch = vytvoř soubor\n",
    "# echo = vypiš na obrazovku (můžeme přesměrovat do souboru pomocí >, >>)\n",
    "# ls (dir) = list, výpis obsahu adresáře na obrazovku\n",
    "# cd = change directory\n",
    "# && = řetězení (nejdřív udělej toto, a pak hned toto)\n",
    "\n",
    "# os.system()\n",
    "# - bezestavový, nepamatuje si kontext\n",
    "# - může být nebezpečný - mazání souborů\n",
    "\n",
    "# Univerzální příkazy (nezáleží na OS)\n",
    "# os.mkdir(\"ADR\")\n",
    "# os.listdir()\n",
    "# os.rmdir()\n",
    "# os.remove()\n",
    "# os.chdir(\"ADR\") # stavový\n",
    "# os.chdir(\"..\")  # vrátím se o složku výše\n",
    "# os.getcwd()     # get current working directory"
   ]
  },
  {
   "cell_type": "code",
   "execution_count": 1,
   "metadata": {},
   "outputs": [],
   "source": [
    "import os"
   ]
  },
  {
   "cell_type": "code",
   "execution_count": 10,
   "metadata": {},
   "outputs": [
    {
     "data": {
      "text/plain": [
       "0"
      ]
     },
     "execution_count": 10,
     "metadata": {},
     "output_type": "execute_result"
    }
   ],
   "source": [
    "# POSIX\n",
    "# os.system(\"touch poznamky.txt\")\n",
    "# os.system(\"echo ahoj >> poznamky.txt\")\n",
    "# os.system(\"mkdir slozka\")\n",
    "# os.system(\"cp poznamky.txt slozka/poznamky.txt\")\n",
    "\n",
    "# Windows\n",
    "os.system(\"echo test > exercise_11_notes.txt\")"
   ]
  },
  {
   "cell_type": "code",
   "execution_count": 11,
   "metadata": {},
   "outputs": [
    {
     "data": {
      "text/plain": [
       "0"
      ]
     },
     "execution_count": 11,
     "metadata": {},
     "output_type": "execute_result"
    }
   ],
   "source": [
    "os.system(\"dir > exercise_11_files.txt\")"
   ]
  },
  {
   "cell_type": "code",
   "execution_count": null,
   "metadata": {},
   "outputs": [],
   "source": [
    "# POSIX\n",
    "# os.system(\"ls > soubory.txt\")\n",
    "# os.system(\"mkdir penize\")\n",
    "# os.system(\"cd penize && touch mam_vydelano.txt\")"
   ]
  },
  {
   "cell_type": "code",
   "execution_count": 15,
   "metadata": {},
   "outputs": [],
   "source": [
    "# Napište funkci, která příjme 3 parametry = počet adresářů, počet souborů, obsah souborů.\n",
    "# Funkce vytvoří tolik adresářů, kolik bylo zadáno, ADR{i}, kde i je číslo adresáře (1 až N).\n",
    "# V každém adresáři se vytvoří tolik souborů, kolik bylo zadáno, s názvy SOUBOR{i} (1 až M), kde i je číslo souboru.\n",
    "# Do každého souboru se zapíše zadaný text.\n",
    "\n",
    "\n",
    "def generate_folders_with_files(\n",
    "    folders_count: int, files_count: int, files_content: int\n",
    ") -> None:\n",
    "    if folders_count <= 0:\n",
    "        return\n",
    "    for folder_number in range(1, folders_count + 1):\n",
    "        os.system(f\"mkdir ADR{folder_number}\")\n",
    "        for file_number in range(1, files_count + 1):\n",
    "            os.system(\n",
    "                f\"cd ADR{folder_number} && echo {files_content} > SOUBOR{file_number}\"\n",
    "            )\n",
    "\n",
    "\n",
    "generate_folders_with_files(folders_count=3, files_count=4, files_content=\"test\")"
   ]
  },
  {
   "cell_type": "code",
   "execution_count": 16,
   "metadata": {},
   "outputs": [
    {
     "data": {
      "text/plain": [
       "'c:\\\\Users\\\\ondre\\\\source\\\\repos\\\\git\\\\UJEP\\\\APR1\\\\exercises'"
      ]
     },
     "execution_count": 16,
     "metadata": {},
     "output_type": "execute_result"
    }
   ],
   "source": [
    "os.getcwd()"
   ]
  },
  {
   "cell_type": "code",
   "execution_count": 17,
   "metadata": {},
   "outputs": [],
   "source": [
    "os.chdir(\"..\")"
   ]
  },
  {
   "cell_type": "code",
   "execution_count": 18,
   "metadata": {},
   "outputs": [
    {
     "data": {
      "text/plain": [
       "'c:\\\\Users\\\\ondre\\\\source\\\\repos\\\\git\\\\UJEP\\\\APR1'"
      ]
     },
     "execution_count": 18,
     "metadata": {},
     "output_type": "execute_result"
    }
   ],
   "source": [
    "os.getcwd()"
   ]
  },
  {
   "cell_type": "code",
   "execution_count": 19,
   "metadata": {},
   "outputs": [
    {
     "data": {
      "text/plain": [
       "['.gitignore', 'exercises', 'images', 'lectures', 'other', 'README.md']"
      ]
     },
     "execution_count": 19,
     "metadata": {},
     "output_type": "execute_result"
    }
   ],
   "source": [
    "os.listdir()"
   ]
  },
  {
   "cell_type": "code",
   "execution_count": 20,
   "metadata": {},
   "outputs": [],
   "source": [
    "# Platformově agnostická verze.\n",
    "def generate_folders_with_files(\n",
    "    folders_count: int, files_count: int, files_content: int\n",
    ") -> None:\n",
    "    if folders_count <= 0:\n",
    "        return\n",
    "    for folder_number in range(1, folders_count + 1):\n",
    "        os.mkdir(f\"ADR{folder_number}\")\n",
    "        os.chdir(f\"ADR{folder_number}\")\n",
    "        for file_number in range(1, files_count + 1):\n",
    "            with open(f\"SOUBOR{file_number}\", mode=\"wt\") as file:\n",
    "                file.write(files_content)\n",
    "        os.chdir(\"..\")\n",
    "\n",
    "\n",
    "generate_folders_with_files(folders_count=2, files_count=2, files_content=\"test\")"
   ]
  },
  {
   "cell_type": "code",
   "execution_count": null,
   "metadata": {},
   "outputs": [],
   "source": [
    "import shutil\n",
    "\n",
    "# shutil.copy(original, nazev_kopie)    # zkopíruje soubor bez metadat (soubor vypadá jako nový)\n",
    "# shutil.copy2(original, nazev_kopie)   # zkopíruje soubor s metadaty\n",
    "# shutil.copytree()                     # zkopíruje adresářový strom\n",
    "# shutil.rmtree                         # smaže adresářový strom (rekurzivně)\n",
    "# shutil.move()                         # kombinace copytree() a rmtree()\n",
    "# shutil.make_archive()                 # vytvoření archivu\n",
    "# shutil.unpack_archive()               # rozbalení archivu"
   ]
  }
 ],
 "metadata": {
  "kernelspec": {
   "display_name": "Python 3",
   "language": "python",
   "name": "python3"
  },
  "language_info": {
   "codemirror_mode": {
    "name": "ipython",
    "version": 3
   },
   "file_extension": ".py",
   "mimetype": "text/x-python",
   "name": "python",
   "nbconvert_exporter": "python",
   "pygments_lexer": "ipython3",
   "version": "3.12.0"
  }
 },
 "nbformat": 4,
 "nbformat_minor": 2
}
