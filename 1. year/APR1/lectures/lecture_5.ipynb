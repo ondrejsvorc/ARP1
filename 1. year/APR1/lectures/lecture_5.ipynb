{
 "cells": [
  {
   "cell_type": "code",
   "execution_count": null,
   "metadata": {},
   "outputs": [],
   "source": [
    "# Kolekce (Collection)\n",
    "# specializované objekty, jejíchž hlavní funkcí je uchovávat jiné objekty jako položky\n",
    "\n",
    "# Seznam (List)\n",
    "# iterovatelná kolekce (lze procházet cyklem)\n",
    "# indexovatelná sekvence (můžeme používat v index v rozsahu 0 až len-1)\n",
    "# lze do nich přidávat a odebírat prvky\n",
    "# prvky lze vnímat jako sekvenci = prvky jsou uloženy jako posloupnost v paměti\n",
    "# jsou optimalizované pro přidání prvků na konec"
   ]
  },
  {
   "cell_type": "code",
   "execution_count": 5,
   "metadata": {},
   "outputs": [
    {
     "name": "stdout",
     "output_type": "stream",
     "text": [
      "888\n",
      "1\n",
      "2\n",
      "3\n",
      "4\n",
      "999\n"
     ]
    }
   ],
   "source": [
    "numbers = [1, 2, 3, 4]\n",
    "\n",
    "# Přidávání prvků na konec seznamu má složitost O(1).\n",
    "# Výjimečně to ale může být až O(n).\n",
    "numbers.append(999)\n",
    "\n",
    "# Přidávání prvků na začátek seznamu má složitost O(n).\n",
    "# Všechny stávající prvky se musí posunout o jednu pozici (čili musí být přealokovány v paměti)\n",
    "# Tak vznikne prázdné místo pro prvek, který vkládáme na začátek.\n",
    "# # Tj. je potencioálně pomalé u velkých seznamů.\n",
    "numbers.insert(0, 888)\n",
    "\n",
    "# Odebírání prvků má také složitost O(n).\n",
    "# Smaže první výskyt.\n",
    "# Stejně jako u insert().\n",
    "numbers.remove(1)\n",
    "\n",
    "for number in numbers:\n",
    "    print(number)"
   ]
  },
  {
   "cell_type": "code",
   "execution_count": null,
   "metadata": {},
   "outputs": [],
   "source": [
    "# Asymptotická časová složitost (O-notace)\n",
    "\n",
    "# O(n)      = čas provedení lineárně roste s počtem prvků\n",
    "# O(1)      = čas provedení je konstantní\n",
    "# O(2^n)    = exponenciálně časová složitost (lze provést v reálném čase jen pro malé n)"
   ]
  },
  {
   "cell_type": "code",
   "execution_count": 11,
   "metadata": {},
   "outputs": [
    {
     "name": "stdout",
     "output_type": "stream",
     "text": [
      "1\n",
      "[1, 3]\n",
      "[1, 2]\n",
      "999\n"
     ]
    }
   ],
   "source": [
    "numbers = [1, 2, 3, 4]\n",
    "\n",
    "print(numbers[0])\n",
    "\n",
    "# Každý prvek s krokem 2\n",
    "print(numbers[::2])\n",
    "\n",
    "# Od nultého prvku vrať 2 prvky (prvky na indexech 0 a 1)\n",
    "print(numbers[0:2])\n",
    "\n",
    "# Seznam numbers2 odkazuje na stejné prvky jako numbers.\n",
    "# Pokud něco změním v numbers2, změní to i prvky v seznamu numbers.\n",
    "numbers2 = numbers\n",
    "numbers2[0] = 999\n",
    "\n",
    "print(numbers[0])\n",
    "print(numbers2[0])"
   ]
  },
  {
   "cell_type": "code",
   "execution_count": 12,
   "metadata": {},
   "outputs": [
    {
     "name": "stdout",
     "output_type": "stream",
     "text": [
      "[1, 2, 3, 4]\n",
      "[999, 2, 3, 4]\n"
     ]
    }
   ],
   "source": [
    "numbers = [1, 2, 3, 4]\n",
    "\n",
    "# Vytvoří kopii seznamu numbers (nový, další seznam v paměti)\n",
    "# Při změně se změní pouze seznam, který upravujeme.\n",
    "numbers_copy = numbers[:]\n",
    "numbers_copy[0] = 999\n",
    "\n",
    "print(numbers)\n",
    "print(numbers_copy)"
   ]
  },
  {
   "cell_type": "code",
   "execution_count": 14,
   "metadata": {},
   "outputs": [
    {
     "name": "stdout",
     "output_type": "stream",
     "text": [
      "[1, 2, 3, 4]\n"
     ]
    }
   ],
   "source": [
    "numbers = [1, 2, 3, 4]\n",
    "\n",
    "# Totožný zápis jako numbers[:] = vytvoří kopii (novou instanci seznamu, zkopírovanou)\n",
    "# Stejné jako v C# new List<int>(numbers)\n",
    "# numbers[:] - speciální Python zápis\n",
    "numbers_copy = list(numbers)\n",
    "\n",
    "print(numbers_copy)"
   ]
  },
  {
   "cell_type": "code",
   "execution_count": 16,
   "metadata": {},
   "outputs": [
    {
     "name": "stdout",
     "output_type": "stream",
     "text": [
      "['F', 'r', 'o', 'd', 'o']\n"
     ]
    },
    {
     "data": {
      "text/plain": [
       "'Frodo'"
      ]
     },
     "execution_count": 16,
     "metadata": {},
     "output_type": "execute_result"
    }
   ],
   "source": [
    "word_letters = list(\"Frodo\")\n",
    "print(word_letters)\n",
    "\n",
    "# Vezmi prázdný řetězec, a použij ho jako oddělovač.\n",
    "# Spojuje se parametr, nikoliv to, na čem je metoda join volána.\n",
    "print(\"\".join(word_letters))"
   ]
  },
  {
   "cell_type": "code",
   "execution_count": null,
   "metadata": {},
   "outputs": [
    {
     "data": {
      "text/plain": [
       "[1, 2, 3, 4, 5, 6, 7, 8, 9]"
      ]
     },
     "execution_count": 18,
     "metadata": {},
     "output_type": "execute_result"
    }
   ],
   "source": [
    "# range()\n",
    "# indexovatelný, iterovatelný\n",
    "# není to kolekce ani sekvence\n",
    "# neukládá se do paměti, vrací hodnoty za běhu, když je zrovna potřebujeme\n",
    "# proto je dobré přes range iterovat v cyklu\n",
    "\n",
    "print(range(0, 10))"
   ]
  },
  {
   "cell_type": "code",
   "execution_count": 4,
   "metadata": {},
   "outputs": [
    {
     "name": "stdout",
     "output_type": "stream",
     "text": [
      "[1, 3, 4]\n"
     ]
    }
   ],
   "source": [
    "# Složitost O(n^2)\n",
    "def remove_all(sequence: list, item_to_delete) -> None:\n",
    "    i = 0\n",
    "    while i < len(sequence):\n",
    "        if sequence[i] == item_to_delete:\n",
    "            del sequence[i]\n",
    "        else:\n",
    "            i += 1\n",
    "\n",
    "\n",
    "\n",
    "numbers = [1, 2, 2, 2, 3, 4]\n",
    "\n",
    "\n",
    "remove_all(numbers, 2)\n",
    "\n",
    "print(numbers)"
   ]
  },
  {
   "cell_type": "code",
   "execution_count": 5,
   "metadata": {},
   "outputs": [
    {
     "name": "stdout",
     "output_type": "stream",
     "text": [
      "[1, 3, 4]\n"
     ]
    }
   ],
   "source": [
    "# Složitost O(n), ale větší nároky na paměť (alokujeme nový seznam)\n",
    "def remove_all(sequence: list, item_to_delete) -> list:\n",
    "    sequence_new = []\n",
    "    for item in sequence:\n",
    "        if item != item_to_delete:\n",
    "            sequence_new.append(item)\n",
    "    return sequence_new\n",
    "\n",
    "\n",
    "numbers = [1, 2, 2, 2, 3, 4]\n",
    "numbers = remove_all(numbers, 2)\n",
    "\n",
    "print(numbers)"
   ]
  },
  {
   "cell_type": "code",
   "execution_count": 6,
   "metadata": {},
   "outputs": [
    {
     "data": {
      "text/plain": [
       "[]"
      ]
     },
     "execution_count": 6,
     "metadata": {},
     "output_type": "execute_result"
    }
   ],
   "source": [
    "list()"
   ]
  },
  {
   "cell_type": "code",
   "execution_count": 18,
   "metadata": {},
   "outputs": [
    {
     "name": "stdout",
     "output_type": "stream",
     "text": [
      "Help on class list in module builtins:\n",
      "\n",
      "class list(object)\n",
      " |  list(iterable=(), /)\n",
      " |\n",
      " |  Built-in mutable sequence.\n",
      " |\n",
      " |  If no argument is given, the constructor creates a new empty list.\n",
      " |  The argument must be an iterable if specified.\n",
      " |\n",
      " |  Methods defined here:\n",
      " |\n",
      " |  __add__(self, value, /)\n",
      " |      Return self+value.\n",
      " |\n",
      " |  __contains__(self, key, /)\n",
      " |      Return bool(key in self).\n",
      " |\n",
      " |  __delitem__(self, key, /)\n",
      " |      Delete self[key].\n",
      " |\n",
      " |  __eq__(self, value, /)\n",
      " |      Return self==value.\n",
      " |\n",
      " |  __ge__(self, value, /)\n",
      " |      Return self>=value.\n",
      " |\n",
      " |  __getattribute__(self, name, /)\n",
      " |      Return getattr(self, name).\n",
      " |\n",
      " |  __getitem__(self, index, /)\n",
      " |      Return self[index].\n",
      " |\n",
      " |  __gt__(self, value, /)\n",
      " |      Return self>value.\n",
      " |\n",
      " |  __iadd__(self, value, /)\n",
      " |      Implement self+=value.\n",
      " |\n",
      " |  __imul__(self, value, /)\n",
      " |      Implement self*=value.\n",
      " |\n",
      " |  __init__(self, /, *args, **kwargs)\n",
      " |      Initialize self.  See help(type(self)) for accurate signature.\n",
      " |\n",
      " |  __iter__(self, /)\n",
      " |      Implement iter(self).\n",
      " |\n",
      " |  __le__(self, value, /)\n",
      " |      Return self<=value.\n",
      " |\n",
      " |  __len__(self, /)\n",
      " |      Return len(self).\n",
      " |\n",
      " |  __lt__(self, value, /)\n",
      " |      Return self<value.\n",
      " |\n",
      " |  __mul__(self, value, /)\n",
      " |      Return self*value.\n",
      " |\n",
      " |  __ne__(self, value, /)\n",
      " |      Return self!=value.\n",
      " |\n",
      " |  __repr__(self, /)\n",
      " |      Return repr(self).\n",
      " |\n",
      " |  __reversed__(self, /)\n",
      " |      Return a reverse iterator over the list.\n",
      " |\n",
      " |  __rmul__(self, value, /)\n",
      " |      Return value*self.\n",
      " |\n",
      " |  __setitem__(self, key, value, /)\n",
      " |      Set self[key] to value.\n",
      " |\n",
      " |  __sizeof__(self, /)\n",
      " |      Return the size of the list in memory, in bytes.\n",
      " |\n",
      " |  append(self, object, /)\n",
      " |      Append object to the end of the list.\n",
      " |\n",
      " |  clear(self, /)\n",
      " |      Remove all items from list.\n",
      " |\n",
      " |  copy(self, /)\n",
      " |      Return a shallow copy of the list.\n",
      " |\n",
      " |  count(self, value, /)\n",
      " |      Return number of occurrences of value.\n",
      " |\n",
      " |  extend(self, iterable, /)\n",
      " |      Extend list by appending elements from the iterable.\n",
      " |\n",
      " |  index(self, value, start=0, stop=9223372036854775807, /)\n",
      " |      Return first index of value.\n",
      " |\n",
      " |      Raises ValueError if the value is not present.\n",
      " |\n",
      " |  insert(self, index, object, /)\n",
      " |      Insert object before index.\n",
      " |\n",
      " |  pop(self, index=-1, /)\n",
      " |      Remove and return item at index (default last).\n",
      " |\n",
      " |      Raises IndexError if list is empty or index is out of range.\n",
      " |\n",
      " |  remove(self, value, /)\n",
      " |      Remove first occurrence of value.\n",
      " |\n",
      " |      Raises ValueError if the value is not present.\n",
      " |\n",
      " |  reverse(self, /)\n",
      " |      Reverse *IN PLACE*.\n",
      " |\n",
      " |  sort(self, /, *, key=None, reverse=False)\n",
      " |      Sort the list in ascending order and return None.\n",
      " |\n",
      " |      The sort is in-place (i.e. the list itself is modified) and stable (i.e. the\n",
      " |      order of two equal elements is maintained).\n",
      " |\n",
      " |      If a key function is given, apply it once to each list item and sort them,\n",
      " |      ascending or descending, according to their function values.\n",
      " |\n",
      " |      The reverse flag can be set to sort in descending order.\n",
      " |\n",
      " |  ----------------------------------------------------------------------\n",
      " |  Class methods defined here:\n",
      " |\n",
      " |  __class_getitem__(...) from builtins.type\n",
      " |      See PEP 585\n",
      " |\n",
      " |  ----------------------------------------------------------------------\n",
      " |  Static methods defined here:\n",
      " |\n",
      " |  __new__(*args, **kwargs) from builtins.type\n",
      " |      Create and return a new object.  See help(type) for accurate signature.\n",
      " |\n",
      " |  ----------------------------------------------------------------------\n",
      " |  Data and other attributes defined here:\n",
      " |\n",
      " |  __hash__ = None\n",
      "\n"
     ]
    }
   ],
   "source": [
    "help(list)"
   ]
  },
  {
   "cell_type": "code",
   "execution_count": 8,
   "metadata": {},
   "outputs": [
    {
     "name": "stdout",
     "output_type": "stream",
     "text": [
      "[1, 2, 3, 0, 0]\n"
     ]
    }
   ],
   "source": [
    "# Rozšíření seznamu (1)\n",
    "numbers = [1, 2, 3]\n",
    "numbers.extend([0, 0])\n",
    "\n",
    "print(numbers)"
   ]
  },
  {
   "cell_type": "code",
   "execution_count": 9,
   "metadata": {},
   "outputs": [
    {
     "name": "stdout",
     "output_type": "stream",
     "text": [
      "[1, 2, 3, 0, 0]\n"
     ]
    }
   ],
   "source": [
    "# Rozšíření seznamu (2)\n",
    "# Nevytvoří nový seznam - pouze rozšíří existující.\n",
    "numbers = [1, 2, 3]\n",
    "numbers += [0, 0]\n",
    "\n",
    "print(numbers)"
   ]
  },
  {
   "cell_type": "code",
   "execution_count": 10,
   "metadata": {},
   "outputs": [
    {
     "name": "stdout",
     "output_type": "stream",
     "text": [
      "True\n"
     ]
    }
   ],
   "source": [
    "numbers = [1, 2, 3]\n",
    "\n",
    "print(3 in numbers)"
   ]
  },
  {
   "cell_type": "code",
   "execution_count": 11,
   "metadata": {},
   "outputs": [
    {
     "data": {
      "text/plain": [
       "[2, 'ahoj', [2.4, 6]]"
      ]
     },
     "execution_count": 11,
     "metadata": {},
     "output_type": "execute_result"
    }
   ],
   "source": [
    "[2, \"ahoj\", [2.4, 6]]"
   ]
  },
  {
   "cell_type": "code",
   "execution_count": 15,
   "metadata": {},
   "outputs": [
    {
     "name": "stdout",
     "output_type": "stream",
     "text": [
      "True\n",
      "False\n"
     ]
    }
   ],
   "source": [
    "numbers = [1, 2, 3]\n",
    "numbers2 = [1, 2, 3]\n",
    "\n",
    "print(numbers == numbers2)\n",
    "print(numbers is numbers2)"
   ]
  },
  {
   "cell_type": "code",
   "execution_count": 16,
   "metadata": {},
   "outputs": [
    {
     "data": {
      "text/plain": [
       "[1, 2]"
      ]
     },
     "execution_count": 16,
     "metadata": {},
     "output_type": "execute_result"
    }
   ],
   "source": [
    "[1] + [2]"
   ]
  },
  {
   "cell_type": "code",
   "execution_count": 17,
   "metadata": {},
   "outputs": [
    {
     "data": {
      "text/plain": [
       "[1, 1, 1, 1, 1]"
      ]
     },
     "execution_count": 17,
     "metadata": {},
     "output_type": "execute_result"
    }
   ],
   "source": [
    "[1] * 5"
   ]
  },
  {
   "cell_type": "code",
   "execution_count": 23,
   "metadata": {},
   "outputs": [
    {
     "name": "stdout",
     "output_type": "stream",
     "text": [
      "[]\n",
      "[]\n"
     ]
    }
   ],
   "source": [
    "numbers = [1, 2, 3]\n",
    "numbers2 = numbers\n",
    "\n",
    "numbers.clear()\n",
    "\n",
    "print(numbers)\n",
    "print(numbers2)"
   ]
  },
  {
   "cell_type": "code",
   "execution_count": 22,
   "metadata": {},
   "outputs": [
    {
     "name": "stdout",
     "output_type": "stream",
     "text": [
      "[]\n",
      "[1, 2, 3]\n"
     ]
    }
   ],
   "source": [
    "numbers = [1, 2, 3]\n",
    "numbers2 = numbers\n",
    "\n",
    "numbers = []\n",
    "\n",
    "print(numbers)\n",
    "print(numbers2)"
   ]
  },
  {
   "cell_type": "code",
   "execution_count": 25,
   "metadata": {},
   "outputs": [
    {
     "name": "stdout",
     "output_type": "stream",
     "text": [
      "[3, 2, 1]\n"
     ]
    }
   ],
   "source": [
    "numbers = [1, 3, 2]\n",
    "numbers.sort(reverse=True)\n",
    "\n",
    "print(numbers)"
   ]
  },
  {
   "cell_type": "code",
   "execution_count": 28,
   "metadata": {},
   "outputs": [
    {
     "name": "stdout",
     "output_type": "stream",
     "text": [
      "False\n"
     ]
    }
   ],
   "source": [
    "def is_sorted(sequence: list) -> bool:\n",
    "    \"\"\"\n",
    "    Checks whether values in sequence are sorted in ascending order.\n",
    "    \"\"\"\n",
    "    assert len(sequence) > 0, \"Sequence cannot be empty.\"\n",
    "    for i in range(1, len(sequence)):\n",
    "        if sequence[i - 1] >= sequence[i]:\n",
    "            return False\n",
    "    return True\n",
    "\n",
    "\n",
    "numbers = [1, 3, 2, 5, 6, 7, 7, 6]\n",
    "print(is_sorted(numbers))"
   ]
  },
  {
   "cell_type": "code",
   "execution_count": 29,
   "metadata": {},
   "outputs": [
    {
     "name": "stdout",
     "output_type": "stream",
     "text": [
      "Test,Ahoj,Test,\",\"\"\n"
     ]
    }
   ],
   "source": [
    "# V řešení s += se vytvářejí neustále nové řetězce (O^2) - 3 objekty\n",
    "# (result += user_input + \",\")\n",
    "# Na konci cyklu se sice řetězce uvolňí, ale zůstávají v paměti.\n",
    "\n",
    "# Efektivnější řešení (O(n)) než spojování stringů pomocí +=.\n",
    "user_input = input(\"Zadej jméno: \")\n",
    "result = []\n",
    "while user_input:\n",
    "    result.append(user_input)\n",
    "    user_input = input(\"Zadej jméno: \")\n",
    "print(\",\".join(result))"
   ]
  }
 ],
 "metadata": {
  "kernelspec": {
   "display_name": "Python 3",
   "language": "python",
   "name": "python3"
  },
  "language_info": {
   "codemirror_mode": {
    "name": "ipython",
    "version": 3
   },
   "file_extension": ".py",
   "mimetype": "text/x-python",
   "name": "python",
   "nbconvert_exporter": "python",
   "pygments_lexer": "ipython3",
   "version": "3.12.0"
  }
 },
 "nbformat": 4,
 "nbformat_minor": 2
}
