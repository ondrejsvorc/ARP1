{
 "cells": [
  {
   "cell_type": "code",
   "execution_count": 12,
   "metadata": {},
   "outputs": [
    {
     "data": {
      "text/plain": [
       "True"
      ]
     },
     "execution_count": 12,
     "metadata": {},
     "output_type": "execute_result"
    }
   ],
   "source": [
    "text = \"Test\"\n",
    "text.endswith(\"st\")"
   ]
  },
  {
   "cell_type": "code",
   "execution_count": 18,
   "metadata": {},
   "outputs": [
    {
     "name": "stdout",
     "output_type": "stream",
     "text": [
      "True\n",
      "False\n"
     ]
    }
   ],
   "source": [
    "# Zkontroluje, jestli se jedná o písmenko.\n",
    "print(\"a\".isalpha())\n",
    "print(\"1\".isalpha())"
   ]
  },
  {
   "cell_type": "code",
   "execution_count": 19,
   "metadata": {},
   "outputs": [
    {
     "name": "stdout",
     "output_type": "stream",
     "text": [
      "True\n",
      "False\n"
     ]
    }
   ],
   "source": [
    "# Zkontroluje, jestli se jedná o číslo (0-9)\n",
    "print(\"1\".isdecimal())\n",
    "print(\"a\".isdecimal())"
   ]
  },
  {
   "cell_type": "code",
   "execution_count": 22,
   "metadata": {},
   "outputs": [
    {
     "name": "stdout",
     "output_type": "stream",
     "text": [
      "test\n",
      "TEST\n"
     ]
    }
   ],
   "source": [
    "# Metody na stringu vrací nový objekt, neovlivňují původní.\n",
    "text = \"TEST\"\n",
    "\n",
    "print(text.lower())\n",
    "print(text)"
   ]
  },
  {
   "cell_type": "code",
   "execution_count": 25,
   "metadata": {},
   "outputs": [
    {
     "name": "stdout",
     "output_type": "stream",
     "text": [
      "Teeest\n",
      "Test\n"
     ]
    }
   ],
   "source": [
    "text = \"Test\"\n",
    "\n",
    "print(text.replace(\"e\", \"eee\"))\n",
    "print(text)"
   ]
  },
  {
   "cell_type": "code",
   "execution_count": 34,
   "metadata": {},
   "outputs": [
    {
     "name": "stdout",
     "output_type": "stream",
     "text": [
      "Bílé myši bily výry\n",
      "Býlé mišy byli víri\n"
     ]
    }
   ],
   "source": [
    "text = input(\"Zadej text: \")\n",
    "\n",
    "text_new = (\n",
    "    text.replace(\"i\", \"[1]\")\n",
    "    .replace(\"í\", \"[2]\")\n",
    "    .replace(\"y\", \"i\")\n",
    "    .replace(\"ý\", \"í\")\n",
    "    .replace(\"[1]\", \"y\")\n",
    "    .replace(\"[2]\", \"ý\")\n",
    ")\n",
    "\n",
    "print(text)\n",
    "print(text_new)"
   ]
  },
  {
   "cell_type": "code",
   "execution_count": 36,
   "metadata": {},
   "outputs": [
    {
     "name": "stdout",
     "output_type": "stream",
     "text": [
      "2\n",
      "1\n"
     ]
    }
   ],
   "source": [
    "i = 1\n",
    "j = 2\n",
    "\n",
    "# Prohození proměnných.\n",
    "i, j = j, i\n",
    "\n",
    "print(i)\n",
    "print(j)"
   ]
  },
  {
   "cell_type": "code",
   "execution_count": 40,
   "metadata": {},
   "outputs": [
    {
     "name": "stdout",
     "output_type": "stream",
     "text": [
      "Test\n",
      "Test\n",
      "Test\n"
     ]
    }
   ],
   "source": [
    "# Identické s metodou .trim() z JavaScript\n",
    "\n",
    "# Odstraní bílých znaků (zleva i zprava)\n",
    "print(\"  Test   \".strip())\n",
    "\n",
    "# Odstraní bílých znaků (zleva)\n",
    "print(\"  Test\".lstrip())\n",
    "\n",
    "# Odstraní bílých znaků (zprava)\n",
    "print(\"Test    \".rstrip())"
   ]
  },
  {
   "cell_type": "code",
   "execution_count": 47,
   "metadata": {},
   "outputs": [
    {
     "name": "stdout",
     "output_type": "stream",
     "text": [
      "1\n",
      "-1\n"
     ]
    }
   ],
   "source": [
    "e_letter_index = \"Test\".find(\"es\")\n",
    "print(e_letter_index)\n",
    "\n",
    "# .find -> vrátí -1, když nenajde kýžený řetězec\n",
    "\n",
    "non_existing_character_index = \"Test\".find(\"[\")\n",
    "print(non_existing_character_index)"
   ]
  },
  {
   "cell_type": "code",
   "execution_count": 49,
   "metadata": {},
   "outputs": [
    {
     "name": "stdout",
     "output_type": "stream",
     "text": [
      "1\n"
     ]
    },
    {
     "ename": "ValueError",
     "evalue": "substring not found",
     "output_type": "error",
     "traceback": [
      "\u001b[1;31m---------------------------------------------------------------------------\u001b[0m",
      "\u001b[1;31mValueError\u001b[0m                                Traceback (most recent call last)",
      "\u001b[1;32mc:\\Users\\ondre\\source\\repos\\git\\UJEP\\APR1\\lectures\\lecture_3.ipynb Cell 10\u001b[0m line \u001b[0;36m6\n\u001b[0;32m      <a href='vscode-notebook-cell:/c%3A/Users/ondre/source/repos/git/UJEP/APR1/lectures/lecture_3.ipynb#X12sZmlsZQ%3D%3D?line=1'>2</a>\u001b[0m \u001b[39mprint\u001b[39m(e_letter_index)\n\u001b[0;32m      <a href='vscode-notebook-cell:/c%3A/Users/ondre/source/repos/git/UJEP/APR1/lectures/lecture_3.ipynb#X12sZmlsZQ%3D%3D?line=3'>4</a>\u001b[0m \u001b[39m# .index -> vyvolává výjimku, když nenajde kýžený řetězec\u001b[39;00m\n\u001b[1;32m----> <a href='vscode-notebook-cell:/c%3A/Users/ondre/source/repos/git/UJEP/APR1/lectures/lecture_3.ipynb#X12sZmlsZQ%3D%3D?line=5'>6</a>\u001b[0m non_existing_character_index \u001b[39m=\u001b[39m \u001b[39m\"\u001b[39;49m\u001b[39mTest\u001b[39;49m\u001b[39m\"\u001b[39;49m\u001b[39m.\u001b[39;49mindex(\u001b[39m\"\u001b[39;49m\u001b[39m[\u001b[39;49m\u001b[39m\"\u001b[39;49m)\n\u001b[0;32m      <a href='vscode-notebook-cell:/c%3A/Users/ondre/source/repos/git/UJEP/APR1/lectures/lecture_3.ipynb#X12sZmlsZQ%3D%3D?line=6'>7</a>\u001b[0m \u001b[39mprint\u001b[39m(non_existing_character_index)\n",
      "\u001b[1;31mValueError\u001b[0m: substring not found"
     ]
    }
   ],
   "source": [
    "e_letter_index = \"Test\".index(\"es\")\n",
    "print(e_letter_index)\n",
    "\n",
    "# .index -> vyvolává výjimku, když nenajde kýžený řetězec\n",
    "\n",
    "non_existing_character_index = \"Test\".index(\"[\")\n",
    "print(non_existing_character_index)"
   ]
  },
  {
   "cell_type": "code",
   "execution_count": 62,
   "metadata": {},
   "outputs": [
    {
     "name": "stdout",
     "output_type": "stream",
     "text": [
      "e nalezeno\n",
      "e nalezeno\n"
     ]
    }
   ],
   "source": [
    "text = \"Test\"\n",
    "\n",
    "if text.find(\"e\") >= 0:\n",
    "    print(\"e nalezeno\")\n",
    "\n",
    "if \"e\" in text:\n",
    "    print(\"e nalezeno\")"
   ]
  },
  {
   "cell_type": "code",
   "execution_count": 66,
   "metadata": {},
   "outputs": [
    {
     "name": "stdout",
     "output_type": "stream",
     "text": [
      "True\n",
      "True\n",
      "True\n"
     ]
    }
   ],
   "source": [
    "print(\"est\" in \"Test\")\n",
    "print(not (\"XX\" in \"Test\"))\n",
    "\n",
    "print(\"XX\" not in \"Test\")"
   ]
  },
  {
   "cell_type": "code",
   "execution_count": 67,
   "metadata": {},
   "outputs": [],
   "source": [
    "# Cykly\n",
    "# - nemůžeme měnit iterátor"
   ]
  },
  {
   "cell_type": "code",
   "execution_count": 86,
   "metadata": {},
   "outputs": [
    {
     "name": "stdout",
     "output_type": "stream",
     "text": [
      "První nepísmenný znak je: '-'\n"
     ]
    }
   ],
   "source": [
    "text = input(\"Zadej text: \")\n",
    "\n",
    "# Vrátí jednoprvkový řetězec (datový typ char v Pythonu neexistuje).\n",
    "# text[0]\n",
    "\n",
    "# Zkrácené vyhodnocování = pokud je první podmínka False, už se druhá nevyhodnocuje (and)\n",
    "# Což je v tomto případě důležité, protože děláme text[index] => index out of range.\n",
    "index = 0\n",
    "while index < len(text) and text[index].isalpha():\n",
    "    index += 1\n",
    "\n",
    "if index < len(text):\n",
    "    print(f\"První nepísmenný znak je: '{text[index]}'\")\n",
    "else:\n",
    "    print(\"Text neobsahuje nepísmenný znak.\")"
   ]
  },
  {
   "cell_type": "code",
   "execution_count": 88,
   "metadata": {},
   "outputs": [
    {
     "name": "stdout",
     "output_type": "stream",
     "text": [
      "1\n",
      "2\n",
      "3\n"
     ]
    }
   ],
   "source": [
    "iterable = [1, 2, 3]\n",
    "\n",
    "for variable in iterable:\n",
    "    print(variable)"
   ]
  },
  {
   "cell_type": "code",
   "execution_count": 90,
   "metadata": {},
   "outputs": [
    {
     "name": "stdout",
     "output_type": "stream",
     "text": [
      "F\n",
      "r\n",
      "o\n",
      "d\n",
      "o\n"
     ]
    }
   ],
   "source": [
    "for char in \"Frodo\":\n",
    "    print(char)"
   ]
  },
  {
   "cell_type": "code",
   "execution_count": 94,
   "metadata": {},
   "outputs": [
    {
     "name": "stdout",
     "output_type": "stream",
     "text": [
      "0\n",
      "1\n",
      "2\n",
      "3\n",
      "4\n",
      "5\n",
      "6\n",
      "7\n",
      "8\n",
      "9\n"
     ]
    }
   ],
   "source": [
    "# Meze v Pythonu: levá meze patří, pravá meze nepatří (od 0 včetně, do 10 výjma)\n",
    "for i in range(0, 10):\n",
    "    print(i)"
   ]
  },
  {
   "cell_type": "code",
   "execution_count": 96,
   "metadata": {},
   "outputs": [
    {
     "name": "stdout",
     "output_type": "stream",
     "text": [
      "0\n",
      "1\n",
      "2\n",
      "3\n",
      "4\n"
     ]
    }
   ],
   "source": [
    "# Vypíše všechny indexy řetězce \"Frodo\"\n",
    "for i in range(len(\"Frodo\")):\n",
    "    print(i)"
   ]
  },
  {
   "cell_type": "code",
   "execution_count": 98,
   "metadata": {},
   "outputs": [],
   "source": [
    "# Nevykonná se, protože pokud by byl krok -1, tak se k 10 nikdy nedostane.\n",
    "for i in range(0, 10, -1):\n",
    "    print(i)"
   ]
  },
  {
   "cell_type": "code",
   "execution_count": 102,
   "metadata": {},
   "outputs": [
    {
     "name": "stdout",
     "output_type": "stream",
     "text": [
      "9\n",
      "8\n",
      "7\n",
      "6\n",
      "5\n",
      "4\n",
      "3\n",
      "2\n",
      "1\n",
      "0\n"
     ]
    }
   ],
   "source": [
    "# Optimalizované řešení\n",
    "# - nefunguje to tak, že by nejprve vygeneroval 0-9, a pak tuto kolekci revertoval\n",
    "for i in reversed(range(0, 10)):\n",
    "    print(i)"
   ]
  },
  {
   "cell_type": "code",
   "execution_count": 104,
   "metadata": {},
   "outputs": [
    {
     "name": "stdout",
     "output_type": "stream",
     "text": [
      "o\n",
      "d\n",
      "o\n",
      "r\n",
      "F\n"
     ]
    }
   ],
   "source": [
    "for char in reversed(\"Frodo\"):\n",
    "    print(char)"
   ]
  },
  {
   "cell_type": "code",
   "execution_count": 106,
   "metadata": {},
   "outputs": [
    {
     "name": "stdout",
     "output_type": "stream",
     "text": [
      "První nepísmenný znak je: '-'\n"
     ]
    }
   ],
   "source": [
    "text = input(\"Zadej text: \")\n",
    "\n",
    "# Specialita Pythonu - cykly mohou mít \"else\" blok\n",
    "# Vykoná se tehdy, když není cyklus předčastně ukončen.\n",
    "for char in text:\n",
    "    if not char.isalpha():\n",
    "        print(f\"První nepísmenný znak je: '{char}'\")\n",
    "        break\n",
    "else:\n",
    "    print(\"Text neobsahuje nepísmenný znak.\")"
   ]
  },
  {
   "cell_type": "code",
   "execution_count": 109,
   "metadata": {},
   "outputs": [
    {
     "name": "stdout",
     "output_type": "stream",
     "text": [
      "Text neobsahuje nepísmenný znak.\n"
     ]
    }
   ],
   "source": [
    "text = input(\"Zadej text: \")\n",
    "\n",
    "contains_alpha_char = False\n",
    "for char in text:\n",
    "    if not char.isalpha():\n",
    "        contains_alpha_char = True\n",
    "        break\n",
    "\n",
    "if contains_alpha_char:\n",
    "    print(f\"První nepísmenný znak je: '{char}'\")\n",
    "else:\n",
    "    print(\"Text neobsahuje nepísmenný znak.\")"
   ]
  },
  {
   "cell_type": "code",
   "execution_count": 120,
   "metadata": {},
   "outputs": [
    {
     "name": "stdout",
     "output_type": "stream",
     "text": [
      "1.25\n"
     ]
    }
   ],
   "source": [
    "# Vyčíslete hodnotu (posloupnost 0 do nekonecna 1/n^2)\n",
    "\n",
    "n = int(input(\"Zadej přirozené číslo: \"))\n",
    "\n",
    "n_sum = 0\n",
    "for i in range(1, n + 1):\n",
    "    n_sum += 1 / (i**2)\n",
    "\n",
    "print(n_sum)"
   ]
  },
  {
   "cell_type": "code",
   "execution_count": 121,
   "metadata": {},
   "outputs": [
    {
     "name": "stdout",
     "output_type": "stream",
     "text": [
      "1.0\n"
     ]
    }
   ],
   "source": [
    "from math import sqrt\n",
    "\n",
    "# from math import * = namespace pollution (nepoužívat)\n",
    "\n",
    "number = float(input(\"Zadej číslo: \"))\n",
    "N = 100\n",
    "\n",
    "for _ in range(N):\n",
    "    number = sqrt(number)\n",
    "\n",
    "print(number)"
   ]
  }
 ],
 "metadata": {
  "kernelspec": {
   "display_name": "Python 3",
   "language": "python",
   "name": "python3"
  },
  "language_info": {
   "codemirror_mode": {
    "name": "ipython",
    "version": 3
   },
   "file_extension": ".py",
   "mimetype": "text/x-python",
   "name": "python",
   "nbconvert_exporter": "python",
   "pygments_lexer": "ipython3",
   "version": "3.12.0"
  }
 },
 "nbformat": 4,
 "nbformat_minor": 2
}
