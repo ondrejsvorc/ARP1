{
 "cells": [
  {
   "cell_type": "code",
   "execution_count": 25,
   "metadata": {},
   "outputs": [],
   "source": [
    "# Vstup a výstup"
   ]
  },
  {
   "cell_type": "code",
   "execution_count": 26,
   "metadata": {},
   "outputs": [],
   "source": [
    "# Souborový vstup a výstup\n",
    "# - textový přístup: komunikace se děje po znacích (v Pythonu se vstup a výstup jeví jako řetězec)\n",
    "# - znak = každý znak je reprezentován číslem, které závisí na znakové sadě\n",
    "\n",
    "# Znaková sada\n",
    "# - = seznam/tabulka znaků, kde pozice/index znaku je jeho reprezentace\n",
    "# - příklad jednoduché znakové sady: A-Z ... 0-25, A = 0, B = 1, ... , Z = 25\n",
    "\n",
    "# ASCII\n",
    "# - 7-bitová znaková sada\n",
    "# - latinská abeceda + číslice + několik desítek speciálních znaků + řídící znaky(netisknutelné - např. odřádkování))\n",
    "# - ASCII reprezentace = 0 až 127\n",
    "\n",
    "# Unicode\n",
    "# - modernější 24-bitová znaková sada (2^24 -> 16 MiB znaků = 16 milionů znaků) - 24-bitový adresový prostor\n",
    "# - reálně je tam méně znaků, ale postupně se rozšiřuje (nyní cca 140 000 znaků)\n",
    "# - obsahuje smajlíky, ...\n",
    "\n",
    "# Číselná reprezentace znaku\n",
    "# - posloupnost bytů\n",
    "# - ASCII => kód je reprezentace uložená jako byte (nejvyšší bit je 0) - \"a\" je číslo 96, to je převedeno binární reprezentaci a nejvyšší bit je 0\n",
    "# - Unicode => neexistuje jediné univerzální kódování\n",
    "# - Unicode index => uložíme jako 32-bitové číslo\n",
    "\n",
    "# UTF-32\n",
    "# - kódování, ne moc používé pro soubory\n",
    "# - výhody: snadná indexaci řetězce\n",
    "# - nevýhody: prostorově náročné (celý prostor není využit), není jednoznačně určeno pořadí bytů v 32-bitovém čísle\n",
    "\n",
    "# Endian\n",
    "# - Big endian: nejvyšší byty jsou na začátku\n",
    "#   - 0001F354 : 00 - 01 - F3 - 54\n",
    "# - Little endian: nejvyšší byty jsou konci (přirozenější pro počítače)\n",
    "#   - 0001F354 : 54 - F3 - 01 - 00\n",
    "# - př.: UTF-32 BE = použij kódování UTF-32 a big endian\n",
    "\n",
    "# UTF-16\n",
    "# - kódování, ukládá se do šestnácti bitů (dva byty)\n",
    "# - BMP (Basic Multilanguage Plane) - (64 KiB znaků, 65536) = běžně používané znaky\n",
    "# - Surrogate pair = složí se ze dvou jinak nepoužívaných 16-bitových znaků; pro běžné texty je kompaktnější\n",
    "\n",
    "# UTF-8\n",
    "# - nejčastěji používané\n",
    "# - nezávisí na endiannes\n",
    "# - kompatibilní s ASCII, kompatibilní se standardní C-knihovnou\n",
    "# - používá 1-6 bitů pro reprezentaci Unicode indexu\n",
    "# - kódování, ve kterém může mít každý znak jiný počet bytů\n",
    "# - pokud se jedná o ASCII znak, tak má 1 byte a vypadá takto: 0XXX-XXXX - všechny ASCII znaky jsou korektně reprezentovány v UTF-8\n",
    "# - 2 byty = 110X-XXXX-10XX-XXXX - 2^11 znaků - 2048 znaků (azbuka, standardní arabské písmo, ...)\n",
    "# - 3 byty = 1110-XXXX-10XX-XXXX-10XX-XXXX - celé BMP"
   ]
  },
  {
   "cell_type": "code",
   "execution_count": 27,
   "metadata": {},
   "outputs": [
    {
     "name": "stdout",
     "output_type": "stream",
     "text": [
      "ģ\n"
     ]
    }
   ],
   "source": [
    "# Unicode, pomocí \\u přistupujeme k prvním 65536 znakům\n",
    "print(\"\\u0123\")"
   ]
  },
  {
   "cell_type": "code",
   "execution_count": 28,
   "metadata": {},
   "outputs": [
    {
     "name": "stdout",
     "output_type": "stream",
     "text": [
      "🍔\n"
     ]
    }
   ],
   "source": [
    "# Unicode, pomocí \\U přistupujeme k dalším znakům\n",
    "print(\"\\U0001F354\")"
   ]
  },
  {
   "cell_type": "code",
   "execution_count": 29,
   "metadata": {},
   "outputs": [],
   "source": [
    "# Základní módy\n",
    "# w - write\n",
    "# wt - write text\n",
    "# wb - write binary\n",
    "\n",
    "\n",
    "# Stream - objekt reprezentující proud znaků, do kterého zapisujeme, a ten se zapisuje do souboru\n",
    "# .write vrací počet zapsaných znaků\n",
    "# .flush - vyprázdní interní buffer\n",
    "\n",
    "stream = open(file=\"1_lecture_10.txt\", mode=\"wt\", encoding=\"UTF-8\")\n",
    "stream.write(\"Hello world!\\n\")\n",
    "stream.write(\"Žluťoučký kůň nežere \\U0001F354\")\n",
    "stream.flush()\n",
    "stream.close()"
   ]
  },
  {
   "cell_type": "code",
   "execution_count": 30,
   "metadata": {},
   "outputs": [
    {
     "ename": "UnicodeEncodeError",
     "evalue": "'ascii' codec can't encode characters in position 0-13: ordinal not in range(128)",
     "output_type": "error",
     "traceback": [
      "\u001b[1;31m---------------------------------------------------------------------------\u001b[0m",
      "\u001b[1;31mUnicodeEncodeError\u001b[0m                        Traceback (most recent call last)",
      "\u001b[1;32mc:\\Users\\ondre\\source\\repos\\git\\UJEP\\APR1\\lectures\\lecture_10\\lecture_10.ipynb Cell 6\u001b[0m line \u001b[0;36m3\n\u001b[0;32m      <a href='vscode-notebook-cell:/c%3A/Users/ondre/source/repos/git/UJEP/APR1/lectures/lecture_10/lecture_10.ipynb#X10sZmlsZQ%3D%3D?line=0'>1</a>\u001b[0m \u001b[39m# Zde lze vidět, že nelze zapsat do souboru s kódováním ASCII české znaky, protože je sada ASCII neexistuje\u001b[39;00m\n\u001b[0;32m      <a href='vscode-notebook-cell:/c%3A/Users/ondre/source/repos/git/UJEP/APR1/lectures/lecture_10/lecture_10.ipynb#X10sZmlsZQ%3D%3D?line=1'>2</a>\u001b[0m stream \u001b[39m=\u001b[39m \u001b[39mopen\u001b[39m(file\u001b[39m=\u001b[39m\u001b[39m\"\u001b[39m\u001b[39m2_lecture_10.txt\u001b[39m\u001b[39m\"\u001b[39m, mode\u001b[39m=\u001b[39m\u001b[39m\"\u001b[39m\u001b[39mwt\u001b[39m\u001b[39m\"\u001b[39m, encoding\u001b[39m=\u001b[39m\u001b[39m\"\u001b[39m\u001b[39mASCII\u001b[39m\u001b[39m\"\u001b[39m)\n\u001b[1;32m----> <a href='vscode-notebook-cell:/c%3A/Users/ondre/source/repos/git/UJEP/APR1/lectures/lecture_10/lecture_10.ipynb#X10sZmlsZQ%3D%3D?line=2'>3</a>\u001b[0m stream\u001b[39m.\u001b[39;49mwrite(\u001b[39m\"\u001b[39;49m\u001b[39mŘČŽÝÍĚŠÉÉŘČÉÍÁ\u001b[39;49m\u001b[39m\"\u001b[39;49m)\n\u001b[0;32m      <a href='vscode-notebook-cell:/c%3A/Users/ondre/source/repos/git/UJEP/APR1/lectures/lecture_10/lecture_10.ipynb#X10sZmlsZQ%3D%3D?line=3'>4</a>\u001b[0m stream\u001b[39m.\u001b[39mflush()\n\u001b[0;32m      <a href='vscode-notebook-cell:/c%3A/Users/ondre/source/repos/git/UJEP/APR1/lectures/lecture_10/lecture_10.ipynb#X10sZmlsZQ%3D%3D?line=4'>5</a>\u001b[0m stream\u001b[39m.\u001b[39mclose()\n",
      "\u001b[1;31mUnicodeEncodeError\u001b[0m: 'ascii' codec can't encode characters in position 0-13: ordinal not in range(128)"
     ]
    }
   ],
   "source": [
    "# Zde lze vidět, že nelze zapsat do souboru s kódováním ASCII české znaky, protože je sada ASCII neexistuje\n",
    "stream = open(file=\"2_lecture_10.txt\", mode=\"wt\", encoding=\"ASCII\")\n",
    "stream.write(\"ŘČŽÝÍĚŠÉÉŘČÉÍÁ\")\n",
    "stream.flush()\n",
    "stream.close()"
   ]
  },
  {
   "cell_type": "code",
   "execution_count": 31,
   "metadata": {},
   "outputs": [],
   "source": [
    "stream = open(file=\"3_lecture_10.txt\", mode=\"wt\", encoding=\"UTF-16 BE\")\n",
    "stream.write(\"ŘČŽÝÍĚŠÉÉŘČÉÍÁ\")\n",
    "stream.flush()\n",
    "stream.close()"
   ]
  },
  {
   "cell_type": "code",
   "execution_count": 32,
   "metadata": {},
   "outputs": [],
   "source": [
    "stream = open(file=\"4_lecture_10.txt\", mode=\"wt\", encoding=\"UTF-16 LE\")\n",
    "stream.write(\"ŘČŽÝÍĚŠÉÉŘČÉÍÁ\")\n",
    "stream.flush()\n",
    "stream.close()"
   ]
  },
  {
   "cell_type": "code",
   "execution_count": 38,
   "metadata": {},
   "outputs": [
    {
     "name": "stdout",
     "output_type": "stream",
     "text": [
      "Hello world!\n",
      "Žluťoučký kůň nežere 🍔\n"
     ]
    }
   ],
   "source": [
    "stream = open(file=\"lecture_10.txt\", mode=\"rt\", encoding=\"UTF-8\")\n",
    "text = stream.read()\n",
    "print(text)\n",
    "stream.close()"
   ]
  },
  {
   "cell_type": "code",
   "execution_count": 40,
   "metadata": {},
   "outputs": [
    {
     "name": "stdout",
     "output_type": "stream",
     "text": [
      "H\n",
      "e\n"
     ]
    }
   ],
   "source": [
    "stream = open(file=\"lecture_10.txt\", mode=\"rt\", encoding=\"UTF-8\")\n",
    "character = stream.read(1)\n",
    "print(character)\n",
    "character = stream.read(1)\n",
    "print(character)\n",
    "stream.close()"
   ]
  },
  {
   "cell_type": "code",
   "execution_count": 41,
   "metadata": {},
   "outputs": [
    {
     "name": "stdout",
     "output_type": "stream",
     "text": [
      "H\n",
      "e\n",
      "l\n",
      "l\n",
      "o\n",
      " \n",
      "w\n",
      "o\n",
      "r\n",
      "l\n",
      "d\n",
      "!\n",
      "\n",
      "\n",
      "Ž\n",
      "l\n",
      "u\n",
      "ť\n",
      "o\n",
      "u\n",
      "č\n",
      "k\n",
      "ý\n",
      " \n",
      "k\n",
      "ů\n",
      "ň\n",
      " \n",
      "n\n",
      "e\n",
      "ž\n",
      "e\n",
      "r\n",
      "e\n",
      " \n",
      "🍔\n"
     ]
    }
   ],
   "source": [
    "# Je-li řetězec příliš velký, může přetéct RAM paměť - což se vlastně nestane, začne swapovat (ukládat na disk), ale to zpomalí aplikaci\n",
    "# tak moc, že je to téměř nepoužitelné (de facto i toto by mohl být typ útoku - někdo nám tam nahraje velký soubor, my se ho pokusíme\n",
    "# přečíst najednou úplně celý, a najednou problém)\n",
    "\n",
    "stream = open(file=\"lecture_10.txt\", mode=\"rt\", encoding=\"UTF-8\")\n",
    "character = stream.read(1)\n",
    "while character:\n",
    "    print(character)\n",
    "    character = stream.read(1)\n",
    "stream.close()"
   ]
  },
  {
   "cell_type": "code",
   "execution_count": 44,
   "metadata": {},
   "outputs": [
    {
     "name": "stdout",
     "output_type": "stream",
     "text": [
      "Hell\n",
      "o wo\n",
      "rld!\n"
     ]
    }
   ],
   "source": [
    "stream = open(file=\"lecture_10.txt\", mode=\"rt\", encoding=\"UTF-8\")\n",
    "characters1 = stream.read(4)\n",
    "characters2 = stream.read(4)\n",
    "characters3 = stream.read(4)\n",
    "print(characters1)\n",
    "print(characters2)\n",
    "print(characters3)\n",
    "stream.close()"
   ]
  },
  {
   "cell_type": "code",
   "execution_count": 45,
   "metadata": {},
   "outputs": [
    {
     "name": "stdout",
     "output_type": "stream",
     "text": [
      "Hello world!\n",
      "\n",
      "Žluťoučký kůň nežere 🍔\n"
     ]
    }
   ],
   "source": [
    "# Opět nebezpečí příliš dlouhého řádku (př.: řídíme dron, říkáme mu, co dělat a najednou se na něj připojí někdo jiný a pošle 1 GB řádek)\n",
    "\n",
    "stream = open(file=\"lecture_10.txt\", mode=\"rt\", encoding=\"UTF-8\")\n",
    "line1 = stream.readline()\n",
    "line2 = stream.readline()\n",
    "print(line1)\n",
    "print(line2)\n",
    "stream.close()"
   ]
  },
  {
   "cell_type": "code",
   "execution_count": 47,
   "metadata": {},
   "outputs": [
    {
     "name": "stdout",
     "output_type": "stream",
     "text": [
      "Hello world!\n",
      "Žluťoučký kůň nežere 🍔\n"
     ]
    }
   ],
   "source": [
    "stream = open(file=\"lecture_10.txt\", mode=\"rt\", encoding=\"UTF-8\")\n",
    "\n",
    "# Lenivý seznam - čte se postupně, nenačítají se všechny řádky naráz do paměti\n",
    "for line in stream:\n",
    "    print(line.strip())\n",
    "stream.close()"
   ]
  },
  {
   "cell_type": "code",
   "execution_count": 52,
   "metadata": {},
   "outputs": [
    {
     "name": "stdout",
     "output_type": "stream",
     "text": [
      "Hello world!\n"
     ]
    }
   ],
   "source": [
    "# Přístup s open() a close() vytváří problém\n",
    "# Pokud vyskočím z metody, soubor se nikdy nezavře\n",
    "# Musel bych ho zavírat při každém výskoku (duplicitní kód)\n",
    "def print_file_content(path, end_line):\n",
    "    stream = open(file=path, mode=\"rt\", encoding=\"UTF-8\")\n",
    "    for line in stream:\n",
    "        line = line.strip()\n",
    "        if line == end_line:\n",
    "            print(line)\n",
    "            return\n",
    "        print(line)\n",
    "    stream.close()\n",
    "\n",
    "\n",
    "print_file_content(\"lecture_10.txt\", \"Hello world!\")"
   ]
  },
  {
   "cell_type": "code",
   "execution_count": 53,
   "metadata": {},
   "outputs": [
    {
     "name": "stdout",
     "output_type": "stream",
     "text": [
      "Hello world!\n",
      "Žluťoučký kůň nežere 🍔\n"
     ]
    }
   ],
   "source": [
    "# Klíčové slovo with řeší všechny problémy výše (principielně )\n",
    "# Na pozadí se volá:\n",
    "# - stream.__entry__ (vstup do kontextu),\n",
    "# - stream.__exit__ (výstup z kontextu, vždy zavolá interně .close(), a close() interně zavolá zároveň i .flush())\n",
    "with open(file=\"lecture_10.txt\", mode=\"rt\", encoding=\"UTF-8\") as stream:\n",
    "    # stream.__entry__\n",
    "    print(stream.read())\n",
    "    # stream.__exit__"
   ]
  }
 ],
 "metadata": {
  "kernelspec": {
   "display_name": "Python 3",
   "language": "python",
   "name": "python3"
  },
  "language_info": {
   "codemirror_mode": {
    "name": "ipython",
    "version": 3
   },
   "file_extension": ".py",
   "mimetype": "text/x-python",
   "name": "python",
   "nbconvert_exporter": "python",
   "pygments_lexer": "ipython3",
   "version": "3.12.0"
  }
 },
 "nbformat": 4,
 "nbformat_minor": 2
}
