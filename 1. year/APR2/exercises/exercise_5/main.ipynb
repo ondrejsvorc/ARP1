{
 "cells": [
  {
   "cell_type": "code",
   "execution_count": null,
   "metadata": {},
   "outputs": [],
   "source": [
    "# Insertion sort\n",
    "# - vezmu prvek a hledám kam bych ho vložil\n",
    "# - na začátku si rozdělí pole na 2 části = na část, kterou prohlásí za setřízenou a nesetřízenou\n",
    "# - vezme vždy 1. prvek nesetřízené části a porovnává ji s prvky té setřízené (pokud je tento prvek menší, vymění si pozice, a tak stále dokola, než se dostane na správné místo)\n",
    "# - řeší, jestli to, co je před prvkem, je menší = pokud menší není, potřebuje ho dostat před něj (vyměnit si místo)"
   ]
  },
  {
   "cell_type": "code",
   "execution_count": 20,
   "metadata": {},
   "outputs": [
    {
     "name": "stdout",
     "output_type": "stream",
     "text": [
      "[0, 1, 1, 2, 2, 3, 3, 4, 5]\n"
     ]
    }
   ],
   "source": [
    "def insertion_sort(sequence: list):\n",
    "    # [0] prvek je setříděný, proto začínáme až od [1] prvku\n",
    "    for i in range(1, len(sequence)):\n",
    "        # [i] prvek, který chci zařadit uložíme do paměti (v první iteraci [1] prvek)\n",
    "        item = sequence[i]\n",
    "        # Uložím si předchozí prvek (v první iteraci [0] prvek)\n",
    "        j = i - 1\n",
    "        # Dokud nějaký předchozí prvek existuje a zároveň je větší než prvek v paměti, který chci zařadit:\n",
    "        while j >= 0 and sequence[j] > item:\n",
    "            # Posuň předchozí prvek o jednu pozici doprava\n",
    "            sequence[j + 1] = sequence[j]\n",
    "            # Posuň se k dalšímu předchozímu prvku\n",
    "            j -= 1\n",
    "        # Umísti prvek z paměti na jeho správné místo v setříděné části seznamu\n",
    "        sequence[j + 1] = item\n",
    "\n",
    "\n",
    "sequence = [1, 4, 2, 3, 5, 1, 0, 3, 2]\n",
    "insertion_sort(sequence)\n",
    "print(sequence)"
   ]
  },
  {
   "cell_type": "code",
   "execution_count": null,
   "metadata": {},
   "outputs": [],
   "source": [
    "# Merge sort\n",
    "# najdeme si prostředník index a rozsekám si kolekci na dvě poloviny\n",
    "# poloviny rozsekám opět na polovinu\n",
    "# tento postup opakuju, než seznamy rozsekám na seznamy s jedním prvkem\n",
    "# následuje slučování"
   ]
  },
  {
   "cell_type": "code",
   "execution_count": null,
   "metadata": {},
   "outputs": [],
   "source": [
    "def merge_sort(sequence: list):\n",
    "    pass"
   ]
  },
  {
   "cell_type": "code",
   "execution_count": null,
   "metadata": {},
   "outputs": [],
   "source": [
    "# Counting sort\n",
    "# - https://www.geeksforgeeks.org/counting-sort/\n",
    "# - https://www.programiz.com/dsa/counting-sort\n",
    "# - špatně na algoritmy.net\n",
    "# - nefunguje na záporná čísla\n",
    "# - máme seznam, který chceme seřadit\n",
    "# - najdu si největší prvek\n",
    "# - udělám si countArray (spočítám si kolikrát se v seznamu nachází prvky 0,1,2,3,... - index je konkrétní číslo, hodnota je kolikrát se nachází v kolekci)\n",
    "# - přetransformuju countArray na cummulativeArray\n",
    "\n",
    "# Začneme odzadu - podívám se na komulativní sumu daného prvku - ta mi řekne, kam prvek umístit (snížím danou hodnotu o jedna)"
   ]
  },
  {
   "cell_type": "code",
   "execution_count": 36,
   "metadata": {},
   "outputs": [
    {
     "name": "stdout",
     "output_type": "stream",
     "text": [
      "[0, 0, 1, 1, 2, 2, 3, 3, 4, 5]\n"
     ]
    }
   ],
   "source": [
    "def counting_sort(sequence: list):\n",
    "    # Index count_array odpovídá prvku sequence\n",
    "    counts = [0 for _ in range(max(sequence) + 1)]\n",
    "    for i in range(len(sequence)):\n",
    "        counts[sequence[i]] += 1\n",
    "\n",
    "    # Kumulativní součet\n",
    "    # Nultý prvek kumulativního součtu je počet výskytů nuly (pokud tam není, počet výskytů je nula)\n",
    "    sums = [counts[0]]\n",
    "    for i in range(1, len(counts)):\n",
    "        # Při první iteraci vezme nultý prvek kumulativního součtu a přidá k němu prvek z count_array (viz obrázek)\n",
    "        # Tím dělá komulativní součet (prvek komulativního součtu + prvek)\n",
    "        sums.append(sums[i - 1] + counts[i])\n",
    "\n",
    "    result = [0 for _ in range(len(sequence))]\n",
    "    for i in range(len(sequence) - 1, -1, -1):\n",
    "        result[sums[sequence[i]] - 1] = sequence[i]\n",
    "        sums[sequence[i]] -= 1\n",
    "\n",
    "    return result\n",
    "\n",
    "\n",
    "sequence = [1, 4, 2, 3, 5, 1, 0, 0, 3, 2]\n",
    "sequence = counting_sort(sequence)\n",
    "print(sequence)"
   ]
  },
  {
   "cell_type": "markdown",
   "metadata": {},
   "source": [
    "![title](counting_sort.png)"
   ]
  },
  {
   "cell_type": "code",
   "execution_count": null,
   "metadata": {},
   "outputs": [],
   "source": [
    "# Bucket sort\n",
    "# - efektivní pro třídění desetinných čísel\n",
    "# - př.: 0.72, vynásobím 10 (a budu tak ), 7.2, dám na index 7\n",
    "# - do kýblů si naházím takto prvky (např. 0.78 a 0.72 budou oba na na indexu 7)\n",
    "# - každý s kýblů seřadím (použiju další algoritmus - např. hodně dat: quick sort / merge sort, málo dat bubble sort, ...)\n",
    "# - připojím obsahy kýblů k sobě - mám to seřazené"
   ]
  }
 ],
 "metadata": {
  "kernelspec": {
   "display_name": "Python 3",
   "language": "python",
   "name": "python3"
  },
  "language_info": {
   "codemirror_mode": {
    "name": "ipython",
    "version": 3
   },
   "file_extension": ".py",
   "mimetype": "text/x-python",
   "name": "python",
   "nbconvert_exporter": "python",
   "pygments_lexer": "ipython3",
   "version": "3.12.0"
  }
 },
 "nbformat": 4,
 "nbformat_minor": 2
}
