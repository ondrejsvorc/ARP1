{
 "cells": [
  {
   "cell_type": "code",
   "execution_count": null,
   "metadata": {},
   "outputs": [],
   "source": [
    "# Bubble Sort\n",
    "# Je prvek vlevo menší než v pravo? prohodím (pro řazení od nejmenšího po největší)\n",
    "# Je prvek vlevo větší než v pravo? prohodím (pro řazení od největšího po nejmenší)"
   ]
  },
  {
   "cell_type": "code",
   "execution_count": 28,
   "metadata": {},
   "outputs": [
    {
     "name": "stdout",
     "output_type": "stream",
     "text": [
      "[1, 2, 3, 4, 5, 6]\n"
     ]
    }
   ],
   "source": [
    "from typing import List\n",
    "\n",
    "\n",
    "def bubble_sort(list: List[int]):\n",
    "    sorted = True\n",
    "    for i in range(len(list)):\n",
    "        for j in range(len(list) - 1 - i):\n",
    "            if list[j] > list[j + 1]:\n",
    "                list[j], list[j + 1] = list[j + 1], list[j]\n",
    "                sorted = False\n",
    "        if sorted:\n",
    "            break\n",
    "\n",
    "\n",
    "list = [5, 1, 3, 2, 4, 6]\n",
    "bubble_sort(list)\n",
    "print(list)"
   ]
  },
  {
   "cell_type": "code",
   "execution_count": null,
   "metadata": {},
   "outputs": [],
   "source": [
    "# Exchange Sort\n",
    "# Hledám největší/nejmenší extrém - jakmile ho najdu, dám ho na správné místo (za poslední největší/nejmenší extrém)"
   ]
  },
  {
   "cell_type": "code",
   "execution_count": 57,
   "metadata": {},
   "outputs": [
    {
     "name": "stdout",
     "output_type": "stream",
     "text": [
      "[1, 2, 3, 4, 5, 6]\n"
     ]
    }
   ],
   "source": [
    "from typing import List\n",
    "\n",
    "\n",
    "def exchange_sort(list: List[int]):\n",
    "    for i in range(len(list) - 1):\n",
    "        index_extreme = i\n",
    "        for j in range(i + 1, len(list)):\n",
    "            if list[j] < list[index_extreme]:\n",
    "                index_extreme = j\n",
    "        list[i], list[index_extreme] = list[index_extreme], list[i]\n",
    "\n",
    "\n",
    "list = [5, 1, 3, 2, 4, 6]\n",
    "exchange_sort(list)\n",
    "print(list)"
   ]
  },
  {
   "cell_type": "code",
   "execution_count": 60,
   "metadata": {},
   "outputs": [
    {
     "name": "stdout",
     "output_type": "stream",
     "text": [
      "120\n"
     ]
    }
   ],
   "source": [
    "# Rekurze\n",
    "# factorial(5)\n",
    "# 5 * factorial(4) = 5 * 24 = 120\n",
    "# 4 * factorial(3) = 4 * 6 = 24\n",
    "# 3 * factorial(2) = 3 * 2 = 6\n",
    "\n",
    "\n",
    "def factorial(n):\n",
    "    if n == 2:\n",
    "        return n\n",
    "    return n * factorial(n - 1)\n",
    "\n",
    "\n",
    "print(factorial(5))"
   ]
  },
  {
   "cell_type": "code",
   "execution_count": 75,
   "metadata": {},
   "outputs": [
    {
     "data": {
      "text/plain": [
       "5"
      ]
     },
     "execution_count": 75,
     "metadata": {},
     "output_type": "execute_result"
    }
   ],
   "source": [
    "# Principielně vlastně rekurentní zadání, kde definujeme, první dva prvky, aby šlo vypočítat ty další\n",
    "def fib(n):\n",
    "    if n == 0 or n == 1:\n",
    "        return n\n",
    "    return fib(n - 2) + fib(n - 1)\n",
    "\n",
    "\n",
    "fib(5)"
   ]
  },
  {
   "cell_type": "code",
   "execution_count": 70,
   "metadata": {},
   "outputs": [
    {
     "data": {
      "text/plain": [
       "5"
      ]
     },
     "execution_count": 70,
     "metadata": {},
     "output_type": "execute_result"
    }
   ],
   "source": [
    "# Kratší lambda zápis\n",
    "fib = lambda n: fib(n - 1) + fib(n - 2) if n > 1 else n\n",
    "fib(5)"
   ]
  },
  {
   "cell_type": "code",
   "execution_count": 86,
   "metadata": {},
   "outputs": [
    {
     "name": "stdout",
     "output_type": "stream",
     "text": [
      "[0, 1, 1, 1, 2, 2, 2, 3, 3, 3, 4, 5]\n"
     ]
    }
   ],
   "source": [
    "# Quicksort\n",
    "# Na počátku si vybereme prvek, který bude pivot (buď úplně vlevo nebo úplně vpravo nejčastěji)\n",
    "# výsledek levého quicksortu, pivot, výsledek pravého quicksortu\n",
    "\n",
    "\n",
    "def quicksort(list):\n",
    "    if len(list) < 2:\n",
    "        return list\n",
    "    pivot = list[0]\n",
    "    less_than_pivot = [x for x in list[1:] if x <= pivot]\n",
    "    more_than_pivot = [x for x in list[1:] if x > pivot]\n",
    "    return quicksort(less_than_pivot) + [pivot] + quicksort(more_than_pivot)\n",
    "\n",
    "\n",
    "list = [1, 2, 3, 1, 4, 2, 3, 5, 1, 0, 3, 2]\n",
    "list = quicksort(list)\n",
    "print(list)"
   ]
  }
 ],
 "metadata": {
  "kernelspec": {
   "display_name": "Python 3",
   "language": "python",
   "name": "python3"
  },
  "language_info": {
   "codemirror_mode": {
    "name": "ipython",
    "version": 3
   },
   "file_extension": ".py",
   "mimetype": "text/x-python",
   "name": "python",
   "nbconvert_exporter": "python",
   "pygments_lexer": "ipython3",
   "version": "3.12.0"
  }
 },
 "nbformat": 4,
 "nbformat_minor": 2
}
