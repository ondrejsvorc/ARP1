{
 "cells": [
  {
   "cell_type": "code",
   "execution_count": 4,
   "metadata": {},
   "outputs": [],
   "source": [
    "from megatherion import DataFrame"
   ]
  },
  {
   "cell_type": "code",
   "execution_count": 5,
   "metadata": {},
   "outputs": [],
   "source": [
    "from IPython.core.display import HTML"
   ]
  },
  {
   "cell_type": "code",
   "execution_count": 6,
   "metadata": {},
   "outputs": [
    {
     "name": "stdout",
     "output_type": "stream",
     "text": [
      "numbers      texts        mixed       \n",
      "           1 ahoj         2           \n",
      "           3 svete        a           \n",
      "         2.3 n/a          n/a         \n"
     ]
    }
   ],
   "source": [
    "df = DataFrame.read_json(\"data.json\")\n",
    "print(df)"
   ]
  },
  {
   "cell_type": "code",
   "execution_count": 7,
   "metadata": {},
   "outputs": [
    {
     "name": "stdout",
     "output_type": "stream",
     "text": [
      "\n",
      "        <style>\n",
      "        .dataframe {\n",
      "            border-collapse: collapse;\n",
      "        }\n",
      "        .dataframe th, .dataframe td {\n",
      "            border: 1px solid black;\n",
      "            padding: 5px;\n",
      "        }\n",
      "        .numeric {\n",
      "            text-align: right;\n",
      "        }\n",
      "        </style>\n",
      "        \n",
      "<table class='dataframe'>\n",
      "<tr><th>numbers</th><th>texts</th><th>mixed</th></tr>\n",
      "<tr><td class='numeric'>1.0</td><td>ahoj</td><td>2</td></tr>\n",
      "<tr><td class='numeric'>3.0</td><td>svete</td><td>a</td></tr>\n",
      "<tr><td class='numeric'>2.3</td><td>NaN</td><td>NaN</td></tr>\n",
      "</table>\n"
     ]
    }
   ],
   "source": [
    "html = df.to_html(\"test.html\")\n",
    "print(html)"
   ]
  },
  {
   "cell_type": "code",
   "execution_count": 8,
   "metadata": {},
   "outputs": [
    {
     "data": {
      "text/html": [
       "\n",
       "        <style>\n",
       "        .dataframe {\n",
       "            border-collapse: collapse;\n",
       "        }\n",
       "        .dataframe th, .dataframe td {\n",
       "            border: 1px solid black;\n",
       "            padding: 5px;\n",
       "        }\n",
       "        .numeric {\n",
       "            text-align: right;\n",
       "        }\n",
       "        </style>\n",
       "        \n",
       "<table class='dataframe'>\n",
       "<tr><th>numbers</th><th>texts</th><th>mixed</th></tr>\n",
       "<tr><td class='numeric'>1.0</td><td>ahoj</td><td>2</td></tr>\n",
       "<tr><td class='numeric'>3.0</td><td>svete</td><td>a</td></tr>\n",
       "<tr><td class='numeric'>2.3</td><td>NaN</td><td>NaN</td></tr>\n",
       "</table>"
      ],
      "text/plain": [
       "<IPython.core.display.HTML object>"
      ]
     },
     "metadata": {},
     "output_type": "display_data"
    }
   ],
   "source": [
    "display(HTML(html))"
   ]
  },
  {
   "cell_type": "code",
   "execution_count": 2,
   "metadata": {},
   "outputs": [
    {
     "name": "stdout",
     "output_type": "stream",
     "text": [
      "Original DataFrame:\n",
      "   col1 col2  col3\n",
      "0     1  xxx     5\n",
      "1     2    4     6\n",
      "\n",
      "Transposed DataFrame:\n",
      "        0  1\n",
      "col1    1  2\n",
      "col2  xxx  4\n",
      "col3    5  6\n"
     ]
    }
   ],
   "source": [
    "import pandas as pd\n",
    "\n",
    "# Create the original DataFrame\n",
    "d1 = {\"col1\": [1, 2], \"col2\": [\"xxx\", 4], \"col3\": [5, 6]}\n",
    "df1 = pd.DataFrame(data=d1)\n",
    "\n",
    "# Show the original DataFrame\n",
    "print(\"Original DataFrame:\")\n",
    "print(df1)\n",
    "\n",
    "# Transpose the DataFrame\n",
    "df1_transposed = df1.transpose()\n",
    "\n",
    "# Show the transposed DataFrame\n",
    "print(\"\\nTransposed DataFrame:\")\n",
    "print(df1_transposed)"
   ]
  }
 ],
 "metadata": {
  "kernelspec": {
   "display_name": "Python 3",
   "language": "python",
   "name": "python3"
  },
  "language_info": {
   "codemirror_mode": {
    "name": "ipython",
    "version": 3
   },
   "file_extension": ".py",
   "mimetype": "text/x-python",
   "name": "python",
   "nbconvert_exporter": "python",
   "pygments_lexer": "ipython3",
   "version": "3.12.0"
  }
 },
 "nbformat": 4,
 "nbformat_minor": 2
}
